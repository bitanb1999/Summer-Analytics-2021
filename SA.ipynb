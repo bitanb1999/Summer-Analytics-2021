{
  "nbformat": 4,
  "nbformat_minor": 0,
  "metadata": {
    "colab": {
      "name": "SA.ipynb",
      "provenance": [],
      "authorship_tag": "ABX9TyPjdw3Y9gXagnGPN6GKREos",
      "include_colab_link": true
    },
    "kernelspec": {
      "name": "python3",
      "display_name": "Python 3"
    },
    "language_info": {
      "name": "python"
    }
  },
  "cells": [
    {
      "cell_type": "markdown",
      "metadata": {
        "id": "view-in-github",
        "colab_type": "text"
      },
      "source": [
        "<a href=\"https://colab.research.google.com/github/bitanb1999/Summer-Analytics-2021/blob/main/SA.ipynb\" target=\"_parent\"><img src=\"https://colab.research.google.com/assets/colab-badge.svg\" alt=\"Open In Colab\"/></a>"
      ]
    },
    {
      "cell_type": "markdown",
      "metadata": {
        "id": "DkL3m_qe_Y3H"
      },
      "source": [
        "##Summer Analytics Capstone Project"
      ]
    },
    {
      "cell_type": "markdown",
      "metadata": {
        "id": "9LIH8WFC_f3K"
      },
      "source": [
        "####Pre-requisites"
      ]
    },
    {
      "cell_type": "code",
      "metadata": {
        "id": "7vhmBkiz_cO0"
      },
      "source": [
        "import numpy as np\n",
        "import scipy.stats\n",
        "import scipy.special\n",
        "import matplotlib\n",
        "import matplotlib.pyplot as plt\n",
        "import matplotlib.mlab as mlab\n",
        "from matplotlib import cm\n",
        "import pandas as pd\n",
        "from sklearn.pipeline import make_pipeline, make_union, Pipeline\n",
        "from sklearn.preprocessing import StandardScaler, OrdinalEncoder\n",
        "from sklearn.metrics import mean_squared_error\n",
        "from sklearn.ensemble import GradientBoostingRegressor\n",
        "from sklearn.model_selection import ParameterGrid\n",
        "from sklearn.model_selection import train_test_split\n",
        "from sklearn.metrics import mean_squared_error\n",
        "from math import sqrt\n",
        "from keras.models import Sequential\n",
        "from keras.models import Model as KerasModel\n",
        "from keras.layers import Input, Dense, Activation, Reshape\n",
        "from keras.layers import Concatenate\n",
        "from keras.layers.embeddings import Embedding\n",
        "from sklearn.ensemble import RandomForestRegressor\n",
        "from sklearn import linear_model\n",
        "import pickle\n",
        "import csv\n",
        "from datetime import datetime\n",
        "from sklearn import preprocessing\n",
        "from keras.callbacks import ModelCheckpoint\n",
        "import xgboost as xgb\n",
        "from sklearn.preprocessing import OneHotEncoder\n",
        "\n",
        "#Pipeline\n",
        "from sklearn.pipeline import make_pipeline\n",
        "from sklearn.compose import make_column_transformer\n",
        "\n",
        "#For Missing Value and Feature Engineering\n",
        "from sklearn.feature_selection import SelectKBest, chi2, f_classif, VarianceThreshold\n",
        "from sklearn.impute import SimpleImputer, KNNImputer, MissingIndicator\n",
        "from sklearn.preprocessing import KBinsDiscretizer, LabelEncoder, MinMaxScaler\n",
        "from sklearn.decomposition import PCA\n",
        "\n",
        "from sklearn.ensemble import RandomForestClassifier, ExtraTreesClassifier\n",
        "from xgboost import XGBClassifier\n",
        "\n",
        "import time\n",
        "import seaborn as sns\n",
        "%matplotlib inline"
      ],
      "execution_count": 33,
      "outputs": []
    },
    {
      "cell_type": "code",
      "metadata": {
        "id": "mua3nQKn_9bs"
      },
      "source": [
        "## getting the data\n",
        "train=pd.read_csv(\"/content/Train_Data.csv\")\n",
        "test=pd.read_csv(\"/content/Test_Data.csv\")"
      ],
      "execution_count": 18,
      "outputs": []
    },
    {
      "cell_type": "code",
      "metadata": {
        "colab": {
          "base_uri": "https://localhost:8080/",
          "height": 203
        },
        "id": "GszydzF0DFTG",
        "outputId": "eddadce8-b247-434c-f609-f1430ab43c26"
      },
      "source": [
        "train.head()"
      ],
      "execution_count": 4,
      "outputs": [
        {
          "output_type": "execute_result",
          "data": {
            "text/html": [
              "<div>\n",
              "<style scoped>\n",
              "    .dataframe tbody tr th:only-of-type {\n",
              "        vertical-align: middle;\n",
              "    }\n",
              "\n",
              "    .dataframe tbody tr th {\n",
              "        vertical-align: top;\n",
              "    }\n",
              "\n",
              "    .dataframe thead th {\n",
              "        text-align: right;\n",
              "    }\n",
              "</style>\n",
              "<table border=\"1\" class=\"dataframe\">\n",
              "  <thead>\n",
              "    <tr style=\"text-align: right;\">\n",
              "      <th></th>\n",
              "      <th>date</th>\n",
              "      <th>campaign</th>\n",
              "      <th>adgroup</th>\n",
              "      <th>ad</th>\n",
              "      <th>impressions</th>\n",
              "      <th>clicks</th>\n",
              "      <th>cost</th>\n",
              "      <th>conversions</th>\n",
              "      <th>revenue</th>\n",
              "    </tr>\n",
              "  </thead>\n",
              "  <tbody>\n",
              "    <tr>\n",
              "      <th>0</th>\n",
              "      <td>01-08-2020</td>\n",
              "      <td>campaign 1</td>\n",
              "      <td>adgroup 1</td>\n",
              "      <td>ad 1</td>\n",
              "      <td>24</td>\n",
              "      <td>6</td>\n",
              "      <td>0.08</td>\n",
              "      <td>0</td>\n",
              "      <td>0.00</td>\n",
              "    </tr>\n",
              "    <tr>\n",
              "      <th>1</th>\n",
              "      <td>01-08-2020</td>\n",
              "      <td>campaign 1</td>\n",
              "      <td>adgroup 2</td>\n",
              "      <td>ad 1</td>\n",
              "      <td>1</td>\n",
              "      <td>0</td>\n",
              "      <td>0.00</td>\n",
              "      <td>0</td>\n",
              "      <td>0.00</td>\n",
              "    </tr>\n",
              "    <tr>\n",
              "      <th>2</th>\n",
              "      <td>01-08-2020</td>\n",
              "      <td>campaign 1</td>\n",
              "      <td>adgroup 3</td>\n",
              "      <td>ad 1</td>\n",
              "      <td>13</td>\n",
              "      <td>4</td>\n",
              "      <td>0.04</td>\n",
              "      <td>0</td>\n",
              "      <td>0.00</td>\n",
              "    </tr>\n",
              "    <tr>\n",
              "      <th>3</th>\n",
              "      <td>01-08-2020</td>\n",
              "      <td>campaign 1</td>\n",
              "      <td>adgroup 4</td>\n",
              "      <td>ad 1</td>\n",
              "      <td>5</td>\n",
              "      <td>4</td>\n",
              "      <td>0.08</td>\n",
              "      <td>0</td>\n",
              "      <td>0.00</td>\n",
              "    </tr>\n",
              "    <tr>\n",
              "      <th>4</th>\n",
              "      <td>01-08-2020</td>\n",
              "      <td>campaign 1</td>\n",
              "      <td>adgroup 1</td>\n",
              "      <td>ad 2</td>\n",
              "      <td>247</td>\n",
              "      <td>126</td>\n",
              "      <td>1.29</td>\n",
              "      <td>4</td>\n",
              "      <td>925.71</td>\n",
              "    </tr>\n",
              "  </tbody>\n",
              "</table>\n",
              "</div>"
            ],
            "text/plain": [
              "         date    campaign    adgroup    ad  ...  clicks  cost  conversions  revenue\n",
              "0  01-08-2020  campaign 1  adgroup 1  ad 1  ...       6  0.08            0     0.00\n",
              "1  01-08-2020  campaign 1  adgroup 2  ad 1  ...       0  0.00            0     0.00\n",
              "2  01-08-2020  campaign 1  adgroup 3  ad 1  ...       4  0.04            0     0.00\n",
              "3  01-08-2020  campaign 1  adgroup 4  ad 1  ...       4  0.08            0     0.00\n",
              "4  01-08-2020  campaign 1  adgroup 1  ad 2  ...     126  1.29            4   925.71\n",
              "\n",
              "[5 rows x 9 columns]"
            ]
          },
          "metadata": {
            "tags": []
          },
          "execution_count": 4
        }
      ]
    },
    {
      "cell_type": "code",
      "metadata": {
        "colab": {
          "base_uri": "https://localhost:8080/",
          "height": 203
        },
        "id": "V8OlKLBtDH_T",
        "outputId": "123de661-0a43-428d-81cf-01eb229a464d"
      },
      "source": [
        "test.head()"
      ],
      "execution_count": 5,
      "outputs": [
        {
          "output_type": "execute_result",
          "data": {
            "text/html": [
              "<div>\n",
              "<style scoped>\n",
              "    .dataframe tbody tr th:only-of-type {\n",
              "        vertical-align: middle;\n",
              "    }\n",
              "\n",
              "    .dataframe tbody tr th {\n",
              "        vertical-align: top;\n",
              "    }\n",
              "\n",
              "    .dataframe thead th {\n",
              "        text-align: right;\n",
              "    }\n",
              "</style>\n",
              "<table border=\"1\" class=\"dataframe\">\n",
              "  <thead>\n",
              "    <tr style=\"text-align: right;\">\n",
              "      <th></th>\n",
              "      <th>date</th>\n",
              "      <th>campaign</th>\n",
              "      <th>adgroup</th>\n",
              "      <th>ad</th>\n",
              "      <th>cost</th>\n",
              "      <th>impressions</th>\n",
              "      <th>clicks</th>\n",
              "      <th>conversions</th>\n",
              "    </tr>\n",
              "  </thead>\n",
              "  <tbody>\n",
              "    <tr>\n",
              "      <th>0</th>\n",
              "      <td>01-03-2021</td>\n",
              "      <td>campaign 1</td>\n",
              "      <td>adgroup 1</td>\n",
              "      <td>ad 1</td>\n",
              "      <td>0.58</td>\n",
              "      <td>121</td>\n",
              "      <td>49</td>\n",
              "      <td>1</td>\n",
              "    </tr>\n",
              "    <tr>\n",
              "      <th>1</th>\n",
              "      <td>01-03-2021</td>\n",
              "      <td>campaign 1</td>\n",
              "      <td>adgroup 3</td>\n",
              "      <td>ad 1</td>\n",
              "      <td>0.17</td>\n",
              "      <td>22</td>\n",
              "      <td>12</td>\n",
              "      <td>0</td>\n",
              "    </tr>\n",
              "    <tr>\n",
              "      <th>2</th>\n",
              "      <td>01-03-2021</td>\n",
              "      <td>campaign 1</td>\n",
              "      <td>adgroup 4</td>\n",
              "      <td>ad 1</td>\n",
              "      <td>0.05</td>\n",
              "      <td>5</td>\n",
              "      <td>3</td>\n",
              "      <td>0</td>\n",
              "    </tr>\n",
              "    <tr>\n",
              "      <th>3</th>\n",
              "      <td>01-03-2021</td>\n",
              "      <td>campaign 1</td>\n",
              "      <td>adgroup 2</td>\n",
              "      <td>ad 1</td>\n",
              "      <td>0.01</td>\n",
              "      <td>2</td>\n",
              "      <td>1</td>\n",
              "      <td>0</td>\n",
              "    </tr>\n",
              "    <tr>\n",
              "      <th>4</th>\n",
              "      <td>01-03-2021</td>\n",
              "      <td>campaign 1</td>\n",
              "      <td>adgroup 2</td>\n",
              "      <td>ad 2</td>\n",
              "      <td>0.01</td>\n",
              "      <td>3</td>\n",
              "      <td>1</td>\n",
              "      <td>0</td>\n",
              "    </tr>\n",
              "  </tbody>\n",
              "</table>\n",
              "</div>"
            ],
            "text/plain": [
              "         date    campaign    adgroup  ... impressions  clicks  conversions\n",
              "0  01-03-2021  campaign 1  adgroup 1  ...         121      49            1\n",
              "1  01-03-2021  campaign 1  adgroup 3  ...          22      12            0\n",
              "2  01-03-2021  campaign 1  adgroup 4  ...           5       3            0\n",
              "3  01-03-2021  campaign 1  adgroup 2  ...           2       1            0\n",
              "4  01-03-2021  campaign 1  adgroup 2  ...           3       1            0\n",
              "\n",
              "[5 rows x 8 columns]"
            ]
          },
          "metadata": {
            "tags": []
          },
          "execution_count": 5
        }
      ]
    },
    {
      "cell_type": "code",
      "metadata": {
        "id": "xn6YkbeADMpr"
      },
      "source": [
        "#helper function to view the table content details\n",
        "from IPython.display import display, HTML\n",
        "\n",
        "def pretty_print(df):\n",
        "    return display( HTML( df.to_html().replace(\"\\\\n\",\"<br>\") ) )\n",
        "def tbl_report(tbl, cols=None, card=52):\n",
        "    print(\"Table Shape\", tbl.shape)\n",
        "    dtypes = tbl.dtypes\n",
        "    nulls = []\n",
        "    uniques = []\n",
        "    numuniques = []\n",
        "    vcs = []\n",
        "    for col in dtypes.index:\n",
        "        n = tbl[col].isnull().sum()\n",
        "        nulls.append(n)\n",
        "        strdtcol = str(dtypes[col])\n",
        "        #if strdtcol == 'object' or strdtcol[0:3] == 'int' or strdtcol[0:3] == 'int':\n",
        "        #print(strdtcol)\n",
        "        uniqs = tbl[col].unique()\n",
        "        uniquenums = uniqs.shape[0]\n",
        "        if uniquenums < card: # low cardinality\n",
        "            valcounts = pd.value_counts(tbl[col], dropna=False)\n",
        "            vc = \"\\n\".join([\"{}:{}\".format(k,v) for k, v in valcounts.items()])\n",
        "        else:\n",
        "            vc='NA'\n",
        "        uniques.append(uniqs)\n",
        "        numuniques.append(uniquenums)\n",
        "        vcs.append(vc)\n",
        "    nullseries = pd.Series(nulls, index=dtypes.index)\n",
        "    uniqueseries = pd.Series(uniques, index=dtypes.index)\n",
        "    numuniqueseries = pd.Series(numuniques, index=dtypes.index)\n",
        "    vcseries = pd.Series(vcs, index=dtypes.index)\n",
        "    df = pd.concat([dtypes, nullseries, uniqueseries, numuniqueseries, vcseries], axis=1)\n",
        "    df.columns = ['dtype', 'nulls', 'uniques', 'num_uniques', 'value_counts']\n",
        "    if cols:\n",
        "        return pretty_print(df[cols])\n",
        "    return pretty_print(df)"
      ],
      "execution_count": 6,
      "outputs": []
    },
    {
      "cell_type": "code",
      "metadata": {
        "colab": {
          "base_uri": "https://localhost:8080/",
          "height": 1000
        },
        "id": "YxsdWc-nEc_R",
        "outputId": "9d2358aa-e360-4d27-c102-b02727d63258"
      },
      "source": [
        "tbl_report(train)"
      ],
      "execution_count": 7,
      "outputs": [
        {
          "output_type": "stream",
          "text": [
            "Table Shape (4571, 9)\n"
          ],
          "name": "stdout"
        },
        {
          "output_type": "display_data",
          "data": {
            "text/html": [
              "<table border=\"1\" class=\"dataframe\">\n",
              "  <thead>\n",
              "    <tr style=\"text-align: right;\">\n",
              "      <th></th>\n",
              "      <th>dtype</th>\n",
              "      <th>nulls</th>\n",
              "      <th>uniques</th>\n",
              "      <th>num_uniques</th>\n",
              "      <th>value_counts</th>\n",
              "    </tr>\n",
              "  </thead>\n",
              "  <tbody>\n",
              "    <tr>\n",
              "      <th>date</th>\n",
              "      <td>object</td>\n",
              "      <td>0</td>\n",
              "      <td>[01-08-2020, 02-08-2020, 03-08-2020, 04-08-2020, 05-08-2020, 06-08-2020, 07-08-2020, 08-08-2020, 09-08-2020, 10-08-2020, 11-08-2020, 12-08-2020, 13-08-2020, 14-08-2020, 15-08-2020, 16-08-2020, 17-08-2020, 18-08-2020, 19-08-2020, 20-08-2020, 21-08-2020, 22-08-2020, 23-08-2020, 24-08-2020, 25-08-2020, 26-08-2020, 27-08-2020, 28-08-2020, 29-08-2020, 30-08-2020, 31-08-2020, 01-09-2020, 02-09-2020, 03-09-2020, 04-09-2020, 05-09-2020, 06-09-2020, 07-09-2020, 08-09-2020, 09-09-2020, 10-09-2020, 11-09-2020, 12-09-2020, 13-09-2020, 14-09-2020, 15-09-2020, 16-09-2020, 17-09-2020, 18-09-2020, 19-09-2020, 20-09-2020, 21-09-2020, 22-09-2020, 23-09-2020, 24-09-2020, 25-09-2020, 26-09-2020, 27-09-2020, 28-09-2020, 29-09-2020, 30-09-2020, 01-10-2020, 02-10-2020, 03-10-2020, 04-10-2020, 05-10-2020, 06-10-2020, 07-10-2020, 08-10-2020, 09-10-2020, 10-10-2020, 11-10-2020, 12-10-2020, 13-10-2020, 14-10-2020, 15-10-2020, 16-10-2020, 17-10-2020, 18-10-2020, 19-10-2020, 20-10-2020, 21-10-2020, 22-10-2020, 23-10-2020, 24-10-2020, 25-10-2020, 26-10-2020, 27-10-2020, 28-10-2020, 29-10-2020, 30-10-2020, 31-10-2020, 01-11-2020, 02-11-2020, 03-11-2020, 04-11-2020, 05-11-2020, 06-11-2020, 07-11-2020, 08-11-2020, ...]</td>\n",
              "      <td>212</td>\n",
              "      <td>NA</td>\n",
              "    </tr>\n",
              "    <tr>\n",
              "      <th>campaign</th>\n",
              "      <td>object</td>\n",
              "      <td>0</td>\n",
              "      <td>[campaign 1]</td>\n",
              "      <td>1</td>\n",
              "      <td>campaign 1:4571</td>\n",
              "    </tr>\n",
              "    <tr>\n",
              "      <th>adgroup</th>\n",
              "      <td>object</td>\n",
              "      <td>0</td>\n",
              "      <td>[adgroup 1, adgroup 2, adgroup 3, adgroup 4]</td>\n",
              "      <td>4</td>\n",
              "      <td>adgroup 3:1672<br>adgroup 1:1314<br>adgroup 4:858<br>adgroup 2:727</td>\n",
              "    </tr>\n",
              "    <tr>\n",
              "      <th>ad</th>\n",
              "      <td>object</td>\n",
              "      <td>0</td>\n",
              "      <td>[ad 1, ad 2, ad 3, ad 4, ad 5, ad 6, ad 7, ad 8, ad 9, ad 10, ad 11, ad 12, ad 13, ad 14, ad 15, ad 16, ad 17, ad 18, ad 19, ad 20, ad 21, ad 22, ad 23, ad 24, ad 25, ad 26, ad 27, ad 28, ad 29, ad 30, ad 31, ad 32, ad 33, ad 34, ad 35, ad 36, ad 37, ad 38, ad 39, ad 40, ad 41, ad 42, ad 43, ad 44, ad 45, ad 46, ad 47, ad 48, ad 49, ad 50, ad 51, ad 52, ad 53, ad 54, ad 55, ad 56, ad 57, ad 58, ad 59, ad 60, ad 61, ad 62, ad 63, ad 64, ad 65, ad 66, ad 67, ad 68, ad 69, ad 70]</td>\n",
              "      <td>70</td>\n",
              "      <td>NA</td>\n",
              "    </tr>\n",
              "    <tr>\n",
              "      <th>impressions</th>\n",
              "      <td>int64</td>\n",
              "      <td>0</td>\n",
              "      <td>[24, 1, 13, 5, 247, 7, 6, 129, 104, 4, 39, 17, 253, 16, 26, 250, 261, 329, 2, 21, 197, 11, 105, 62, 10, 258, 31, 243, 212, 3, 245, 12, 49, 304, 9, 140, 116, 68, 22, 218, 138, 15, 19, 40, 272, 131, 128, 54, 297, 25, 216, 173, 144, 8, 309, 163, 142, 55, 20, 278, 34, 18, 256, 44, 443, 148, 201, 52, 14, 282, 60, 489, 158, 190, 48, 291, 524, 206, 66, 348, 45, 440, 169, 241, 71, 311, 23, 496, 89, 70, 280, 75, 324, 81, 442, 117, 152, 61, 289, 47, ...]</td>\n",
              "      <td>571</td>\n",
              "      <td>NA</td>\n",
              "    </tr>\n",
              "    <tr>\n",
              "      <th>clicks</th>\n",
              "      <td>int64</td>\n",
              "      <td>0</td>\n",
              "      <td>[6, 0, 4, 126, 2, 3, 52, 56, 5, 16, 128, 10, 114, 123, 130, 8, 112, 1, 68, 40, 139, 9, 14, 117, 79, 140, 13, 7, 156, 60, 46, 39, 129, 95, 73, 78, 18, 37, 54, 21, 161, 11, 122, 64, 67, 155, 84, 28, 150, 15, 138, 211, 71, 27, 154, 250, 76, 59, 30, 179, 23, 136, 237, 96, 31, 119, 12, 203, 75, 33, 148, 35, 146, 36, 229, 92, 132, 34, 149, 210, 38, 85, 32, 135, 22, 165, 61, 118, 218, 53, 17, 125, 24, 191, 86, 29, 47, 93, 109, 142, ...]</td>\n",
              "      <td>355</td>\n",
              "      <td>NA</td>\n",
              "    </tr>\n",
              "    <tr>\n",
              "      <th>cost</th>\n",
              "      <td>float64</td>\n",
              "      <td>0</td>\n",
              "      <td>[0.08, 0.0, 0.04, 1.29, 0.05, 0.58, 0.56, 0.22, 0.06, 1.32, 0.07, 0.1, 1.17, 1.27, 1.4, 0.02, 0.09, 0.18, 1.18, 0.01, 0.69, 0.46, 0.44, 1.43, 0.15, 1.21, 0.86, 1.44, 0.13, 1.75, 0.64, 0.03, 0.41, 1.38, 1.04, 0.78, 0.88, 0.21, 1.54, 0.62, 0.23, 1.72, 0.12, 1.33, 0.75, 0.85, 1.73, 0.9, 0.42, 0.35, 1.61, 0.11, 0.16, 1.52, 0.28, 2.48, 0.74, 0.34, 1.7, 0.32, 1.42, 2.69, 0.66, 0.33, 1.9, 0.26, 0.14, 1.46, 2.81, 1.09, 1.28, 1.58, 2.36, 0.82, 0.36, 1.53, 0.37, 0.4, 0.98, 0.3, 1.41, 1.59, 0.29, 2.29, 0.43, 1.0, 0.27, 1.87, 0.71, 1.3, 0.38, 2.41, 0.59, 0.2, 2.12, 0.97, 0.77, 0.52, 1.05, 1.5, ...]</td>\n",
              "      <td>810</td>\n",
              "      <td>NA</td>\n",
              "    </tr>\n",
              "    <tr>\n",
              "      <th>conversions</th>\n",
              "      <td>int64</td>\n",
              "      <td>0</td>\n",
              "      <td>[0, 4, 2, 3, 9, 1, 5, 6, 7, 8, 10, 19, 12, 16, 23, 22, 15, 14, 24, 36, 18, 40, 61, 47, 82, 91, 11, 17, 44, 27, 28, 74, 71, 63, 42, 37, 85, 13, 39, 48, 56, 68, 94, 43, 79, 59, 34, 26, 52]</td>\n",
              "      <td>49</td>\n",
              "      <td>0:3213<br>1:542<br>2:234<br>3:117<br>4:105<br>6:79<br>5:76<br>7:48<br>9:35<br>8:28<br>10:11<br>12:7<br>11:7<br>14:7<br>23:6<br>19:5<br>13:4<br>15:3<br>22:3<br>27:3<br>18:3<br>17:3<br>16:2<br>36:2<br>82:2<br>40:2<br>47:2<br>26:1<br>52:1<br>71:1<br>63:1<br>94:1<br>24:1<br>28:1<br>44:1<br>48:1<br>68:1<br>56:1<br>34:1<br>59:1<br>43:1<br>74:1<br>37:1<br>61:1<br>85:1<br>39:1<br>42:1<br>79:1<br>91:1</td>\n",
              "    </tr>\n",
              "    <tr>\n",
              "      <th>revenue</th>\n",
              "      <td>float64</td>\n",
              "      <td>0</td>\n",
              "      <td>[0.0, 925.71, 339.83, 384.22, 337.57, 397.59, 1476.67, 188.83, 212.86, 702.16, 76.22, 219.73, 1028.32, 370.46, 1033.52, 126.85, 227.77, 958.48, 350.19, 704.04, 40.17, 76.13, 830.9, 30.01, 189.26, 39.72, 2050.19, 927.97, 154.91, 79.84, 380.74, 784.97, 462.32, 157.64, 550.46, 298.66, 687.76, 228.64, 165.67, 114.85, 172.52, 211.08, 596.03, 68.48, 719.2, 748.23, 488.97, 700.43, 292.1, 201.98, 1165.75, 709.44, 831.74, 1160.24, 139.97, 633.42, 168.1, 488.53, 585.86, 190.15, 713.73, 107.05, 529.94, 72.73, 114.0, 89.28, 1353.74, 10.92, 131.08, 332.08, 200.53, 941.3, 203.08, 181.3, 481.88, 351.81, 50.51, 797.4, 550.08, 173.59, 82.35, 310.36, 896.96, 1391.47, 79.88, 98.81, 668.21, 452.08, 197.59, 902.99, 306.03, 237.96, 96.05, 1792.62, 203.78, 296.35, 387.9, 218.8, 714.99, 675.64, ...]</td>\n",
              "      <td>1223</td>\n",
              "      <td>NA</td>\n",
              "    </tr>\n",
              "  </tbody>\n",
              "</table>"
            ],
            "text/plain": [
              "<IPython.core.display.HTML object>"
            ]
          },
          "metadata": {
            "tags": []
          }
        }
      ]
    },
    {
      "cell_type": "code",
      "metadata": {
        "colab": {
          "base_uri": "https://localhost:8080/",
          "height": 1000
        },
        "id": "hvHM-HgdEfnt",
        "outputId": "f5ae934e-984f-471c-d670-43765966820b"
      },
      "source": [
        "tbl_report(test)"
      ],
      "execution_count": 8,
      "outputs": [
        {
          "output_type": "stream",
          "text": [
            "Table Shape (318, 8)\n"
          ],
          "name": "stdout"
        },
        {
          "output_type": "display_data",
          "data": {
            "text/html": [
              "<table border=\"1\" class=\"dataframe\">\n",
              "  <thead>\n",
              "    <tr style=\"text-align: right;\">\n",
              "      <th></th>\n",
              "      <th>dtype</th>\n",
              "      <th>nulls</th>\n",
              "      <th>uniques</th>\n",
              "      <th>num_uniques</th>\n",
              "      <th>value_counts</th>\n",
              "    </tr>\n",
              "  </thead>\n",
              "  <tbody>\n",
              "    <tr>\n",
              "      <th>date</th>\n",
              "      <td>object</td>\n",
              "      <td>0</td>\n",
              "      <td>[01-03-2021, 02-03-2021, 03-03-2021, 04-03-2021, 05-03-2021, 06-03-2021, 07-03-2021, 08-03-2021, 09-03-2021, 10-03-2021, 11-03-2021, 12-03-2021, 13-03-2021, 14-03-2021, 15-03-2021]</td>\n",
              "      <td>15</td>\n",
              "      <td>03-03-2021:28<br>08-03-2021:26<br>13-03-2021:25<br>15-03-2021:25<br>09-03-2021:25<br>12-03-2021:24<br>11-03-2021:24<br>14-03-2021:24<br>10-03-2021:23<br>05-03-2021:21<br>02-03-2021:19<br>01-03-2021:19<br>07-03-2021:12<br>06-03-2021:12<br>04-03-2021:11</td>\n",
              "    </tr>\n",
              "    <tr>\n",
              "      <th>campaign</th>\n",
              "      <td>object</td>\n",
              "      <td>0</td>\n",
              "      <td>[campaign 1]</td>\n",
              "      <td>1</td>\n",
              "      <td>campaign 1:318</td>\n",
              "    </tr>\n",
              "    <tr>\n",
              "      <th>adgroup</th>\n",
              "      <td>object</td>\n",
              "      <td>0</td>\n",
              "      <td>[adgroup 1, adgroup 3, adgroup 4, adgroup 2]</td>\n",
              "      <td>4</td>\n",
              "      <td>adgroup 3:111<br>adgroup 1:90<br>adgroup 2:63<br>adgroup 4:54</td>\n",
              "    </tr>\n",
              "    <tr>\n",
              "      <th>ad</th>\n",
              "      <td>object</td>\n",
              "      <td>0</td>\n",
              "      <td>[ad 1, ad 2, ad 3, ad 4, ad 5, ad 6, ad 7, ad 8, ad 10, ad 71, ad 72, ad 73, ad 74, ad 75, ad 56, ad 55]</td>\n",
              "      <td>16</td>\n",
              "      <td>ad 3:44<br>ad 1:42<br>ad 7:33<br>ad 2:30<br>ad 56:24<br>ad 72:22<br>ad 55:19<br>ad 10:13<br>ad 73:13<br>ad 74:12<br>ad 5:11<br>ad 4:11<br>ad 71:11<br>ad 8:11<br>ad 75:11<br>ad 6:11</td>\n",
              "    </tr>\n",
              "    <tr>\n",
              "      <th>cost</th>\n",
              "      <td>float64</td>\n",
              "      <td>0</td>\n",
              "      <td>[0.58, 0.17, 0.05, 0.01, 0.03, 1.67, 0.0, 1.06, 0.08, 1.64, 0.1, 0.88, 0.02, 0.3, 0.16, 0.98, 0.22, 0.24, 0.65, 1.57, 1.65, 1.36, 0.07, 0.99, 0.46, 0.13, 0.04, 0.94, 0.12, 0.09, 0.18, 0.34, 0.4, 0.14, 0.25, 0.87, 0.81, 0.06, 2.05, 0.67, 1.69, 0.56, 1.59, 1.66, 1.54, 0.91, 1.4, 0.7, 1.07, 0.2, 0.49, 1.94, 2.9, 0.72, 0.32, 0.31, 0.27, 0.55, 0.66, 0.61, 3.36, 2.67, 0.45, 0.78, 0.63, 3.53, 3.47, 0.77, 0.47, 0.62, 1.49, 1.62, 1.21, 1.03, 0.15, 0.44, 0.9, 1.29, 1.15, 0.21, 0.93, 0.29, 0.37, 0.85, 1.16, 1.0, 0.43, 1.17, 1.27, 1.41, 0.97, 0.19, 1.08, 1.39, 0.26, 0.28, 0.11, 0.73, 1.58, 0.41, ...]</td>\n",
              "      <td>109</td>\n",
              "      <td>NA</td>\n",
              "    </tr>\n",
              "    <tr>\n",
              "      <th>impressions</th>\n",
              "      <td>int64</td>\n",
              "      <td>0</td>\n",
              "      <td>[121, 22, 5, 2, 3, 4, 276, 6, 162, 294, 15, 152, 94, 25, 191, 24, 27, 112, 281, 1, 298, 196, 7, 31, 12, 151, 103, 23, 178, 29, 13, 42, 45, 68, 20, 9, 127, 192, 316, 134, 306, 91, 258, 347, 269, 173, 67, 263, 123, 14, 238, 40, 62, 10, 362, 418, 137, 66, 54, 48, 75, 106, 116, 502, 558, 77, 131, 125, 111, 560, 589, 153, 161, 8, 260, 308, 167, 35, 207, 16, 108, 201, 210, 228, 18, 139, 30, 26, 174, 78, 169, 166, 248, 113, 37, 165, 32, 60, 28, 85, ...]</td>\n",
              "      <td>128</td>\n",
              "      <td>NA</td>\n",
              "    </tr>\n",
              "    <tr>\n",
              "      <th>clicks</th>\n",
              "      <td>int64</td>\n",
              "      <td>0</td>\n",
              "      <td>[49, 12, 3, 1, 2, 123, 0, 74, 5, 110, 14, 7, 82, 30, 79, 18, 48, 126, 122, 97, 4, 88, 39, 11, 75, 10, 8, 21, 27, 13, 6, 22, 69, 64, 145, 55, 125, 40, 121, 137, 119, 77, 31, 115, 54, 16, 38, 155, 215, 61, 28, 24, 51, 236, 232, 32, 45, 63, 52, 261, 276, 34, 59, 135, 136, 95, 93, 15, 89, 44, 84, 94, 96, 76, 9, 41, 90, 62, 86, 102, 85, 103, 17, 83, 81, 91, 57, 68, 26, 92, 114, 19, 37, 67, 116, 134, 73, 80]</td>\n",
              "      <td>98</td>\n",
              "      <td>NA</td>\n",
              "    </tr>\n",
              "    <tr>\n",
              "      <th>conversions</th>\n",
              "      <td>int64</td>\n",
              "      <td>0</td>\n",
              "      <td>[1, 0, 3, 2, 4, 6, 8, 14, 13, 15, 5]</td>\n",
              "      <td>11</td>\n",
              "      <td>0:211<br>1:50<br>2:26<br>3:13<br>4:8<br>6:3<br>5:3<br>15:1<br>14:1<br>13:1<br>8:1</td>\n",
              "    </tr>\n",
              "  </tbody>\n",
              "</table>"
            ],
            "text/plain": [
              "<IPython.core.display.HTML object>"
            ]
          },
          "metadata": {
            "tags": []
          }
        }
      ]
    },
    {
      "cell_type": "code",
      "metadata": {
        "colab": {
          "base_uri": "https://localhost:8080/"
        },
        "id": "ctdG8w-cMy2v",
        "outputId": "4830d2a1-86fa-4495-b884-d59363975252"
      },
      "source": [
        "train.columns[4:-1]"
      ],
      "execution_count": 10,
      "outputs": [
        {
          "output_type": "execute_result",
          "data": {
            "text/plain": [
              "Index(['impressions', 'clicks', 'cost', 'conversions'], dtype='object')"
            ]
          },
          "metadata": {
            "tags": []
          },
          "execution_count": 10
        }
      ]
    },
    {
      "cell_type": "code",
      "metadata": {
        "colab": {
          "base_uri": "https://localhost:8080/",
          "height": 203
        },
        "id": "5qy6Bnr-LF6E",
        "outputId": "954a7d53-cc23-49d5-dcb7-eb463f145a94"
      },
      "source": [
        "#making the training and the testing datasets based on the given values\n",
        "df=train[train.columns[4:-1]]\n",
        "df.head()"
      ],
      "execution_count": 25,
      "outputs": [
        {
          "output_type": "execute_result",
          "data": {
            "text/html": [
              "<div>\n",
              "<style scoped>\n",
              "    .dataframe tbody tr th:only-of-type {\n",
              "        vertical-align: middle;\n",
              "    }\n",
              "\n",
              "    .dataframe tbody tr th {\n",
              "        vertical-align: top;\n",
              "    }\n",
              "\n",
              "    .dataframe thead th {\n",
              "        text-align: right;\n",
              "    }\n",
              "</style>\n",
              "<table border=\"1\" class=\"dataframe\">\n",
              "  <thead>\n",
              "    <tr style=\"text-align: right;\">\n",
              "      <th></th>\n",
              "      <th>impressions</th>\n",
              "      <th>clicks</th>\n",
              "      <th>cost</th>\n",
              "      <th>conversions</th>\n",
              "    </tr>\n",
              "  </thead>\n",
              "  <tbody>\n",
              "    <tr>\n",
              "      <th>0</th>\n",
              "      <td>24</td>\n",
              "      <td>6</td>\n",
              "      <td>0.08</td>\n",
              "      <td>0</td>\n",
              "    </tr>\n",
              "    <tr>\n",
              "      <th>1</th>\n",
              "      <td>1</td>\n",
              "      <td>0</td>\n",
              "      <td>0.00</td>\n",
              "      <td>0</td>\n",
              "    </tr>\n",
              "    <tr>\n",
              "      <th>2</th>\n",
              "      <td>13</td>\n",
              "      <td>4</td>\n",
              "      <td>0.04</td>\n",
              "      <td>0</td>\n",
              "    </tr>\n",
              "    <tr>\n",
              "      <th>3</th>\n",
              "      <td>5</td>\n",
              "      <td>4</td>\n",
              "      <td>0.08</td>\n",
              "      <td>0</td>\n",
              "    </tr>\n",
              "    <tr>\n",
              "      <th>4</th>\n",
              "      <td>247</td>\n",
              "      <td>126</td>\n",
              "      <td>1.29</td>\n",
              "      <td>4</td>\n",
              "    </tr>\n",
              "  </tbody>\n",
              "</table>\n",
              "</div>"
            ],
            "text/plain": [
              "   impressions  clicks  cost  conversions\n",
              "0           24       6  0.08            0\n",
              "1            1       0  0.00            0\n",
              "2           13       4  0.04            0\n",
              "3            5       4  0.08            0\n",
              "4          247     126  1.29            4"
            ]
          },
          "metadata": {
            "tags": []
          },
          "execution_count": 25
        }
      ]
    },
    {
      "cell_type": "code",
      "metadata": {
        "colab": {
          "base_uri": "https://localhost:8080/",
          "height": 203
        },
        "id": "X7x6ZY38M724",
        "outputId": "6d2ee156-c62c-42b4-e3ed-07719abe0042"
      },
      "source": [
        "dftest=test[train.columns[4:-1]]\n",
        "dftest.head()"
      ],
      "execution_count": 26,
      "outputs": [
        {
          "output_type": "execute_result",
          "data": {
            "text/html": [
              "<div>\n",
              "<style scoped>\n",
              "    .dataframe tbody tr th:only-of-type {\n",
              "        vertical-align: middle;\n",
              "    }\n",
              "\n",
              "    .dataframe tbody tr th {\n",
              "        vertical-align: top;\n",
              "    }\n",
              "\n",
              "    .dataframe thead th {\n",
              "        text-align: right;\n",
              "    }\n",
              "</style>\n",
              "<table border=\"1\" class=\"dataframe\">\n",
              "  <thead>\n",
              "    <tr style=\"text-align: right;\">\n",
              "      <th></th>\n",
              "      <th>impressions</th>\n",
              "      <th>clicks</th>\n",
              "      <th>cost</th>\n",
              "      <th>conversions</th>\n",
              "    </tr>\n",
              "  </thead>\n",
              "  <tbody>\n",
              "    <tr>\n",
              "      <th>0</th>\n",
              "      <td>121</td>\n",
              "      <td>49</td>\n",
              "      <td>0.58</td>\n",
              "      <td>1</td>\n",
              "    </tr>\n",
              "    <tr>\n",
              "      <th>1</th>\n",
              "      <td>22</td>\n",
              "      <td>12</td>\n",
              "      <td>0.17</td>\n",
              "      <td>0</td>\n",
              "    </tr>\n",
              "    <tr>\n",
              "      <th>2</th>\n",
              "      <td>5</td>\n",
              "      <td>3</td>\n",
              "      <td>0.05</td>\n",
              "      <td>0</td>\n",
              "    </tr>\n",
              "    <tr>\n",
              "      <th>3</th>\n",
              "      <td>2</td>\n",
              "      <td>1</td>\n",
              "      <td>0.01</td>\n",
              "      <td>0</td>\n",
              "    </tr>\n",
              "    <tr>\n",
              "      <th>4</th>\n",
              "      <td>3</td>\n",
              "      <td>1</td>\n",
              "      <td>0.01</td>\n",
              "      <td>0</td>\n",
              "    </tr>\n",
              "  </tbody>\n",
              "</table>\n",
              "</div>"
            ],
            "text/plain": [
              "   impressions  clicks  cost  conversions\n",
              "0          121      49  0.58            1\n",
              "1           22      12  0.17            0\n",
              "2            5       3  0.05            0\n",
              "3            2       1  0.01            0\n",
              "4            3       1  0.01            0"
            ]
          },
          "metadata": {
            "tags": []
          },
          "execution_count": 26
        }
      ]
    },
    {
      "cell_type": "markdown",
      "metadata": {
        "id": "yYOVY7n8RWeP"
      },
      "source": [
        "Efficiency metrics (optional - can be used for creating new features/feature engineering): \n",
        "\n",
        "The below features can be newly created/calculated and used while building the models. These are based on raw metrics. \n",
        "\n",
        "CTR - Clicks / Impression (higher the better - used to evaluate if the users find the ad relevant)\n",
        "\n",
        "CPC - Cost / Click (lower the better - used to evaluate if the cost for getting a click)\n",
        "\n",
        "CPA - Cost / Conversion (lower the better - used to evaluate if the cost for getting a conversion)\n",
        "\n",
        "ROI - Revenue/Cost (higher the better - used to evaluate the effectiveness of the advertising budget spent"
      ]
    },
    {
      "cell_type": "code",
      "metadata": {
        "colab": {
          "base_uri": "https://localhost:8080/"
        },
        "id": "5VnZMKFLN9IF",
        "outputId": "3152750e-e5a9-4678-fd04-4a824129af72"
      },
      "source": [
        "#feature engineering\n",
        "df['ctr']=df['clicks']/df['impressions']\n",
        "\n",
        "dftest['ctr']=dftest['clicks']/dftest['impressions']\n",
        "\n"
      ],
      "execution_count": 27,
      "outputs": [
        {
          "output_type": "stream",
          "text": [
            "/usr/local/lib/python3.7/dist-packages/ipykernel_launcher.py:2: SettingWithCopyWarning: \n",
            "A value is trying to be set on a copy of a slice from a DataFrame.\n",
            "Try using .loc[row_indexer,col_indexer] = value instead\n",
            "\n",
            "See the caveats in the documentation: https://pandas.pydata.org/pandas-docs/stable/user_guide/indexing.html#returning-a-view-versus-a-copy\n",
            "  \n",
            "/usr/local/lib/python3.7/dist-packages/ipykernel_launcher.py:4: SettingWithCopyWarning: \n",
            "A value is trying to be set on a copy of a slice from a DataFrame.\n",
            "Try using .loc[row_indexer,col_indexer] = value instead\n",
            "\n",
            "See the caveats in the documentation: https://pandas.pydata.org/pandas-docs/stable/user_guide/indexing.html#returning-a-view-versus-a-copy\n",
            "  after removing the cwd from sys.path.\n"
          ],
          "name": "stderr"
        }
      ]
    },
    {
      "cell_type": "code",
      "metadata": {
        "colab": {
          "base_uri": "https://localhost:8080/",
          "height": 203
        },
        "id": "fE9K19mXYBqc",
        "outputId": "f5ce029a-8120-432b-d449-ebe596c0d296"
      },
      "source": [
        "df.head()"
      ],
      "execution_count": 28,
      "outputs": [
        {
          "output_type": "execute_result",
          "data": {
            "text/html": [
              "<div>\n",
              "<style scoped>\n",
              "    .dataframe tbody tr th:only-of-type {\n",
              "        vertical-align: middle;\n",
              "    }\n",
              "\n",
              "    .dataframe tbody tr th {\n",
              "        vertical-align: top;\n",
              "    }\n",
              "\n",
              "    .dataframe thead th {\n",
              "        text-align: right;\n",
              "    }\n",
              "</style>\n",
              "<table border=\"1\" class=\"dataframe\">\n",
              "  <thead>\n",
              "    <tr style=\"text-align: right;\">\n",
              "      <th></th>\n",
              "      <th>impressions</th>\n",
              "      <th>clicks</th>\n",
              "      <th>cost</th>\n",
              "      <th>conversions</th>\n",
              "      <th>ctr</th>\n",
              "    </tr>\n",
              "  </thead>\n",
              "  <tbody>\n",
              "    <tr>\n",
              "      <th>0</th>\n",
              "      <td>24</td>\n",
              "      <td>6</td>\n",
              "      <td>0.08</td>\n",
              "      <td>0</td>\n",
              "      <td>0.250000</td>\n",
              "    </tr>\n",
              "    <tr>\n",
              "      <th>1</th>\n",
              "      <td>1</td>\n",
              "      <td>0</td>\n",
              "      <td>0.00</td>\n",
              "      <td>0</td>\n",
              "      <td>0.000000</td>\n",
              "    </tr>\n",
              "    <tr>\n",
              "      <th>2</th>\n",
              "      <td>13</td>\n",
              "      <td>4</td>\n",
              "      <td>0.04</td>\n",
              "      <td>0</td>\n",
              "      <td>0.307692</td>\n",
              "    </tr>\n",
              "    <tr>\n",
              "      <th>3</th>\n",
              "      <td>5</td>\n",
              "      <td>4</td>\n",
              "      <td>0.08</td>\n",
              "      <td>0</td>\n",
              "      <td>0.800000</td>\n",
              "    </tr>\n",
              "    <tr>\n",
              "      <th>4</th>\n",
              "      <td>247</td>\n",
              "      <td>126</td>\n",
              "      <td>1.29</td>\n",
              "      <td>4</td>\n",
              "      <td>0.510121</td>\n",
              "    </tr>\n",
              "  </tbody>\n",
              "</table>\n",
              "</div>"
            ],
            "text/plain": [
              "   impressions  clicks  cost  conversions       ctr\n",
              "0           24       6  0.08            0  0.250000\n",
              "1            1       0  0.00            0  0.000000\n",
              "2           13       4  0.04            0  0.307692\n",
              "3            5       4  0.08            0  0.800000\n",
              "4          247     126  1.29            4  0.510121"
            ]
          },
          "metadata": {
            "tags": []
          },
          "execution_count": 28
        }
      ]
    },
    {
      "cell_type": "code",
      "metadata": {
        "colab": {
          "base_uri": "https://localhost:8080/",
          "height": 203
        },
        "id": "-UuG4OoAYETe",
        "outputId": "79d47e9c-5053-4cde-88e1-9708c8a2b096"
      },
      "source": [
        "dftest.head()"
      ],
      "execution_count": 29,
      "outputs": [
        {
          "output_type": "execute_result",
          "data": {
            "text/html": [
              "<div>\n",
              "<style scoped>\n",
              "    .dataframe tbody tr th:only-of-type {\n",
              "        vertical-align: middle;\n",
              "    }\n",
              "\n",
              "    .dataframe tbody tr th {\n",
              "        vertical-align: top;\n",
              "    }\n",
              "\n",
              "    .dataframe thead th {\n",
              "        text-align: right;\n",
              "    }\n",
              "</style>\n",
              "<table border=\"1\" class=\"dataframe\">\n",
              "  <thead>\n",
              "    <tr style=\"text-align: right;\">\n",
              "      <th></th>\n",
              "      <th>impressions</th>\n",
              "      <th>clicks</th>\n",
              "      <th>cost</th>\n",
              "      <th>conversions</th>\n",
              "      <th>ctr</th>\n",
              "    </tr>\n",
              "  </thead>\n",
              "  <tbody>\n",
              "    <tr>\n",
              "      <th>0</th>\n",
              "      <td>121</td>\n",
              "      <td>49</td>\n",
              "      <td>0.58</td>\n",
              "      <td>1</td>\n",
              "      <td>0.404959</td>\n",
              "    </tr>\n",
              "    <tr>\n",
              "      <th>1</th>\n",
              "      <td>22</td>\n",
              "      <td>12</td>\n",
              "      <td>0.17</td>\n",
              "      <td>0</td>\n",
              "      <td>0.545455</td>\n",
              "    </tr>\n",
              "    <tr>\n",
              "      <th>2</th>\n",
              "      <td>5</td>\n",
              "      <td>3</td>\n",
              "      <td>0.05</td>\n",
              "      <td>0</td>\n",
              "      <td>0.600000</td>\n",
              "    </tr>\n",
              "    <tr>\n",
              "      <th>3</th>\n",
              "      <td>2</td>\n",
              "      <td>1</td>\n",
              "      <td>0.01</td>\n",
              "      <td>0</td>\n",
              "      <td>0.500000</td>\n",
              "    </tr>\n",
              "    <tr>\n",
              "      <th>4</th>\n",
              "      <td>3</td>\n",
              "      <td>1</td>\n",
              "      <td>0.01</td>\n",
              "      <td>0</td>\n",
              "      <td>0.333333</td>\n",
              "    </tr>\n",
              "  </tbody>\n",
              "</table>\n",
              "</div>"
            ],
            "text/plain": [
              "   impressions  clicks  cost  conversions       ctr\n",
              "0          121      49  0.58            1  0.404959\n",
              "1           22      12  0.17            0  0.545455\n",
              "2            5       3  0.05            0  0.600000\n",
              "3            2       1  0.01            0  0.500000\n",
              "4            3       1  0.01            0  0.333333"
            ]
          },
          "metadata": {
            "tags": []
          },
          "execution_count": 29
        }
      ]
    },
    {
      "cell_type": "code",
      "metadata": {
        "colab": {
          "base_uri": "https://localhost:8080/",
          "height": 1000
        },
        "id": "QJa1HaQMYkUX",
        "outputId": "a3ff6ffe-8101-4d9c-963b-78028e864044"
      },
      "source": [
        "tbl_report(df)"
      ],
      "execution_count": 30,
      "outputs": [
        {
          "output_type": "stream",
          "text": [
            "Table Shape (4571, 5)\n"
          ],
          "name": "stdout"
        },
        {
          "output_type": "display_data",
          "data": {
            "text/html": [
              "<table border=\"1\" class=\"dataframe\">\n",
              "  <thead>\n",
              "    <tr style=\"text-align: right;\">\n",
              "      <th></th>\n",
              "      <th>dtype</th>\n",
              "      <th>nulls</th>\n",
              "      <th>uniques</th>\n",
              "      <th>num_uniques</th>\n",
              "      <th>value_counts</th>\n",
              "    </tr>\n",
              "  </thead>\n",
              "  <tbody>\n",
              "    <tr>\n",
              "      <th>impressions</th>\n",
              "      <td>int64</td>\n",
              "      <td>0</td>\n",
              "      <td>[24, 1, 13, 5, 247, 7, 6, 129, 104, 4, 39, 17, 253, 16, 26, 250, 261, 329, 2, 21, 197, 11, 105, 62, 10, 258, 31, 243, 212, 3, 245, 12, 49, 304, 9, 140, 116, 68, 22, 218, 138, 15, 19, 40, 272, 131, 128, 54, 297, 25, 216, 173, 144, 8, 309, 163, 142, 55, 20, 278, 34, 18, 256, 44, 443, 148, 201, 52, 14, 282, 60, 489, 158, 190, 48, 291, 524, 206, 66, 348, 45, 440, 169, 241, 71, 311, 23, 496, 89, 70, 280, 75, 324, 81, 442, 117, 152, 61, 289, 47, ...]</td>\n",
              "      <td>571</td>\n",
              "      <td>NA</td>\n",
              "    </tr>\n",
              "    <tr>\n",
              "      <th>clicks</th>\n",
              "      <td>int64</td>\n",
              "      <td>0</td>\n",
              "      <td>[6, 0, 4, 126, 2, 3, 52, 56, 5, 16, 128, 10, 114, 123, 130, 8, 112, 1, 68, 40, 139, 9, 14, 117, 79, 140, 13, 7, 156, 60, 46, 39, 129, 95, 73, 78, 18, 37, 54, 21, 161, 11, 122, 64, 67, 155, 84, 28, 150, 15, 138, 211, 71, 27, 154, 250, 76, 59, 30, 179, 23, 136, 237, 96, 31, 119, 12, 203, 75, 33, 148, 35, 146, 36, 229, 92, 132, 34, 149, 210, 38, 85, 32, 135, 22, 165, 61, 118, 218, 53, 17, 125, 24, 191, 86, 29, 47, 93, 109, 142, ...]</td>\n",
              "      <td>355</td>\n",
              "      <td>NA</td>\n",
              "    </tr>\n",
              "    <tr>\n",
              "      <th>cost</th>\n",
              "      <td>float64</td>\n",
              "      <td>0</td>\n",
              "      <td>[0.08, 0.0, 0.04, 1.29, 0.05, 0.58, 0.56, 0.22, 0.06, 1.32, 0.07, 0.1, 1.17, 1.27, 1.4, 0.02, 0.09, 0.18, 1.18, 0.01, 0.69, 0.46, 0.44, 1.43, 0.15, 1.21, 0.86, 1.44, 0.13, 1.75, 0.64, 0.03, 0.41, 1.38, 1.04, 0.78, 0.88, 0.21, 1.54, 0.62, 0.23, 1.72, 0.12, 1.33, 0.75, 0.85, 1.73, 0.9, 0.42, 0.35, 1.61, 0.11, 0.16, 1.52, 0.28, 2.48, 0.74, 0.34, 1.7, 0.32, 1.42, 2.69, 0.66, 0.33, 1.9, 0.26, 0.14, 1.46, 2.81, 1.09, 1.28, 1.58, 2.36, 0.82, 0.36, 1.53, 0.37, 0.4, 0.98, 0.3, 1.41, 1.59, 0.29, 2.29, 0.43, 1.0, 0.27, 1.87, 0.71, 1.3, 0.38, 2.41, 0.59, 0.2, 2.12, 0.97, 0.77, 0.52, 1.05, 1.5, ...]</td>\n",
              "      <td>810</td>\n",
              "      <td>NA</td>\n",
              "    </tr>\n",
              "    <tr>\n",
              "      <th>conversions</th>\n",
              "      <td>int64</td>\n",
              "      <td>0</td>\n",
              "      <td>[0, 4, 2, 3, 9, 1, 5, 6, 7, 8, 10, 19, 12, 16, 23, 22, 15, 14, 24, 36, 18, 40, 61, 47, 82, 91, 11, 17, 44, 27, 28, 74, 71, 63, 42, 37, 85, 13, 39, 48, 56, 68, 94, 43, 79, 59, 34, 26, 52]</td>\n",
              "      <td>49</td>\n",
              "      <td>0:3213<br>1:542<br>2:234<br>3:117<br>4:105<br>6:79<br>5:76<br>7:48<br>9:35<br>8:28<br>10:11<br>12:7<br>11:7<br>14:7<br>23:6<br>19:5<br>13:4<br>15:3<br>22:3<br>27:3<br>18:3<br>17:3<br>16:2<br>36:2<br>82:2<br>40:2<br>47:2<br>26:1<br>52:1<br>71:1<br>63:1<br>94:1<br>24:1<br>28:1<br>44:1<br>48:1<br>68:1<br>56:1<br>34:1<br>59:1<br>43:1<br>74:1<br>37:1<br>61:1<br>85:1<br>39:1<br>42:1<br>79:1<br>91:1</td>\n",
              "    </tr>\n",
              "    <tr>\n",
              "      <th>ctr</th>\n",
              "      <td>float64</td>\n",
              "      <td>0</td>\n",
              "      <td>[0.25, 0.0, 0.3076923076923077, 0.8, 0.5101214574898786, 0.2857142857142857, 0.5, 0.40310077519379844, 0.5384615384615384, 0.8333333333333334, 0.41025641025641024, 0.35294117647058826, 0.5059288537549407, 0.375, 0.38461538461538464, 0.4, 0.456, 0.47126436781609193, 0.3951367781155015, 1.0, 0.38095238095238093, 0.7619047619047619, 0.3333333333333333, 0.5685279187817259, 0.45454545454545453, 0.5271317829457365, 0.6451612903225806, 0.5387596899224806, 0.5294117647058824, 0.45161290322580644, 0.48148148148148145, 0.2, 0.37264150943396224, 0.6666666666666666, 0.5714285714285714, 0.2653061224489796, 0.5131578947368421, 0.42857142857142855, 0.39655172413793105, 0.5735294117647058, 0.36363636363636365, 0.43577981651376146, 0.5289855072463768, 0.39593908629441626, 0.3157894736842105, 0.45, 0.5110294117647058, 0.2824427480916031, 0.421875, 0.3888888888888889, 0.5420875420875421, 0.44, 0.5648148148148148, 0.3699421965317919, 0.4652777777777778, 0.358974358974359, 0.5016181229773463, 0.5153374233128835, 0.2605633802816901, 0.509090909090909, 0.539568345323741, 0.875, 0.4411764705882353, 0.5390625, 0.47058823529411764, 0.4772727272727273, 0.3, 0.4762979683972912, 0.4797297297297297, 0.5192307692307693, 0.35714285714285715, 0.5185185185185185, 0.4444444444444444, 0.46099290780141844, 0.47368421052631576, 0.23333333333333334, 0.14285714285714285, 0.5112474437627812, 0.4810126582278481, 0.3105263157894737, 0.5454545454545454, 0.5888157894736842, 0.4791666666666667, 0.625, 0.46735395189003437, 0.29411764705882354, 0.45229007633587787, 0.46601941747572817, 0.6, 0.4696969696969697, 0.7142857142857143, 0.46484375, 0.47619047619047616, 0.43103448275862066, 0.631578947368421, 0.3111111111111111, 0.17647058823529413, 0.46136363636363636, 0.4437869822485207, 0.5311203319502075, ...]</td>\n",
              "      <td>1316</td>\n",
              "      <td>NA</td>\n",
              "    </tr>\n",
              "  </tbody>\n",
              "</table>"
            ],
            "text/plain": [
              "<IPython.core.display.HTML object>"
            ]
          },
          "metadata": {
            "tags": []
          }
        }
      ]
    },
    {
      "cell_type": "code",
      "metadata": {
        "colab": {
          "base_uri": "https://localhost:8080/"
        },
        "id": "o2pUueMxehmv",
        "outputId": "0acb6f43-f241-4c81-8b15-c44faf577d7e"
      },
      "source": [
        "st=StandardScaler()\n",
        "df[df.columns]=st.fit_transform(df[df.columns])\n",
        "dftest[dftest.columns]=st.transform(dftest[dftest.columns])"
      ],
      "execution_count": 39,
      "outputs": [
        {
          "output_type": "stream",
          "text": [
            "/usr/local/lib/python3.7/dist-packages/ipykernel_launcher.py:2: SettingWithCopyWarning: \n",
            "A value is trying to be set on a copy of a slice from a DataFrame.\n",
            "Try using .loc[row_indexer,col_indexer] = value instead\n",
            "\n",
            "See the caveats in the documentation: https://pandas.pydata.org/pandas-docs/stable/user_guide/indexing.html#returning-a-view-versus-a-copy\n",
            "  \n",
            "/usr/local/lib/python3.7/dist-packages/pandas/core/indexing.py:1734: SettingWithCopyWarning: \n",
            "A value is trying to be set on a copy of a slice from a DataFrame.\n",
            "Try using .loc[row_indexer,col_indexer] = value instead\n",
            "\n",
            "See the caveats in the documentation: https://pandas.pydata.org/pandas-docs/stable/user_guide/indexing.html#returning-a-view-versus-a-copy\n",
            "  isetter(loc, value[:, i].tolist())\n",
            "/usr/local/lib/python3.7/dist-packages/ipykernel_launcher.py:3: SettingWithCopyWarning: \n",
            "A value is trying to be set on a copy of a slice from a DataFrame.\n",
            "Try using .loc[row_indexer,col_indexer] = value instead\n",
            "\n",
            "See the caveats in the documentation: https://pandas.pydata.org/pandas-docs/stable/user_guide/indexing.html#returning-a-view-versus-a-copy\n",
            "  This is separate from the ipykernel package so we can avoid doing imports until\n",
            "/usr/local/lib/python3.7/dist-packages/pandas/core/indexing.py:1734: SettingWithCopyWarning: \n",
            "A value is trying to be set on a copy of a slice from a DataFrame.\n",
            "Try using .loc[row_indexer,col_indexer] = value instead\n",
            "\n",
            "See the caveats in the documentation: https://pandas.pydata.org/pandas-docs/stable/user_guide/indexing.html#returning-a-view-versus-a-copy\n",
            "  isetter(loc, value[:, i].tolist())\n"
          ],
          "name": "stderr"
        }
      ]
    },
    {
      "cell_type": "code",
      "metadata": {
        "colab": {
          "base_uri": "https://localhost:8080/",
          "height": 203
        },
        "id": "iqcvxUuLfWPQ",
        "outputId": "e4f0f0bf-c5a8-4df1-f695-c3e74ba9d249"
      },
      "source": [
        "df.head()"
      ],
      "execution_count": 40,
      "outputs": [
        {
          "output_type": "execute_result",
          "data": {
            "text/html": [
              "<div>\n",
              "<style scoped>\n",
              "    .dataframe tbody tr th:only-of-type {\n",
              "        vertical-align: middle;\n",
              "    }\n",
              "\n",
              "    .dataframe tbody tr th {\n",
              "        vertical-align: top;\n",
              "    }\n",
              "\n",
              "    .dataframe thead th {\n",
              "        text-align: right;\n",
              "    }\n",
              "</style>\n",
              "<table border=\"1\" class=\"dataframe\">\n",
              "  <thead>\n",
              "    <tr style=\"text-align: right;\">\n",
              "      <th></th>\n",
              "      <th>impressions</th>\n",
              "      <th>clicks</th>\n",
              "      <th>cost</th>\n",
              "      <th>conversions</th>\n",
              "      <th>ctr</th>\n",
              "    </tr>\n",
              "  </thead>\n",
              "  <tbody>\n",
              "    <tr>\n",
              "      <th>0</th>\n",
              "      <td>-0.346072</td>\n",
              "      <td>-0.372834</td>\n",
              "      <td>-0.189472</td>\n",
              "      <td>-0.256367</td>\n",
              "      <td>-0.818558</td>\n",
              "    </tr>\n",
              "    <tr>\n",
              "      <th>1</th>\n",
              "      <td>-0.462041</td>\n",
              "      <td>-0.432742</td>\n",
              "      <td>-0.195043</td>\n",
              "      <td>-0.256367</td>\n",
              "      <td>-1.895981</td>\n",
              "    </tr>\n",
              "    <tr>\n",
              "      <th>2</th>\n",
              "      <td>-0.401535</td>\n",
              "      <td>-0.392804</td>\n",
              "      <td>-0.192258</td>\n",
              "      <td>-0.256367</td>\n",
              "      <td>-0.569922</td>\n",
              "    </tr>\n",
              "    <tr>\n",
              "      <th>3</th>\n",
              "      <td>-0.441873</td>\n",
              "      <td>-0.392804</td>\n",
              "      <td>-0.189472</td>\n",
              "      <td>-0.256367</td>\n",
              "      <td>1.551773</td>\n",
              "    </tr>\n",
              "    <tr>\n",
              "      <th>4</th>\n",
              "      <td>0.778328</td>\n",
              "      <td>0.825321</td>\n",
              "      <td>-0.105211</td>\n",
              "      <td>0.509425</td>\n",
              "      <td>0.302486</td>\n",
              "    </tr>\n",
              "  </tbody>\n",
              "</table>\n",
              "</div>"
            ],
            "text/plain": [
              "   impressions    clicks      cost  conversions       ctr\n",
              "0    -0.346072 -0.372834 -0.189472    -0.256367 -0.818558\n",
              "1    -0.462041 -0.432742 -0.195043    -0.256367 -1.895981\n",
              "2    -0.401535 -0.392804 -0.192258    -0.256367 -0.569922\n",
              "3    -0.441873 -0.392804 -0.189472    -0.256367  1.551773\n",
              "4     0.778328  0.825321 -0.105211     0.509425  0.302486"
            ]
          },
          "metadata": {
            "tags": []
          },
          "execution_count": 40
        }
      ]
    },
    {
      "cell_type": "code",
      "metadata": {
        "colab": {
          "base_uri": "https://localhost:8080/",
          "height": 203
        },
        "id": "UzhgNzngfess",
        "outputId": "3dccbb88-1ecd-4a88-c4a4-1d7a35ff40c3"
      },
      "source": [
        "dftest.head()"
      ],
      "execution_count": 41,
      "outputs": [
        {
          "output_type": "execute_result",
          "data": {
            "text/html": [
              "<div>\n",
              "<style scoped>\n",
              "    .dataframe tbody tr th:only-of-type {\n",
              "        vertical-align: middle;\n",
              "    }\n",
              "\n",
              "    .dataframe tbody tr th {\n",
              "        vertical-align: top;\n",
              "    }\n",
              "\n",
              "    .dataframe thead th {\n",
              "        text-align: right;\n",
              "    }\n",
              "</style>\n",
              "<table border=\"1\" class=\"dataframe\">\n",
              "  <thead>\n",
              "    <tr style=\"text-align: right;\">\n",
              "      <th></th>\n",
              "      <th>impressions</th>\n",
              "      <th>clicks</th>\n",
              "      <th>cost</th>\n",
              "      <th>conversions</th>\n",
              "      <th>ctr</th>\n",
              "    </tr>\n",
              "  </thead>\n",
              "  <tbody>\n",
              "    <tr>\n",
              "      <th>0</th>\n",
              "      <td>0.143017</td>\n",
              "      <td>0.056505</td>\n",
              "      <td>-0.154654</td>\n",
              "      <td>-0.064919</td>\n",
              "      <td>-0.150734</td>\n",
              "    </tr>\n",
              "    <tr>\n",
              "      <th>1</th>\n",
              "      <td>-0.356156</td>\n",
              "      <td>-0.312927</td>\n",
              "      <td>-0.183205</td>\n",
              "      <td>-0.256367</td>\n",
              "      <td>0.454760</td>\n",
              "    </tr>\n",
              "    <tr>\n",
              "      <th>2</th>\n",
              "      <td>-0.441873</td>\n",
              "      <td>-0.402788</td>\n",
              "      <td>-0.191562</td>\n",
              "      <td>-0.256367</td>\n",
              "      <td>0.689834</td>\n",
              "    </tr>\n",
              "    <tr>\n",
              "      <th>3</th>\n",
              "      <td>-0.456999</td>\n",
              "      <td>-0.422758</td>\n",
              "      <td>-0.194347</td>\n",
              "      <td>-0.256367</td>\n",
              "      <td>0.258865</td>\n",
              "    </tr>\n",
              "    <tr>\n",
              "      <th>4</th>\n",
              "      <td>-0.451957</td>\n",
              "      <td>-0.422758</td>\n",
              "      <td>-0.194347</td>\n",
              "      <td>-0.256367</td>\n",
              "      <td>-0.459417</td>\n",
              "    </tr>\n",
              "  </tbody>\n",
              "</table>\n",
              "</div>"
            ],
            "text/plain": [
              "   impressions    clicks      cost  conversions       ctr\n",
              "0     0.143017  0.056505 -0.154654    -0.064919 -0.150734\n",
              "1    -0.356156 -0.312927 -0.183205    -0.256367  0.454760\n",
              "2    -0.441873 -0.402788 -0.191562    -0.256367  0.689834\n",
              "3    -0.456999 -0.422758 -0.194347    -0.256367  0.258865\n",
              "4    -0.451957 -0.422758 -0.194347    -0.256367 -0.459417"
            ]
          },
          "metadata": {
            "tags": []
          },
          "execution_count": 41
        }
      ]
    },
    {
      "cell_type": "code",
      "metadata": {
        "id": "KmVa85_uY0IA"
      },
      "source": [
        "y=train['revenue']"
      ],
      "execution_count": 42,
      "outputs": []
    },
    {
      "cell_type": "code",
      "metadata": {
        "colab": {
          "base_uri": "https://localhost:8080/"
        },
        "id": "8GVnvMZKZMgI",
        "outputId": "1163a465-b63c-472a-dbf6-109f21e161aa"
      },
      "source": [
        "X_train, X_test, y_train, y_test = train_test_split(df, y, test_size=0.30, random_state=40)\n",
        "print(X_train.shape); print(X_test.shape)"
      ],
      "execution_count": 43,
      "outputs": [
        {
          "output_type": "stream",
          "text": [
            "(3199, 5)\n",
            "(1372, 5)\n"
          ],
          "name": "stdout"
        }
      ]
    },
    {
      "cell_type": "code",
      "metadata": {
        "colab": {
          "base_uri": "https://localhost:8080/"
        },
        "id": "BghuNZkscRBW",
        "outputId": "a85cf4b4-d857-4e96-961a-53f8fe8ca5a2"
      },
      "source": [
        "model = Sequential()\n",
        "model.add(Dense(5000, input_dim=5, activation= \"relu\"))\n",
        "model.add(Dense(1000, activation= \"relu\"))\n",
        "model.add(Dense(500, activation= \"relu\"))\n",
        "model.add(Dense(1))\n",
        "model.summary()"
      ],
      "execution_count": 44,
      "outputs": [
        {
          "output_type": "stream",
          "text": [
            "Model: \"sequential_2\"\n",
            "_________________________________________________________________\n",
            "Layer (type)                 Output Shape              Param #   \n",
            "=================================================================\n",
            "dense_8 (Dense)              (None, 5000)              30000     \n",
            "_________________________________________________________________\n",
            "dense_9 (Dense)              (None, 1000)              5001000   \n",
            "_________________________________________________________________\n",
            "dense_10 (Dense)             (None, 500)               500500    \n",
            "_________________________________________________________________\n",
            "dense_11 (Dense)             (None, 1)                 501       \n",
            "=================================================================\n",
            "Total params: 5,532,001\n",
            "Trainable params: 5,532,001\n",
            "Non-trainable params: 0\n",
            "_________________________________________________________________\n"
          ],
          "name": "stdout"
        }
      ]
    },
    {
      "cell_type": "code",
      "metadata": {
        "colab": {
          "base_uri": "https://localhost:8080/"
        },
        "id": "Fg8e5cvMctOE",
        "outputId": "af95744d-7754-4d82-fad2-390f55699f3e"
      },
      "source": [
        "model.compile(loss= \"mean_squared_error\" , optimizer=\"adam\", metrics=[\"mean_squared_error\"])\n",
        "model.fit(X_train, y_train, epochs=100)"
      ],
      "execution_count": 45,
      "outputs": [
        {
          "output_type": "stream",
          "text": [
            "Epoch 1/100\n",
            "100/100 [==============================] - 7s 63ms/step - loss: 1256714.3963 - mean_squared_error: 1256714.3963\n",
            "Epoch 2/100\n",
            "100/100 [==============================] - 6s 62ms/step - loss: 195620.5107 - mean_squared_error: 195620.5107\n",
            "Epoch 3/100\n",
            "100/100 [==============================] - 6s 61ms/step - loss: 114605.3010 - mean_squared_error: 114605.3010\n",
            "Epoch 4/100\n",
            "100/100 [==============================] - 6s 62ms/step - loss: 223730.3370 - mean_squared_error: 223730.3370\n",
            "Epoch 5/100\n",
            "100/100 [==============================] - 6s 61ms/step - loss: 47742.2876 - mean_squared_error: 47742.2876\n",
            "Epoch 6/100\n",
            "100/100 [==============================] - 6s 62ms/step - loss: 128741.3786 - mean_squared_error: 128741.3786\n",
            "Epoch 7/100\n",
            "100/100 [==============================] - 6s 61ms/step - loss: 55373.6471 - mean_squared_error: 55373.6471\n",
            "Epoch 8/100\n",
            "100/100 [==============================] - 6s 62ms/step - loss: 84387.3310 - mean_squared_error: 84387.3310\n",
            "Epoch 9/100\n",
            "100/100 [==============================] - 6s 61ms/step - loss: 77574.5879 - mean_squared_error: 77574.5879\n",
            "Epoch 10/100\n",
            "100/100 [==============================] - 6s 61ms/step - loss: 72548.5331 - mean_squared_error: 72548.5331\n",
            "Epoch 11/100\n",
            "100/100 [==============================] - 6s 61ms/step - loss: 71246.9985 - mean_squared_error: 71246.9985\n",
            "Epoch 12/100\n",
            "100/100 [==============================] - 6s 62ms/step - loss: 66434.3235 - mean_squared_error: 66434.3235\n",
            "Epoch 13/100\n",
            "100/100 [==============================] - 6s 61ms/step - loss: 71172.0330 - mean_squared_error: 71172.0330\n",
            "Epoch 14/100\n",
            "100/100 [==============================] - 6s 61ms/step - loss: 294175.7637 - mean_squared_error: 294175.7637\n",
            "Epoch 15/100\n",
            "100/100 [==============================] - 6s 61ms/step - loss: 108368.3962 - mean_squared_error: 108368.3962\n",
            "Epoch 16/100\n",
            "100/100 [==============================] - 6s 62ms/step - loss: 53115.6368 - mean_squared_error: 53115.6368\n",
            "Epoch 17/100\n",
            "100/100 [==============================] - 6s 61ms/step - loss: 81249.8945 - mean_squared_error: 81249.8945\n",
            "Epoch 18/100\n",
            "100/100 [==============================] - 6s 61ms/step - loss: 46176.5918 - mean_squared_error: 46176.5918\n",
            "Epoch 19/100\n",
            "100/100 [==============================] - 6s 61ms/step - loss: 48946.5587 - mean_squared_error: 48946.5587\n",
            "Epoch 20/100\n",
            "100/100 [==============================] - 6s 62ms/step - loss: 52843.8274 - mean_squared_error: 52843.8274\n",
            "Epoch 21/100\n",
            "100/100 [==============================] - 6s 62ms/step - loss: 51861.0373 - mean_squared_error: 51861.0373\n",
            "Epoch 22/100\n",
            "100/100 [==============================] - 6s 61ms/step - loss: 86353.4033 - mean_squared_error: 86353.4033\n",
            "Epoch 23/100\n",
            "100/100 [==============================] - 6s 61ms/step - loss: 84528.4161 - mean_squared_error: 84528.4161\n",
            "Epoch 24/100\n",
            "100/100 [==============================] - 6s 61ms/step - loss: 53589.0994 - mean_squared_error: 53589.0994\n",
            "Epoch 25/100\n",
            "100/100 [==============================] - 6s 61ms/step - loss: 62459.7740 - mean_squared_error: 62459.7740\n",
            "Epoch 26/100\n",
            "100/100 [==============================] - 6s 62ms/step - loss: 125847.4559 - mean_squared_error: 125847.4559\n",
            "Epoch 27/100\n",
            "100/100 [==============================] - 6s 61ms/step - loss: 55858.8823 - mean_squared_error: 55858.8823\n",
            "Epoch 28/100\n",
            "100/100 [==============================] - 6s 61ms/step - loss: 55718.3887 - mean_squared_error: 55718.3887\n",
            "Epoch 29/100\n",
            "100/100 [==============================] - 6s 61ms/step - loss: 67787.3050 - mean_squared_error: 67787.3050\n",
            "Epoch 30/100\n",
            "100/100 [==============================] - 6s 61ms/step - loss: 56013.1396 - mean_squared_error: 56013.1396\n",
            "Epoch 31/100\n",
            "100/100 [==============================] - 6s 63ms/step - loss: 51163.3653 - mean_squared_error: 51163.3653\n",
            "Epoch 32/100\n",
            "100/100 [==============================] - 6s 62ms/step - loss: 118655.6384 - mean_squared_error: 118655.6384\n",
            "Epoch 33/100\n",
            "100/100 [==============================] - 6s 62ms/step - loss: 43471.4529 - mean_squared_error: 43471.4529\n",
            "Epoch 34/100\n",
            "100/100 [==============================] - 6s 62ms/step - loss: 49440.3253 - mean_squared_error: 49440.3253\n",
            "Epoch 35/100\n",
            "100/100 [==============================] - 6s 61ms/step - loss: 89084.5391 - mean_squared_error: 89084.5391\n",
            "Epoch 36/100\n",
            "100/100 [==============================] - 6s 62ms/step - loss: 76418.6630 - mean_squared_error: 76418.6630\n",
            "Epoch 37/100\n",
            "100/100 [==============================] - 6s 62ms/step - loss: 72912.6996 - mean_squared_error: 72912.6996\n",
            "Epoch 38/100\n",
            "100/100 [==============================] - 6s 62ms/step - loss: 54192.9849 - mean_squared_error: 54192.9849\n",
            "Epoch 39/100\n",
            "100/100 [==============================] - 6s 61ms/step - loss: 92901.8267 - mean_squared_error: 92901.8267\n",
            "Epoch 40/100\n",
            "100/100 [==============================] - 6s 62ms/step - loss: 73307.0452 - mean_squared_error: 73307.0452\n",
            "Epoch 41/100\n",
            "100/100 [==============================] - 6s 63ms/step - loss: 45098.7864 - mean_squared_error: 45098.7864\n",
            "Epoch 42/100\n",
            "100/100 [==============================] - 6s 61ms/step - loss: 55406.2796 - mean_squared_error: 55406.2796\n",
            "Epoch 43/100\n",
            "100/100 [==============================] - 6s 62ms/step - loss: 73451.6890 - mean_squared_error: 73451.6890\n",
            "Epoch 44/100\n",
            "100/100 [==============================] - 6s 61ms/step - loss: 71444.1466 - mean_squared_error: 71444.1466\n",
            "Epoch 45/100\n",
            "100/100 [==============================] - 6s 62ms/step - loss: 76252.1435 - mean_squared_error: 76252.1435\n",
            "Epoch 46/100\n",
            "100/100 [==============================] - 6s 61ms/step - loss: 45074.9341 - mean_squared_error: 45074.9341\n",
            "Epoch 47/100\n",
            "100/100 [==============================] - 6s 62ms/step - loss: 141552.5464 - mean_squared_error: 141552.5464\n",
            "Epoch 48/100\n",
            "100/100 [==============================] - 6s 61ms/step - loss: 67022.3944 - mean_squared_error: 67022.3944\n",
            "Epoch 49/100\n",
            "100/100 [==============================] - 6s 62ms/step - loss: 55632.5582 - mean_squared_error: 55632.5582\n",
            "Epoch 50/100\n",
            "100/100 [==============================] - 6s 62ms/step - loss: 61998.2444 - mean_squared_error: 61998.2444\n",
            "Epoch 51/100\n",
            "100/100 [==============================] - 6s 62ms/step - loss: 66571.3720 - mean_squared_error: 66571.3720\n",
            "Epoch 52/100\n",
            "100/100 [==============================] - 6s 62ms/step - loss: 51497.1347 - mean_squared_error: 51497.1347\n",
            "Epoch 53/100\n",
            "100/100 [==============================] - 6s 61ms/step - loss: 49911.4455 - mean_squared_error: 49911.4455\n",
            "Epoch 54/100\n",
            "100/100 [==============================] - 6s 61ms/step - loss: 89060.6661 - mean_squared_error: 89060.6661\n",
            "Epoch 55/100\n",
            "100/100 [==============================] - 6s 62ms/step - loss: 54943.1599 - mean_squared_error: 54943.1599\n",
            "Epoch 56/100\n",
            "100/100 [==============================] - 6s 62ms/step - loss: 59454.1999 - mean_squared_error: 59454.1999\n",
            "Epoch 57/100\n",
            "100/100 [==============================] - 6s 62ms/step - loss: 61489.9186 - mean_squared_error: 61489.9186\n",
            "Epoch 58/100\n",
            "100/100 [==============================] - 6s 62ms/step - loss: 53715.1945 - mean_squared_error: 53715.1945\n",
            "Epoch 59/100\n",
            "100/100 [==============================] - 6s 62ms/step - loss: 59817.6701 - mean_squared_error: 59817.6701\n",
            "Epoch 60/100\n",
            "100/100 [==============================] - 6s 62ms/step - loss: 64183.9127 - mean_squared_error: 64183.9127\n",
            "Epoch 61/100\n",
            "100/100 [==============================] - 6s 62ms/step - loss: 90928.1908 - mean_squared_error: 90928.1908\n",
            "Epoch 62/100\n",
            "100/100 [==============================] - 6s 62ms/step - loss: 123490.0979 - mean_squared_error: 123490.0979\n",
            "Epoch 63/100\n",
            "100/100 [==============================] - 6s 62ms/step - loss: 67429.5709 - mean_squared_error: 67429.5709\n",
            "Epoch 64/100\n",
            "100/100 [==============================] - 6s 62ms/step - loss: 46349.1985 - mean_squared_error: 46349.1985\n",
            "Epoch 65/100\n",
            "100/100 [==============================] - 6s 62ms/step - loss: 86749.7731 - mean_squared_error: 86749.7731\n",
            "Epoch 66/100\n",
            "100/100 [==============================] - 6s 63ms/step - loss: 57047.0605 - mean_squared_error: 57047.0605\n",
            "Epoch 67/100\n",
            "100/100 [==============================] - 6s 62ms/step - loss: 35917.8966 - mean_squared_error: 35917.8966\n",
            "Epoch 68/100\n",
            "100/100 [==============================] - 6s 62ms/step - loss: 99213.0441 - mean_squared_error: 99213.0441\n",
            "Epoch 69/100\n",
            "100/100 [==============================] - 6s 62ms/step - loss: 59808.1167 - mean_squared_error: 59808.1167\n",
            "Epoch 70/100\n",
            "100/100 [==============================] - 6s 62ms/step - loss: 71594.5224 - mean_squared_error: 71594.5224\n",
            "Epoch 71/100\n",
            "100/100 [==============================] - 6s 62ms/step - loss: 59613.3183 - mean_squared_error: 59613.3183\n",
            "Epoch 72/100\n",
            "100/100 [==============================] - 6s 62ms/step - loss: 43699.7346 - mean_squared_error: 43699.7346\n",
            "Epoch 73/100\n",
            "100/100 [==============================] - 6s 62ms/step - loss: 39109.2390 - mean_squared_error: 39109.2390\n",
            "Epoch 74/100\n",
            "100/100 [==============================] - 6s 62ms/step - loss: 47409.1749 - mean_squared_error: 47409.1749\n",
            "Epoch 75/100\n",
            "100/100 [==============================] - 6s 62ms/step - loss: 96730.8391 - mean_squared_error: 96730.8391\n",
            "Epoch 76/100\n",
            "100/100 [==============================] - 6s 62ms/step - loss: 94394.6524 - mean_squared_error: 94394.6524\n",
            "Epoch 77/100\n",
            "100/100 [==============================] - 6s 61ms/step - loss: 56806.0304 - mean_squared_error: 56806.0304\n",
            "Epoch 78/100\n",
            "100/100 [==============================] - 6s 62ms/step - loss: 66519.5575 - mean_squared_error: 66519.5575\n",
            "Epoch 79/100\n",
            "100/100 [==============================] - 6s 62ms/step - loss: 61215.9089 - mean_squared_error: 61215.9089\n",
            "Epoch 80/100\n",
            "100/100 [==============================] - 6s 62ms/step - loss: 56315.5525 - mean_squared_error: 56315.5525\n",
            "Epoch 81/100\n",
            "100/100 [==============================] - 6s 62ms/step - loss: 37634.2010 - mean_squared_error: 37634.2010\n",
            "Epoch 82/100\n",
            "100/100 [==============================] - 6s 62ms/step - loss: 48626.0850 - mean_squared_error: 48626.0850\n",
            "Epoch 83/100\n",
            "100/100 [==============================] - 6s 62ms/step - loss: 59163.0526 - mean_squared_error: 59163.0526\n",
            "Epoch 84/100\n",
            "100/100 [==============================] - 6s 62ms/step - loss: 77951.4571 - mean_squared_error: 77951.4571\n",
            "Epoch 85/100\n",
            "100/100 [==============================] - 6s 62ms/step - loss: 55113.6411 - mean_squared_error: 55113.6411\n",
            "Epoch 86/100\n",
            "100/100 [==============================] - 6s 61ms/step - loss: 50054.2390 - mean_squared_error: 50054.2390\n",
            "Epoch 87/100\n",
            "100/100 [==============================] - 6s 62ms/step - loss: 77125.6282 - mean_squared_error: 77125.6282\n",
            "Epoch 88/100\n",
            "100/100 [==============================] - 6s 62ms/step - loss: 38789.7310 - mean_squared_error: 38789.7310\n",
            "Epoch 89/100\n",
            "100/100 [==============================] - 6s 62ms/step - loss: 39282.1926 - mean_squared_error: 39282.1926\n",
            "Epoch 90/100\n",
            "100/100 [==============================] - 6s 62ms/step - loss: 72408.7244 - mean_squared_error: 72408.7244\n",
            "Epoch 91/100\n",
            "100/100 [==============================] - 6s 63ms/step - loss: 53792.9981 - mean_squared_error: 53792.9981\n",
            "Epoch 92/100\n",
            "100/100 [==============================] - 6s 62ms/step - loss: 53163.6231 - mean_squared_error: 53163.6231\n",
            "Epoch 93/100\n",
            "100/100 [==============================] - 6s 62ms/step - loss: 56430.4270 - mean_squared_error: 56430.4270\n",
            "Epoch 94/100\n",
            "100/100 [==============================] - 6s 63ms/step - loss: 40881.6013 - mean_squared_error: 40881.6013\n",
            "Epoch 95/100\n",
            "100/100 [==============================] - 6s 62ms/step - loss: 47574.8585 - mean_squared_error: 47574.8585\n",
            "Epoch 96/100\n",
            "100/100 [==============================] - 6s 62ms/step - loss: 48270.6045 - mean_squared_error: 48270.6045\n",
            "Epoch 97/100\n",
            "100/100 [==============================] - 6s 62ms/step - loss: 55807.5793 - mean_squared_error: 55807.5793\n",
            "Epoch 98/100\n",
            "100/100 [==============================] - 6s 62ms/step - loss: 44523.1197 - mean_squared_error: 44523.1197\n",
            "Epoch 99/100\n",
            "100/100 [==============================] - 6s 62ms/step - loss: 50053.0614 - mean_squared_error: 50053.0614\n",
            "Epoch 100/100\n",
            "100/100 [==============================] - 6s 63ms/step - loss: 47707.5740 - mean_squared_error: 47707.5740\n"
          ],
          "name": "stdout"
        },
        {
          "output_type": "execute_result",
          "data": {
            "text/plain": [
              "<keras.callbacks.History at 0x7f7c2d875090>"
            ]
          },
          "metadata": {
            "tags": []
          },
          "execution_count": 45
        }
      ]
    },
    {
      "cell_type": "code",
      "metadata": {
        "colab": {
          "base_uri": "https://localhost:8080/"
        },
        "id": "l4rmBZ4Mc4AP",
        "outputId": "9415dba0-02fa-4e52-ba36-abb103d8d9f3"
      },
      "source": [
        "pred_train= model.predict(X_train)\n",
        "print(np.sqrt(mean_squared_error(y_train,pred_train)))\n",
        "\n",
        "pred= model.predict(X_test)\n",
        "print(np.sqrt(mean_squared_error(y_test,pred))) "
      ],
      "execution_count": 46,
      "outputs": [
        {
          "output_type": "stream",
          "text": [
            "205.5967582522318\n",
            "223.13020706498818\n"
          ],
          "name": "stdout"
        }
      ]
    },
    {
      "cell_type": "code",
      "metadata": {
        "id": "MVCDDuaMktAn"
      },
      "source": [
        "test['revenue']=model.predict(dftest)"
      ],
      "execution_count": 47,
      "outputs": []
    },
    {
      "cell_type": "code",
      "metadata": {
        "id": "mh8cfdPBl5LK"
      },
      "source": [
        "test['revenue']=[y if y>0 else 0 for y in test.revenue]"
      ],
      "execution_count": 52,
      "outputs": []
    },
    {
      "cell_type": "code",
      "metadata": {
        "id": "v5_Q77Atl6uS"
      },
      "source": [
        "\n",
        "test['revenue']=[np.round(y)for y in test.revenue]"
      ],
      "execution_count": 55,
      "outputs": []
    },
    {
      "cell_type": "code",
      "metadata": {
        "colab": {
          "base_uri": "https://localhost:8080/"
        },
        "id": "tCSBYfRdmabu",
        "outputId": "d25260a3-7b3d-4684-8fd6-35408fe11a7e"
      },
      "source": [
        "np.mean(test['revenue'])"
      ],
      "execution_count": 62,
      "outputs": [
        {
          "output_type": "execute_result",
          "data": {
            "text/plain": [
              "130.88679245283018"
            ]
          },
          "metadata": {
            "tags": []
          },
          "execution_count": 62
        }
      ]
    },
    {
      "cell_type": "code",
      "metadata": {
        "id": "sh-j1iIDmksT"
      },
      "source": [
        "sample_sub=pd.read_csv(\"/content/Sample_Submission.csv\")"
      ],
      "execution_count": 63,
      "outputs": []
    },
    {
      "cell_type": "code",
      "metadata": {
        "id": "vo9Q756LnCoo"
      },
      "source": [
        "sample_sub['revenue']=test['revenue']"
      ],
      "execution_count": 66,
      "outputs": []
    },
    {
      "cell_type": "code",
      "metadata": {
        "id": "XoSoKUARnEkh"
      },
      "source": [
        "sample_sub.to_csv(\"/content/Submission.csv\")"
      ],
      "execution_count": 68,
      "outputs": []
    },
    {
      "cell_type": "code",
      "metadata": {
        "id": "e5oYLdZ_nN7p"
      },
      "source": [
        ""
      ],
      "execution_count": null,
      "outputs": []
    }
  ]
}