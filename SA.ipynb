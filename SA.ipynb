{
  "nbformat": 4,
  "nbformat_minor": 0,
  "metadata": {
    "colab": {
      "name": "SA.ipynb",
      "provenance": [],
      "authorship_tag": "ABX9TyOaMIpIxCsT8MtNDn0BRvSp",
      "include_colab_link": true
    },
    "kernelspec": {
      "name": "python3",
      "display_name": "Python 3"
    },
    "language_info": {
      "name": "python"
    }
  },
  "cells": [
    {
      "cell_type": "markdown",
      "metadata": {
        "id": "view-in-github",
        "colab_type": "text"
      },
      "source": [
        "<a href=\"https://colab.research.google.com/github/bitanb1999/Summer-Analytics-2021/blob/main/SA.ipynb\" target=\"_parent\"><img src=\"https://colab.research.google.com/assets/colab-badge.svg\" alt=\"Open In Colab\"/></a>"
      ]
    },
    {
      "cell_type": "markdown",
      "metadata": {
        "id": "DkL3m_qe_Y3H"
      },
      "source": [
        "##Summer Analytics Capstone Project"
      ]
    },
    {
      "cell_type": "markdown",
      "metadata": {
        "id": "9LIH8WFC_f3K"
      },
      "source": [
        "####Pre-requisites"
      ]
    },
    {
      "cell_type": "code",
      "metadata": {
        "id": "7vhmBkiz_cO0"
      },
      "source": [
        "import numpy as np\n",
        "import scipy.stats\n",
        "import scipy.special\n",
        "import matplotlib\n",
        "import matplotlib.pyplot as plt\n",
        "import matplotlib.mlab as mlab\n",
        "from matplotlib import cm\n",
        "import pandas as pd\n",
        "from sklearn.pipeline import make_pipeline, make_union, Pipeline\n",
        "from sklearn.preprocessing import StandardScaler, OrdinalEncoder\n",
        "from sklearn.metrics import mean_squared_error\n",
        "from sklearn.ensemble import GradientBoostingRegressor\n",
        "from sklearn.model_selection import ParameterGrid\n",
        "from sklearn.model_selection import train_test_split\n",
        "from sklearn.metrics import mean_squared_error\n",
        "from math import sqrt\n",
        "from keras.models import Sequential\n",
        "from keras.models import Model as KerasModel\n",
        "from keras.layers import Input, Dense, Activation, Reshape\n",
        "from keras.layers import Concatenate\n",
        "from keras.layers.embeddings import Embedding\n",
        "from sklearn.ensemble import RandomForestRegressor\n",
        "from sklearn import linear_model\n",
        "import pickle\n",
        "import csv\n",
        "from datetime import datetime\n",
        "from sklearn import preprocessing\n",
        "from keras.callbacks import ModelCheckpoint\n",
        "import xgboost as xgb\n",
        "from sklearn.preprocessing import OneHotEncoder\n",
        "\n",
        "#Pipeline\n",
        "from sklearn.pipeline import make_pipeline\n",
        "from sklearn.compose import make_column_transformer\n",
        "\n",
        "#For Missing Value and Feature Engineering\n",
        "from sklearn.feature_selection import SelectKBest, chi2, f_classif, VarianceThreshold\n",
        "from sklearn.impute import SimpleImputer, KNNImputer, MissingIndicator\n",
        "from sklearn.preprocessing import KBinsDiscretizer, LabelEncoder, MinMaxScaler\n",
        "from sklearn.decomposition import PCA\n",
        "\n",
        "from sklearn.ensemble import RandomForestClassifier, ExtraTreesClassifier\n",
        "from xgboost import XGBRegressor\n",
        "\n",
        "import time\n",
        "import seaborn as sns\n",
        "%matplotlib inline"
      ],
      "execution_count": 1,
      "outputs": []
    },
    {
      "cell_type": "markdown",
      "metadata": {
        "id": "KGt1iicownGS"
      },
      "source": [
        "###Data:"
      ]
    },
    {
      "cell_type": "code",
      "metadata": {
        "id": "mua3nQKn_9bs"
      },
      "source": [
        "## getting the data\n",
        "train=pd.read_csv(\"/content/Train_Data.csv\")\n",
        "test=pd.read_csv(\"/content/Test_Data.csv\")"
      ],
      "execution_count": 2,
      "outputs": []
    },
    {
      "cell_type": "code",
      "metadata": {
        "colab": {
          "base_uri": "https://localhost:8080/",
          "height": 203
        },
        "id": "GszydzF0DFTG",
        "outputId": "c6efaea9-5396-4f79-93e1-ecc4f6ba7fc2"
      },
      "source": [
        "train.head()"
      ],
      "execution_count": 3,
      "outputs": [
        {
          "output_type": "execute_result",
          "data": {
            "text/html": [
              "<div>\n",
              "<style scoped>\n",
              "    .dataframe tbody tr th:only-of-type {\n",
              "        vertical-align: middle;\n",
              "    }\n",
              "\n",
              "    .dataframe tbody tr th {\n",
              "        vertical-align: top;\n",
              "    }\n",
              "\n",
              "    .dataframe thead th {\n",
              "        text-align: right;\n",
              "    }\n",
              "</style>\n",
              "<table border=\"1\" class=\"dataframe\">\n",
              "  <thead>\n",
              "    <tr style=\"text-align: right;\">\n",
              "      <th></th>\n",
              "      <th>date</th>\n",
              "      <th>campaign</th>\n",
              "      <th>adgroup</th>\n",
              "      <th>ad</th>\n",
              "      <th>impressions</th>\n",
              "      <th>clicks</th>\n",
              "      <th>cost</th>\n",
              "      <th>conversions</th>\n",
              "      <th>revenue</th>\n",
              "    </tr>\n",
              "  </thead>\n",
              "  <tbody>\n",
              "    <tr>\n",
              "      <th>0</th>\n",
              "      <td>01-08-2020</td>\n",
              "      <td>campaign 1</td>\n",
              "      <td>adgroup 1</td>\n",
              "      <td>ad 1</td>\n",
              "      <td>24</td>\n",
              "      <td>6</td>\n",
              "      <td>0.08</td>\n",
              "      <td>0</td>\n",
              "      <td>0.00</td>\n",
              "    </tr>\n",
              "    <tr>\n",
              "      <th>1</th>\n",
              "      <td>01-08-2020</td>\n",
              "      <td>campaign 1</td>\n",
              "      <td>adgroup 2</td>\n",
              "      <td>ad 1</td>\n",
              "      <td>1</td>\n",
              "      <td>0</td>\n",
              "      <td>0.00</td>\n",
              "      <td>0</td>\n",
              "      <td>0.00</td>\n",
              "    </tr>\n",
              "    <tr>\n",
              "      <th>2</th>\n",
              "      <td>01-08-2020</td>\n",
              "      <td>campaign 1</td>\n",
              "      <td>adgroup 3</td>\n",
              "      <td>ad 1</td>\n",
              "      <td>13</td>\n",
              "      <td>4</td>\n",
              "      <td>0.04</td>\n",
              "      <td>0</td>\n",
              "      <td>0.00</td>\n",
              "    </tr>\n",
              "    <tr>\n",
              "      <th>3</th>\n",
              "      <td>01-08-2020</td>\n",
              "      <td>campaign 1</td>\n",
              "      <td>adgroup 4</td>\n",
              "      <td>ad 1</td>\n",
              "      <td>5</td>\n",
              "      <td>4</td>\n",
              "      <td>0.08</td>\n",
              "      <td>0</td>\n",
              "      <td>0.00</td>\n",
              "    </tr>\n",
              "    <tr>\n",
              "      <th>4</th>\n",
              "      <td>01-08-2020</td>\n",
              "      <td>campaign 1</td>\n",
              "      <td>adgroup 1</td>\n",
              "      <td>ad 2</td>\n",
              "      <td>247</td>\n",
              "      <td>126</td>\n",
              "      <td>1.29</td>\n",
              "      <td>4</td>\n",
              "      <td>925.71</td>\n",
              "    </tr>\n",
              "  </tbody>\n",
              "</table>\n",
              "</div>"
            ],
            "text/plain": [
              "         date    campaign    adgroup    ad  ...  clicks  cost  conversions  revenue\n",
              "0  01-08-2020  campaign 1  adgroup 1  ad 1  ...       6  0.08            0     0.00\n",
              "1  01-08-2020  campaign 1  adgroup 2  ad 1  ...       0  0.00            0     0.00\n",
              "2  01-08-2020  campaign 1  adgroup 3  ad 1  ...       4  0.04            0     0.00\n",
              "3  01-08-2020  campaign 1  adgroup 4  ad 1  ...       4  0.08            0     0.00\n",
              "4  01-08-2020  campaign 1  adgroup 1  ad 2  ...     126  1.29            4   925.71\n",
              "\n",
              "[5 rows x 9 columns]"
            ]
          },
          "metadata": {
            "tags": []
          },
          "execution_count": 3
        }
      ]
    },
    {
      "cell_type": "code",
      "metadata": {
        "colab": {
          "base_uri": "https://localhost:8080/",
          "height": 203
        },
        "id": "V8OlKLBtDH_T",
        "outputId": "5235229f-3e41-4b45-cc29-718dd899400b"
      },
      "source": [
        "test.head()"
      ],
      "execution_count": 4,
      "outputs": [
        {
          "output_type": "execute_result",
          "data": {
            "text/html": [
              "<div>\n",
              "<style scoped>\n",
              "    .dataframe tbody tr th:only-of-type {\n",
              "        vertical-align: middle;\n",
              "    }\n",
              "\n",
              "    .dataframe tbody tr th {\n",
              "        vertical-align: top;\n",
              "    }\n",
              "\n",
              "    .dataframe thead th {\n",
              "        text-align: right;\n",
              "    }\n",
              "</style>\n",
              "<table border=\"1\" class=\"dataframe\">\n",
              "  <thead>\n",
              "    <tr style=\"text-align: right;\">\n",
              "      <th></th>\n",
              "      <th>date</th>\n",
              "      <th>campaign</th>\n",
              "      <th>adgroup</th>\n",
              "      <th>ad</th>\n",
              "      <th>cost</th>\n",
              "      <th>impressions</th>\n",
              "      <th>clicks</th>\n",
              "      <th>conversions</th>\n",
              "    </tr>\n",
              "  </thead>\n",
              "  <tbody>\n",
              "    <tr>\n",
              "      <th>0</th>\n",
              "      <td>01-03-2021</td>\n",
              "      <td>campaign 1</td>\n",
              "      <td>adgroup 1</td>\n",
              "      <td>ad 1</td>\n",
              "      <td>0.58</td>\n",
              "      <td>121</td>\n",
              "      <td>49</td>\n",
              "      <td>1</td>\n",
              "    </tr>\n",
              "    <tr>\n",
              "      <th>1</th>\n",
              "      <td>01-03-2021</td>\n",
              "      <td>campaign 1</td>\n",
              "      <td>adgroup 3</td>\n",
              "      <td>ad 1</td>\n",
              "      <td>0.17</td>\n",
              "      <td>22</td>\n",
              "      <td>12</td>\n",
              "      <td>0</td>\n",
              "    </tr>\n",
              "    <tr>\n",
              "      <th>2</th>\n",
              "      <td>01-03-2021</td>\n",
              "      <td>campaign 1</td>\n",
              "      <td>adgroup 4</td>\n",
              "      <td>ad 1</td>\n",
              "      <td>0.05</td>\n",
              "      <td>5</td>\n",
              "      <td>3</td>\n",
              "      <td>0</td>\n",
              "    </tr>\n",
              "    <tr>\n",
              "      <th>3</th>\n",
              "      <td>01-03-2021</td>\n",
              "      <td>campaign 1</td>\n",
              "      <td>adgroup 2</td>\n",
              "      <td>ad 1</td>\n",
              "      <td>0.01</td>\n",
              "      <td>2</td>\n",
              "      <td>1</td>\n",
              "      <td>0</td>\n",
              "    </tr>\n",
              "    <tr>\n",
              "      <th>4</th>\n",
              "      <td>01-03-2021</td>\n",
              "      <td>campaign 1</td>\n",
              "      <td>adgroup 2</td>\n",
              "      <td>ad 2</td>\n",
              "      <td>0.01</td>\n",
              "      <td>3</td>\n",
              "      <td>1</td>\n",
              "      <td>0</td>\n",
              "    </tr>\n",
              "  </tbody>\n",
              "</table>\n",
              "</div>"
            ],
            "text/plain": [
              "         date    campaign    adgroup  ... impressions  clicks  conversions\n",
              "0  01-03-2021  campaign 1  adgroup 1  ...         121      49            1\n",
              "1  01-03-2021  campaign 1  adgroup 3  ...          22      12            0\n",
              "2  01-03-2021  campaign 1  adgroup 4  ...           5       3            0\n",
              "3  01-03-2021  campaign 1  adgroup 2  ...           2       1            0\n",
              "4  01-03-2021  campaign 1  adgroup 2  ...           3       1            0\n",
              "\n",
              "[5 rows x 8 columns]"
            ]
          },
          "metadata": {
            "tags": []
          },
          "execution_count": 4
        }
      ]
    },
    {
      "cell_type": "code",
      "metadata": {
        "id": "xn6YkbeADMpr"
      },
      "source": [
        "#helper function to view the table content details\n",
        "from IPython.display import display, HTML\n",
        "\n",
        "def pretty_print(df):\n",
        "    return display( HTML( df.to_html().replace(\"\\\\n\",\"<br>\") ) )\n",
        "def tbl_report(tbl, cols=None, card=52):\n",
        "    print(\"Table Shape\", tbl.shape)\n",
        "    dtypes = tbl.dtypes\n",
        "    nulls = []\n",
        "    uniques = []\n",
        "    numuniques = []\n",
        "    vcs = []\n",
        "    for col in dtypes.index:\n",
        "        n = tbl[col].isnull().sum()\n",
        "        nulls.append(n)\n",
        "        strdtcol = str(dtypes[col])\n",
        "        #if strdtcol == 'object' or strdtcol[0:3] == 'int' or strdtcol[0:3] == 'int':\n",
        "        #print(strdtcol)\n",
        "        uniqs = tbl[col].unique()\n",
        "        uniquenums = uniqs.shape[0]\n",
        "        if uniquenums < card: # low cardinality\n",
        "            valcounts = pd.value_counts(tbl[col], dropna=False)\n",
        "            vc = \"\\n\".join([\"{}:{}\".format(k,v) for k, v in valcounts.items()])\n",
        "        else:\n",
        "            vc='NA'\n",
        "        uniques.append(uniqs)\n",
        "        numuniques.append(uniquenums)\n",
        "        vcs.append(vc)\n",
        "    nullseries = pd.Series(nulls, index=dtypes.index)\n",
        "    uniqueseries = pd.Series(uniques, index=dtypes.index)\n",
        "    numuniqueseries = pd.Series(numuniques, index=dtypes.index)\n",
        "    vcseries = pd.Series(vcs, index=dtypes.index)\n",
        "    df = pd.concat([dtypes, nullseries, uniqueseries, numuniqueseries, vcseries], axis=1)\n",
        "    df.columns = ['dtype', 'nulls', 'uniques', 'num_uniques', 'value_counts']\n",
        "    if cols:\n",
        "        return pretty_print(df[cols])\n",
        "    return pretty_print(df)"
      ],
      "execution_count": 5,
      "outputs": []
    },
    {
      "cell_type": "code",
      "metadata": {
        "colab": {
          "base_uri": "https://localhost:8080/",
          "height": 1000
        },
        "id": "YxsdWc-nEc_R",
        "outputId": "12826cff-0818-465d-e51d-996c5581be82"
      },
      "source": [
        "tbl_report(train)"
      ],
      "execution_count": 6,
      "outputs": [
        {
          "output_type": "stream",
          "text": [
            "Table Shape (4571, 9)\n"
          ],
          "name": "stdout"
        },
        {
          "output_type": "display_data",
          "data": {
            "text/html": [
              "<table border=\"1\" class=\"dataframe\">\n",
              "  <thead>\n",
              "    <tr style=\"text-align: right;\">\n",
              "      <th></th>\n",
              "      <th>dtype</th>\n",
              "      <th>nulls</th>\n",
              "      <th>uniques</th>\n",
              "      <th>num_uniques</th>\n",
              "      <th>value_counts</th>\n",
              "    </tr>\n",
              "  </thead>\n",
              "  <tbody>\n",
              "    <tr>\n",
              "      <th>date</th>\n",
              "      <td>object</td>\n",
              "      <td>0</td>\n",
              "      <td>[01-08-2020, 02-08-2020, 03-08-2020, 04-08-2020, 05-08-2020, 06-08-2020, 07-08-2020, 08-08-2020, 09-08-2020, 10-08-2020, 11-08-2020, 12-08-2020, 13-08-2020, 14-08-2020, 15-08-2020, 16-08-2020, 17-08-2020, 18-08-2020, 19-08-2020, 20-08-2020, 21-08-2020, 22-08-2020, 23-08-2020, 24-08-2020, 25-08-2020, 26-08-2020, 27-08-2020, 28-08-2020, 29-08-2020, 30-08-2020, 31-08-2020, 01-09-2020, 02-09-2020, 03-09-2020, 04-09-2020, 05-09-2020, 06-09-2020, 07-09-2020, 08-09-2020, 09-09-2020, 10-09-2020, 11-09-2020, 12-09-2020, 13-09-2020, 14-09-2020, 15-09-2020, 16-09-2020, 17-09-2020, 18-09-2020, 19-09-2020, 20-09-2020, 21-09-2020, 22-09-2020, 23-09-2020, 24-09-2020, 25-09-2020, 26-09-2020, 27-09-2020, 28-09-2020, 29-09-2020, 30-09-2020, 01-10-2020, 02-10-2020, 03-10-2020, 04-10-2020, 05-10-2020, 06-10-2020, 07-10-2020, 08-10-2020, 09-10-2020, 10-10-2020, 11-10-2020, 12-10-2020, 13-10-2020, 14-10-2020, 15-10-2020, 16-10-2020, 17-10-2020, 18-10-2020, 19-10-2020, 20-10-2020, 21-10-2020, 22-10-2020, 23-10-2020, 24-10-2020, 25-10-2020, 26-10-2020, 27-10-2020, 28-10-2020, 29-10-2020, 30-10-2020, 31-10-2020, 01-11-2020, 02-11-2020, 03-11-2020, 04-11-2020, 05-11-2020, 06-11-2020, 07-11-2020, 08-11-2020, ...]</td>\n",
              "      <td>212</td>\n",
              "      <td>NA</td>\n",
              "    </tr>\n",
              "    <tr>\n",
              "      <th>campaign</th>\n",
              "      <td>object</td>\n",
              "      <td>0</td>\n",
              "      <td>[campaign 1]</td>\n",
              "      <td>1</td>\n",
              "      <td>campaign 1:4571</td>\n",
              "    </tr>\n",
              "    <tr>\n",
              "      <th>adgroup</th>\n",
              "      <td>object</td>\n",
              "      <td>0</td>\n",
              "      <td>[adgroup 1, adgroup 2, adgroup 3, adgroup 4]</td>\n",
              "      <td>4</td>\n",
              "      <td>adgroup 3:1672<br>adgroup 1:1314<br>adgroup 4:858<br>adgroup 2:727</td>\n",
              "    </tr>\n",
              "    <tr>\n",
              "      <th>ad</th>\n",
              "      <td>object</td>\n",
              "      <td>0</td>\n",
              "      <td>[ad 1, ad 2, ad 3, ad 4, ad 5, ad 6, ad 7, ad 8, ad 9, ad 10, ad 11, ad 12, ad 13, ad 14, ad 15, ad 16, ad 17, ad 18, ad 19, ad 20, ad 21, ad 22, ad 23, ad 24, ad 25, ad 26, ad 27, ad 28, ad 29, ad 30, ad 31, ad 32, ad 33, ad 34, ad 35, ad 36, ad 37, ad 38, ad 39, ad 40, ad 41, ad 42, ad 43, ad 44, ad 45, ad 46, ad 47, ad 48, ad 49, ad 50, ad 51, ad 52, ad 53, ad 54, ad 55, ad 56, ad 57, ad 58, ad 59, ad 60, ad 61, ad 62, ad 63, ad 64, ad 65, ad 66, ad 67, ad 68, ad 69, ad 70]</td>\n",
              "      <td>70</td>\n",
              "      <td>NA</td>\n",
              "    </tr>\n",
              "    <tr>\n",
              "      <th>impressions</th>\n",
              "      <td>int64</td>\n",
              "      <td>0</td>\n",
              "      <td>[24, 1, 13, 5, 247, 7, 6, 129, 104, 4, 39, 17, 253, 16, 26, 250, 261, 329, 2, 21, 197, 11, 105, 62, 10, 258, 31, 243, 212, 3, 245, 12, 49, 304, 9, 140, 116, 68, 22, 218, 138, 15, 19, 40, 272, 131, 128, 54, 297, 25, 216, 173, 144, 8, 309, 163, 142, 55, 20, 278, 34, 18, 256, 44, 443, 148, 201, 52, 14, 282, 60, 489, 158, 190, 48, 291, 524, 206, 66, 348, 45, 440, 169, 241, 71, 311, 23, 496, 89, 70, 280, 75, 324, 81, 442, 117, 152, 61, 289, 47, ...]</td>\n",
              "      <td>571</td>\n",
              "      <td>NA</td>\n",
              "    </tr>\n",
              "    <tr>\n",
              "      <th>clicks</th>\n",
              "      <td>int64</td>\n",
              "      <td>0</td>\n",
              "      <td>[6, 0, 4, 126, 2, 3, 52, 56, 5, 16, 128, 10, 114, 123, 130, 8, 112, 1, 68, 40, 139, 9, 14, 117, 79, 140, 13, 7, 156, 60, 46, 39, 129, 95, 73, 78, 18, 37, 54, 21, 161, 11, 122, 64, 67, 155, 84, 28, 150, 15, 138, 211, 71, 27, 154, 250, 76, 59, 30, 179, 23, 136, 237, 96, 31, 119, 12, 203, 75, 33, 148, 35, 146, 36, 229, 92, 132, 34, 149, 210, 38, 85, 32, 135, 22, 165, 61, 118, 218, 53, 17, 125, 24, 191, 86, 29, 47, 93, 109, 142, ...]</td>\n",
              "      <td>355</td>\n",
              "      <td>NA</td>\n",
              "    </tr>\n",
              "    <tr>\n",
              "      <th>cost</th>\n",
              "      <td>float64</td>\n",
              "      <td>0</td>\n",
              "      <td>[0.08, 0.0, 0.04, 1.29, 0.05, 0.58, 0.56, 0.22, 0.06, 1.32, 0.07, 0.1, 1.17, 1.27, 1.4, 0.02, 0.09, 0.18, 1.18, 0.01, 0.69, 0.46, 0.44, 1.43, 0.15, 1.21, 0.86, 1.44, 0.13, 1.75, 0.64, 0.03, 0.41, 1.38, 1.04, 0.78, 0.88, 0.21, 1.54, 0.62, 0.23, 1.72, 0.12, 1.33, 0.75, 0.85, 1.73, 0.9, 0.42, 0.35, 1.61, 0.11, 0.16, 1.52, 0.28, 2.48, 0.74, 0.34, 1.7, 0.32, 1.42, 2.69, 0.66, 0.33, 1.9, 0.26, 0.14, 1.46, 2.81, 1.09, 1.28, 1.58, 2.36, 0.82, 0.36, 1.53, 0.37, 0.4, 0.98, 0.3, 1.41, 1.59, 0.29, 2.29, 0.43, 1.0, 0.27, 1.87, 0.71, 1.3, 0.38, 2.41, 0.59, 0.2, 2.12, 0.97, 0.77, 0.52, 1.05, 1.5, ...]</td>\n",
              "      <td>810</td>\n",
              "      <td>NA</td>\n",
              "    </tr>\n",
              "    <tr>\n",
              "      <th>conversions</th>\n",
              "      <td>int64</td>\n",
              "      <td>0</td>\n",
              "      <td>[0, 4, 2, 3, 9, 1, 5, 6, 7, 8, 10, 19, 12, 16, 23, 22, 15, 14, 24, 36, 18, 40, 61, 47, 82, 91, 11, 17, 44, 27, 28, 74, 71, 63, 42, 37, 85, 13, 39, 48, 56, 68, 94, 43, 79, 59, 34, 26, 52]</td>\n",
              "      <td>49</td>\n",
              "      <td>0:3213<br>1:542<br>2:234<br>3:117<br>4:105<br>6:79<br>5:76<br>7:48<br>9:35<br>8:28<br>10:11<br>12:7<br>11:7<br>14:7<br>23:6<br>19:5<br>13:4<br>15:3<br>22:3<br>27:3<br>18:3<br>17:3<br>16:2<br>36:2<br>82:2<br>40:2<br>47:2<br>26:1<br>52:1<br>71:1<br>63:1<br>94:1<br>24:1<br>28:1<br>44:1<br>48:1<br>68:1<br>56:1<br>34:1<br>59:1<br>43:1<br>74:1<br>37:1<br>61:1<br>85:1<br>39:1<br>42:1<br>79:1<br>91:1</td>\n",
              "    </tr>\n",
              "    <tr>\n",
              "      <th>revenue</th>\n",
              "      <td>float64</td>\n",
              "      <td>0</td>\n",
              "      <td>[0.0, 925.71, 339.83, 384.22, 337.57, 397.59, 1476.67, 188.83, 212.86, 702.16, 76.22, 219.73, 1028.32, 370.46, 1033.52, 126.85, 227.77, 958.48, 350.19, 704.04, 40.17, 76.13, 830.9, 30.01, 189.26, 39.72, 2050.19, 927.97, 154.91, 79.84, 380.74, 784.97, 462.32, 157.64, 550.46, 298.66, 687.76, 228.64, 165.67, 114.85, 172.52, 211.08, 596.03, 68.48, 719.2, 748.23, 488.97, 700.43, 292.1, 201.98, 1165.75, 709.44, 831.74, 1160.24, 139.97, 633.42, 168.1, 488.53, 585.86, 190.15, 713.73, 107.05, 529.94, 72.73, 114.0, 89.28, 1353.74, 10.92, 131.08, 332.08, 200.53, 941.3, 203.08, 181.3, 481.88, 351.81, 50.51, 797.4, 550.08, 173.59, 82.35, 310.36, 896.96, 1391.47, 79.88, 98.81, 668.21, 452.08, 197.59, 902.99, 306.03, 237.96, 96.05, 1792.62, 203.78, 296.35, 387.9, 218.8, 714.99, 675.64, ...]</td>\n",
              "      <td>1223</td>\n",
              "      <td>NA</td>\n",
              "    </tr>\n",
              "  </tbody>\n",
              "</table>"
            ],
            "text/plain": [
              "<IPython.core.display.HTML object>"
            ]
          },
          "metadata": {
            "tags": []
          }
        }
      ]
    },
    {
      "cell_type": "code",
      "metadata": {
        "colab": {
          "base_uri": "https://localhost:8080/",
          "height": 1000
        },
        "id": "hvHM-HgdEfnt",
        "outputId": "4efca099-a4f5-4c37-bc5f-4d51893cd21c"
      },
      "source": [
        "tbl_report(test)"
      ],
      "execution_count": 7,
      "outputs": [
        {
          "output_type": "stream",
          "text": [
            "Table Shape (318, 8)\n"
          ],
          "name": "stdout"
        },
        {
          "output_type": "display_data",
          "data": {
            "text/html": [
              "<table border=\"1\" class=\"dataframe\">\n",
              "  <thead>\n",
              "    <tr style=\"text-align: right;\">\n",
              "      <th></th>\n",
              "      <th>dtype</th>\n",
              "      <th>nulls</th>\n",
              "      <th>uniques</th>\n",
              "      <th>num_uniques</th>\n",
              "      <th>value_counts</th>\n",
              "    </tr>\n",
              "  </thead>\n",
              "  <tbody>\n",
              "    <tr>\n",
              "      <th>date</th>\n",
              "      <td>object</td>\n",
              "      <td>0</td>\n",
              "      <td>[01-03-2021, 02-03-2021, 03-03-2021, 04-03-2021, 05-03-2021, 06-03-2021, 07-03-2021, 08-03-2021, 09-03-2021, 10-03-2021, 11-03-2021, 12-03-2021, 13-03-2021, 14-03-2021, 15-03-2021]</td>\n",
              "      <td>15</td>\n",
              "      <td>03-03-2021:28<br>08-03-2021:26<br>13-03-2021:25<br>09-03-2021:25<br>15-03-2021:25<br>12-03-2021:24<br>11-03-2021:24<br>14-03-2021:24<br>10-03-2021:23<br>05-03-2021:21<br>01-03-2021:19<br>02-03-2021:19<br>06-03-2021:12<br>07-03-2021:12<br>04-03-2021:11</td>\n",
              "    </tr>\n",
              "    <tr>\n",
              "      <th>campaign</th>\n",
              "      <td>object</td>\n",
              "      <td>0</td>\n",
              "      <td>[campaign 1]</td>\n",
              "      <td>1</td>\n",
              "      <td>campaign 1:318</td>\n",
              "    </tr>\n",
              "    <tr>\n",
              "      <th>adgroup</th>\n",
              "      <td>object</td>\n",
              "      <td>0</td>\n",
              "      <td>[adgroup 1, adgroup 3, adgroup 4, adgroup 2]</td>\n",
              "      <td>4</td>\n",
              "      <td>adgroup 3:111<br>adgroup 1:90<br>adgroup 2:63<br>adgroup 4:54</td>\n",
              "    </tr>\n",
              "    <tr>\n",
              "      <th>ad</th>\n",
              "      <td>object</td>\n",
              "      <td>0</td>\n",
              "      <td>[ad 1, ad 2, ad 3, ad 4, ad 5, ad 6, ad 7, ad 8, ad 10, ad 71, ad 72, ad 73, ad 74, ad 75, ad 56, ad 55]</td>\n",
              "      <td>16</td>\n",
              "      <td>ad 3:44<br>ad 1:42<br>ad 7:33<br>ad 2:30<br>ad 56:24<br>ad 72:22<br>ad 55:19<br>ad 73:13<br>ad 10:13<br>ad 74:12<br>ad 5:11<br>ad 4:11<br>ad 8:11<br>ad 6:11<br>ad 75:11<br>ad 71:11</td>\n",
              "    </tr>\n",
              "    <tr>\n",
              "      <th>cost</th>\n",
              "      <td>float64</td>\n",
              "      <td>0</td>\n",
              "      <td>[0.58, 0.17, 0.05, 0.01, 0.03, 1.67, 0.0, 1.06, 0.08, 1.64, 0.1, 0.88, 0.02, 0.3, 0.16, 0.98, 0.22, 0.24, 0.65, 1.57, 1.65, 1.36, 0.07, 0.99, 0.46, 0.13, 0.04, 0.94, 0.12, 0.09, 0.18, 0.34, 0.4, 0.14, 0.25, 0.87, 0.81, 0.06, 2.05, 0.67, 1.69, 0.56, 1.59, 1.66, 1.54, 0.91, 1.4, 0.7, 1.07, 0.2, 0.49, 1.94, 2.9, 0.72, 0.32, 0.31, 0.27, 0.55, 0.66, 0.61, 3.36, 2.67, 0.45, 0.78, 0.63, 3.53, 3.47, 0.77, 0.47, 0.62, 1.49, 1.62, 1.21, 1.03, 0.15, 0.44, 0.9, 1.29, 1.15, 0.21, 0.93, 0.29, 0.37, 0.85, 1.16, 1.0, 0.43, 1.17, 1.27, 1.41, 0.97, 0.19, 1.08, 1.39, 0.26, 0.28, 0.11, 0.73, 1.58, 0.41, ...]</td>\n",
              "      <td>109</td>\n",
              "      <td>NA</td>\n",
              "    </tr>\n",
              "    <tr>\n",
              "      <th>impressions</th>\n",
              "      <td>int64</td>\n",
              "      <td>0</td>\n",
              "      <td>[121, 22, 5, 2, 3, 4, 276, 6, 162, 294, 15, 152, 94, 25, 191, 24, 27, 112, 281, 1, 298, 196, 7, 31, 12, 151, 103, 23, 178, 29, 13, 42, 45, 68, 20, 9, 127, 192, 316, 134, 306, 91, 258, 347, 269, 173, 67, 263, 123, 14, 238, 40, 62, 10, 362, 418, 137, 66, 54, 48, 75, 106, 116, 502, 558, 77, 131, 125, 111, 560, 589, 153, 161, 8, 260, 308, 167, 35, 207, 16, 108, 201, 210, 228, 18, 139, 30, 26, 174, 78, 169, 166, 248, 113, 37, 165, 32, 60, 28, 85, ...]</td>\n",
              "      <td>128</td>\n",
              "      <td>NA</td>\n",
              "    </tr>\n",
              "    <tr>\n",
              "      <th>clicks</th>\n",
              "      <td>int64</td>\n",
              "      <td>0</td>\n",
              "      <td>[49, 12, 3, 1, 2, 123, 0, 74, 5, 110, 14, 7, 82, 30, 79, 18, 48, 126, 122, 97, 4, 88, 39, 11, 75, 10, 8, 21, 27, 13, 6, 22, 69, 64, 145, 55, 125, 40, 121, 137, 119, 77, 31, 115, 54, 16, 38, 155, 215, 61, 28, 24, 51, 236, 232, 32, 45, 63, 52, 261, 276, 34, 59, 135, 136, 95, 93, 15, 89, 44, 84, 94, 96, 76, 9, 41, 90, 62, 86, 102, 85, 103, 17, 83, 81, 91, 57, 68, 26, 92, 114, 19, 37, 67, 116, 134, 73, 80]</td>\n",
              "      <td>98</td>\n",
              "      <td>NA</td>\n",
              "    </tr>\n",
              "    <tr>\n",
              "      <th>conversions</th>\n",
              "      <td>int64</td>\n",
              "      <td>0</td>\n",
              "      <td>[1, 0, 3, 2, 4, 6, 8, 14, 13, 15, 5]</td>\n",
              "      <td>11</td>\n",
              "      <td>0:211<br>1:50<br>2:26<br>3:13<br>4:8<br>6:3<br>5:3<br>15:1<br>14:1<br>13:1<br>8:1</td>\n",
              "    </tr>\n",
              "  </tbody>\n",
              "</table>"
            ],
            "text/plain": [
              "<IPython.core.display.HTML object>"
            ]
          },
          "metadata": {
            "tags": []
          }
        }
      ]
    },
    {
      "cell_type": "markdown",
      "metadata": {
        "id": "Nv_9DdRZwtn9"
      },
      "source": [
        "###Feature Engineering and EDA:"
      ]
    },
    {
      "cell_type": "code",
      "metadata": {
        "colab": {
          "base_uri": "https://localhost:8080/"
        },
        "id": "ctdG8w-cMy2v",
        "outputId": "c11ccb83-05d7-4a11-f003-8bee9e50a8a9"
      },
      "source": [
        "train.columns[4:-1]"
      ],
      "execution_count": 8,
      "outputs": [
        {
          "output_type": "execute_result",
          "data": {
            "text/plain": [
              "Index(['impressions', 'clicks', 'cost', 'conversions'], dtype='object')"
            ]
          },
          "metadata": {
            "tags": []
          },
          "execution_count": 8
        }
      ]
    },
    {
      "cell_type": "code",
      "metadata": {
        "id": "RkV_OBPtzf-i"
      },
      "source": [
        "from datetime import datetime\n",
        "\n",
        "# This function is to extract date features\n",
        "def date_process(df):\n",
        "    df[\"date\"] = pd.to_datetime(df[\"date\"]) # seting the column as pandas datetime\n",
        "    df[\"weekday\"] = df['date'].dt.weekday #extracting week day\n",
        "    df[\"day\"] = df['date'].dt.day # extracting day\n",
        "    df[\"month\"] = df['date'].dt.month # extracting day\n",
        "    df[\"year\"] = df['date'].dt.year # extracting day\n",
        "    \n",
        "    return df\n",
        "\n",
        "train = date_process(train)\n",
        "test = date_process(test)"
      ],
      "execution_count": 9,
      "outputs": []
    },
    {
      "cell_type": "code",
      "metadata": {
        "id": "J07Pa8vR10s4",
        "colab": {
          "base_uri": "https://localhost:8080/",
          "height": 203
        },
        "outputId": "f9093f83-023a-48ce-cf62-1c001401b25c"
      },
      "source": [
        "train.head()"
      ],
      "execution_count": 10,
      "outputs": [
        {
          "output_type": "execute_result",
          "data": {
            "text/html": [
              "<div>\n",
              "<style scoped>\n",
              "    .dataframe tbody tr th:only-of-type {\n",
              "        vertical-align: middle;\n",
              "    }\n",
              "\n",
              "    .dataframe tbody tr th {\n",
              "        vertical-align: top;\n",
              "    }\n",
              "\n",
              "    .dataframe thead th {\n",
              "        text-align: right;\n",
              "    }\n",
              "</style>\n",
              "<table border=\"1\" class=\"dataframe\">\n",
              "  <thead>\n",
              "    <tr style=\"text-align: right;\">\n",
              "      <th></th>\n",
              "      <th>date</th>\n",
              "      <th>campaign</th>\n",
              "      <th>adgroup</th>\n",
              "      <th>ad</th>\n",
              "      <th>impressions</th>\n",
              "      <th>clicks</th>\n",
              "      <th>cost</th>\n",
              "      <th>conversions</th>\n",
              "      <th>revenue</th>\n",
              "      <th>weekday</th>\n",
              "      <th>day</th>\n",
              "      <th>month</th>\n",
              "      <th>year</th>\n",
              "    </tr>\n",
              "  </thead>\n",
              "  <tbody>\n",
              "    <tr>\n",
              "      <th>0</th>\n",
              "      <td>2020-01-08</td>\n",
              "      <td>campaign 1</td>\n",
              "      <td>adgroup 1</td>\n",
              "      <td>ad 1</td>\n",
              "      <td>24</td>\n",
              "      <td>6</td>\n",
              "      <td>0.08</td>\n",
              "      <td>0</td>\n",
              "      <td>0.00</td>\n",
              "      <td>2</td>\n",
              "      <td>8</td>\n",
              "      <td>1</td>\n",
              "      <td>2020</td>\n",
              "    </tr>\n",
              "    <tr>\n",
              "      <th>1</th>\n",
              "      <td>2020-01-08</td>\n",
              "      <td>campaign 1</td>\n",
              "      <td>adgroup 2</td>\n",
              "      <td>ad 1</td>\n",
              "      <td>1</td>\n",
              "      <td>0</td>\n",
              "      <td>0.00</td>\n",
              "      <td>0</td>\n",
              "      <td>0.00</td>\n",
              "      <td>2</td>\n",
              "      <td>8</td>\n",
              "      <td>1</td>\n",
              "      <td>2020</td>\n",
              "    </tr>\n",
              "    <tr>\n",
              "      <th>2</th>\n",
              "      <td>2020-01-08</td>\n",
              "      <td>campaign 1</td>\n",
              "      <td>adgroup 3</td>\n",
              "      <td>ad 1</td>\n",
              "      <td>13</td>\n",
              "      <td>4</td>\n",
              "      <td>0.04</td>\n",
              "      <td>0</td>\n",
              "      <td>0.00</td>\n",
              "      <td>2</td>\n",
              "      <td>8</td>\n",
              "      <td>1</td>\n",
              "      <td>2020</td>\n",
              "    </tr>\n",
              "    <tr>\n",
              "      <th>3</th>\n",
              "      <td>2020-01-08</td>\n",
              "      <td>campaign 1</td>\n",
              "      <td>adgroup 4</td>\n",
              "      <td>ad 1</td>\n",
              "      <td>5</td>\n",
              "      <td>4</td>\n",
              "      <td>0.08</td>\n",
              "      <td>0</td>\n",
              "      <td>0.00</td>\n",
              "      <td>2</td>\n",
              "      <td>8</td>\n",
              "      <td>1</td>\n",
              "      <td>2020</td>\n",
              "    </tr>\n",
              "    <tr>\n",
              "      <th>4</th>\n",
              "      <td>2020-01-08</td>\n",
              "      <td>campaign 1</td>\n",
              "      <td>adgroup 1</td>\n",
              "      <td>ad 2</td>\n",
              "      <td>247</td>\n",
              "      <td>126</td>\n",
              "      <td>1.29</td>\n",
              "      <td>4</td>\n",
              "      <td>925.71</td>\n",
              "      <td>2</td>\n",
              "      <td>8</td>\n",
              "      <td>1</td>\n",
              "      <td>2020</td>\n",
              "    </tr>\n",
              "  </tbody>\n",
              "</table>\n",
              "</div>"
            ],
            "text/plain": [
              "        date    campaign    adgroup    ad  ...  weekday  day  month  year\n",
              "0 2020-01-08  campaign 1  adgroup 1  ad 1  ...        2    8      1  2020\n",
              "1 2020-01-08  campaign 1  adgroup 2  ad 1  ...        2    8      1  2020\n",
              "2 2020-01-08  campaign 1  adgroup 3  ad 1  ...        2    8      1  2020\n",
              "3 2020-01-08  campaign 1  adgroup 4  ad 1  ...        2    8      1  2020\n",
              "4 2020-01-08  campaign 1  adgroup 1  ad 2  ...        2    8      1  2020\n",
              "\n",
              "[5 rows x 13 columns]"
            ]
          },
          "metadata": {
            "tags": []
          },
          "execution_count": 10
        }
      ]
    },
    {
      "cell_type": "code",
      "metadata": {
        "id": "BI9GmHCO19au",
        "colab": {
          "base_uri": "https://localhost:8080/",
          "height": 203
        },
        "outputId": "9acad698-31fd-4f26-c778-7b361304c796"
      },
      "source": [
        "test.head()"
      ],
      "execution_count": 11,
      "outputs": [
        {
          "output_type": "execute_result",
          "data": {
            "text/html": [
              "<div>\n",
              "<style scoped>\n",
              "    .dataframe tbody tr th:only-of-type {\n",
              "        vertical-align: middle;\n",
              "    }\n",
              "\n",
              "    .dataframe tbody tr th {\n",
              "        vertical-align: top;\n",
              "    }\n",
              "\n",
              "    .dataframe thead th {\n",
              "        text-align: right;\n",
              "    }\n",
              "</style>\n",
              "<table border=\"1\" class=\"dataframe\">\n",
              "  <thead>\n",
              "    <tr style=\"text-align: right;\">\n",
              "      <th></th>\n",
              "      <th>date</th>\n",
              "      <th>campaign</th>\n",
              "      <th>adgroup</th>\n",
              "      <th>ad</th>\n",
              "      <th>cost</th>\n",
              "      <th>impressions</th>\n",
              "      <th>clicks</th>\n",
              "      <th>conversions</th>\n",
              "      <th>weekday</th>\n",
              "      <th>day</th>\n",
              "      <th>month</th>\n",
              "      <th>year</th>\n",
              "    </tr>\n",
              "  </thead>\n",
              "  <tbody>\n",
              "    <tr>\n",
              "      <th>0</th>\n",
              "      <td>2021-01-03</td>\n",
              "      <td>campaign 1</td>\n",
              "      <td>adgroup 1</td>\n",
              "      <td>ad 1</td>\n",
              "      <td>0.58</td>\n",
              "      <td>121</td>\n",
              "      <td>49</td>\n",
              "      <td>1</td>\n",
              "      <td>6</td>\n",
              "      <td>3</td>\n",
              "      <td>1</td>\n",
              "      <td>2021</td>\n",
              "    </tr>\n",
              "    <tr>\n",
              "      <th>1</th>\n",
              "      <td>2021-01-03</td>\n",
              "      <td>campaign 1</td>\n",
              "      <td>adgroup 3</td>\n",
              "      <td>ad 1</td>\n",
              "      <td>0.17</td>\n",
              "      <td>22</td>\n",
              "      <td>12</td>\n",
              "      <td>0</td>\n",
              "      <td>6</td>\n",
              "      <td>3</td>\n",
              "      <td>1</td>\n",
              "      <td>2021</td>\n",
              "    </tr>\n",
              "    <tr>\n",
              "      <th>2</th>\n",
              "      <td>2021-01-03</td>\n",
              "      <td>campaign 1</td>\n",
              "      <td>adgroup 4</td>\n",
              "      <td>ad 1</td>\n",
              "      <td>0.05</td>\n",
              "      <td>5</td>\n",
              "      <td>3</td>\n",
              "      <td>0</td>\n",
              "      <td>6</td>\n",
              "      <td>3</td>\n",
              "      <td>1</td>\n",
              "      <td>2021</td>\n",
              "    </tr>\n",
              "    <tr>\n",
              "      <th>3</th>\n",
              "      <td>2021-01-03</td>\n",
              "      <td>campaign 1</td>\n",
              "      <td>adgroup 2</td>\n",
              "      <td>ad 1</td>\n",
              "      <td>0.01</td>\n",
              "      <td>2</td>\n",
              "      <td>1</td>\n",
              "      <td>0</td>\n",
              "      <td>6</td>\n",
              "      <td>3</td>\n",
              "      <td>1</td>\n",
              "      <td>2021</td>\n",
              "    </tr>\n",
              "    <tr>\n",
              "      <th>4</th>\n",
              "      <td>2021-01-03</td>\n",
              "      <td>campaign 1</td>\n",
              "      <td>adgroup 2</td>\n",
              "      <td>ad 2</td>\n",
              "      <td>0.01</td>\n",
              "      <td>3</td>\n",
              "      <td>1</td>\n",
              "      <td>0</td>\n",
              "      <td>6</td>\n",
              "      <td>3</td>\n",
              "      <td>1</td>\n",
              "      <td>2021</td>\n",
              "    </tr>\n",
              "  </tbody>\n",
              "</table>\n",
              "</div>"
            ],
            "text/plain": [
              "        date    campaign    adgroup    ad  ...  weekday  day  month  year\n",
              "0 2021-01-03  campaign 1  adgroup 1  ad 1  ...        6    3      1  2021\n",
              "1 2021-01-03  campaign 1  adgroup 3  ad 1  ...        6    3      1  2021\n",
              "2 2021-01-03  campaign 1  adgroup 4  ad 1  ...        6    3      1  2021\n",
              "3 2021-01-03  campaign 1  adgroup 2  ad 1  ...        6    3      1  2021\n",
              "4 2021-01-03  campaign 1  adgroup 2  ad 2  ...        6    3      1  2021\n",
              "\n",
              "[5 rows x 12 columns]"
            ]
          },
          "metadata": {
            "tags": []
          },
          "execution_count": 11
        }
      ]
    },
    {
      "cell_type": "code",
      "metadata": {
        "id": "oqT1pJTq2gKG",
        "colab": {
          "base_uri": "https://localhost:8080/"
        },
        "outputId": "ab8181c9-0514-4eb0-dac6-f381e8f37467"
      },
      "source": [
        "constant_columns = [col for col in train.columns if train[col].nunique() == 1]\n",
        "print(f'Columns : {constant_columns}, \\n Num of Columns : {len(constant_columns)}')\n",
        "\n",
        "\n",
        "train.drop(constant_columns, axis=1, inplace=True)"
      ],
      "execution_count": 12,
      "outputs": [
        {
          "output_type": "stream",
          "text": [
            "Columns : ['campaign'], \n",
            " Num of Columns : 1\n"
          ],
          "name": "stdout"
        }
      ]
    },
    {
      "cell_type": "code",
      "metadata": {
        "id": "yFJOmTxp20uD"
      },
      "source": [
        "test.drop(constant_columns, axis=1, inplace=True)"
      ],
      "execution_count": 13,
      "outputs": []
    },
    {
      "cell_type": "code",
      "metadata": {
        "id": "GkyhXKopA_mK",
        "colab": {
          "base_uri": "https://localhost:8080/",
          "height": 445
        },
        "outputId": "75e1ea57-8402-4760-bebe-0b7b4b2b9eeb"
      },
      "source": [
        "fig = plt.figure(figsize=(20,5))\n",
        "plt.suptitle('Distribuition of Revenue', fontsize=30)\n",
        "\n",
        "ax1 = fig.add_subplot(121)\n",
        "_ = sns.distplot(np.log(train[train['revenue'] > 0][\"revenue\"]), bins=40,color='#e56b6f', ax=ax1)\n",
        "_ = ax1.set_ylabel('Distribution', fontsize=20)\n",
        "_ = ax1.set_xlabel('Transaction Revenue Log', fontsize=20)\n",
        "\n",
        "\n",
        "ax2 = fig.add_subplot(122)\n",
        "_ = plt.scatter(range(train.shape[0]), np.sort(train['revenue'].values), color='#2a9d8f')\n",
        "_ = ax2.set_ylabel('Distribution', fontsize=20)\n",
        "_ = ax2.set_xlabel('Revenue', fontsize=20)"
      ],
      "execution_count": null,
      "outputs": [
        {
          "output_type": "stream",
          "text": [
            "/usr/local/lib/python3.7/dist-packages/seaborn/distributions.py:2557: FutureWarning:\n",
            "\n",
            "`distplot` is a deprecated function and will be removed in a future version. Please adapt your code to use either `displot` (a figure-level function with similar flexibility) or `histplot` (an axes-level function for histograms).\n",
            "\n"
          ],
          "name": "stderr"
        },
        {
          "output_type": "display_data",
          "data": {
            "image/png": "[encoded data removed]",
            "text/plain": [
              "<Figure size 1440x360 with 2 Axes>"
            ]
          },
          "metadata": {
            "tags": [],
            "needs_background": "light"
          }
        }
      ]
    },
    {
      "cell_type": "code",
      "metadata": {
        "id": "2jAG4afkBsHi"
      },
      "source": [
        "class color:\n",
        "   PURPLE = '\\033[95m'\n",
        "   CYAN = '\\033[96m'\n",
        "   DARKCYAN = '\\033[36m'\n",
        "   BLUE = '\\033[94m'\n",
        "   GREEN = '\\033[92m'\n",
        "   YELLOW = '\\033[93m'\n",
        "   RED = '\\033[91m'\n",
        "   BOLD = '\\033[1m'\n",
        "   UNDERLINE = '\\033[4m'\n",
        "   END = '\\033[0m'\n",
        "\n",
        "def CalOutliers(df_num): \n",
        "\n",
        "    # calculating mean and std of the array\n",
        "    data_mean, data_std = np.mean(df_num), np.std(df_num)\n",
        "\n",
        "    # seting the cut line to both higher and lower values\n",
        "    # You can change this value\n",
        "    cut = data_std * 3\n",
        "\n",
        "    #Calculating the higher and lower cut values\n",
        "    # You can change this value\n",
        "    cut = data_std * 3\n",
        "\n",
        "    #Calculating the higher and lower cut values\n",
        "    lower, upper = data_mean - cut, data_mean + cut\n",
        "\n",
        "    # creating an array of lower, higher and total outlier values \n",
        "    outliers_lower = [x for x in df_num if x < lower]\n",
        "    outliers_higher = [x for x in df_num if x > upper]\n",
        "    outliers_total = [x for x in df_num if x < lower or x > upper]\n",
        "\n",
        "    # array without outlier values\n",
        "    outliers_removed = [x for x in df_num if x > lower and x < upper]\n",
        "    \n",
        "    print(color.BOLD+f'Lower outliers: {len(outliers_lower)}'+ color.END) # printing total number of values in lower cut of outliers\n",
        "    print(color.BOLD+f'Upper outliers: {len(outliers_higher)}'+ color.END) # printing total number of values in higher cut of outliers\n",
        "    print(color.BOLD+f'Total outliers: {len(outliers_total)}'+ color.END) # printing total number of values outliers of both sides\n",
        "    print(color.BOLD+f'Non - outliers: {len(outliers_removed)}'+ color.END) # printing total number of non outlier values\n",
        "    print(color.BOLD+f'% of Outliers : {round((len(outliers_total) / len(outliers_removed) )*100, 4)}'+ color.END ) # Percentage of outliers in points\n",
        "    return outliers_removed"
      ],
      "execution_count": 15,
      "outputs": []
    },
    {
      "cell_type": "code",
      "metadata": {
        "id": "nAmplNmBDAao",
        "colab": {
          "base_uri": "https://localhost:8080/"
        },
        "outputId": "b7595365-0872-4c00-ddaa-17b9fb230b4b"
      },
      "source": [
        "out=CalOutliers(train['revenue'])"
      ],
      "execution_count": 16,
      "outputs": [
        {
          "output_type": "stream",
          "text": [
            "\u001b[1mLower outliers: 0\u001b[0m\n",
            "\u001b[1mUpper outliers: 46\u001b[0m\n",
            "\u001b[1mTotal outliers: 46\u001b[0m\n",
            "\u001b[1mNon - outliers: 4525\u001b[0m\n",
            "\u001b[1m% of Outliers : 1.0166\u001b[0m\n"
          ],
          "name": "stdout"
        }
      ]
    },
    {
      "cell_type": "code",
      "metadata": {
        "id": "SaTmz3cuXNsT"
      },
      "source": [
        "train=train[train.revenue.isin(out)]"
      ],
      "execution_count": 18,
      "outputs": []
    },
    {
      "cell_type": "code",
      "metadata": {
        "colab": {
          "base_uri": "https://localhost:8080/",
          "height": 417
        },
        "id": "8yK8RJAzXdHa",
        "outputId": "b12dbe5c-b393-433c-c835-6b31701b9ea5"
      },
      "source": [
        "train"
      ],
      "execution_count": 19,
      "outputs": [
        {
          "output_type": "execute_result",
          "data": {
            "text/html": [
              "<div>\n",
              "<style scoped>\n",
              "    .dataframe tbody tr th:only-of-type {\n",
              "        vertical-align: middle;\n",
              "    }\n",
              "\n",
              "    .dataframe tbody tr th {\n",
              "        vertical-align: top;\n",
              "    }\n",
              "\n",
              "    .dataframe thead th {\n",
              "        text-align: right;\n",
              "    }\n",
              "</style>\n",
              "<table border=\"1\" class=\"dataframe\">\n",
              "  <thead>\n",
              "    <tr style=\"text-align: right;\">\n",
              "      <th></th>\n",
              "      <th>date</th>\n",
              "      <th>adgroup</th>\n",
              "      <th>ad</th>\n",
              "      <th>impressions</th>\n",
              "      <th>clicks</th>\n",
              "      <th>cost</th>\n",
              "      <th>conversions</th>\n",
              "      <th>revenue</th>\n",
              "      <th>weekday</th>\n",
              "      <th>day</th>\n",
              "      <th>month</th>\n",
              "      <th>year</th>\n",
              "    </tr>\n",
              "  </thead>\n",
              "  <tbody>\n",
              "    <tr>\n",
              "      <th>0</th>\n",
              "      <td>2020-01-08</td>\n",
              "      <td>adgroup 1</td>\n",
              "      <td>ad 1</td>\n",
              "      <td>24</td>\n",
              "      <td>6</td>\n",
              "      <td>0.08</td>\n",
              "      <td>0</td>\n",
              "      <td>0.00</td>\n",
              "      <td>2</td>\n",
              "      <td>8</td>\n",
              "      <td>1</td>\n",
              "      <td>2020</td>\n",
              "    </tr>\n",
              "    <tr>\n",
              "      <th>1</th>\n",
              "      <td>2020-01-08</td>\n",
              "      <td>adgroup 2</td>\n",
              "      <td>ad 1</td>\n",
              "      <td>1</td>\n",
              "      <td>0</td>\n",
              "      <td>0.00</td>\n",
              "      <td>0</td>\n",
              "      <td>0.00</td>\n",
              "      <td>2</td>\n",
              "      <td>8</td>\n",
              "      <td>1</td>\n",
              "      <td>2020</td>\n",
              "    </tr>\n",
              "    <tr>\n",
              "      <th>2</th>\n",
              "      <td>2020-01-08</td>\n",
              "      <td>adgroup 3</td>\n",
              "      <td>ad 1</td>\n",
              "      <td>13</td>\n",
              "      <td>4</td>\n",
              "      <td>0.04</td>\n",
              "      <td>0</td>\n",
              "      <td>0.00</td>\n",
              "      <td>2</td>\n",
              "      <td>8</td>\n",
              "      <td>1</td>\n",
              "      <td>2020</td>\n",
              "    </tr>\n",
              "    <tr>\n",
              "      <th>3</th>\n",
              "      <td>2020-01-08</td>\n",
              "      <td>adgroup 4</td>\n",
              "      <td>ad 1</td>\n",
              "      <td>5</td>\n",
              "      <td>4</td>\n",
              "      <td>0.08</td>\n",
              "      <td>0</td>\n",
              "      <td>0.00</td>\n",
              "      <td>2</td>\n",
              "      <td>8</td>\n",
              "      <td>1</td>\n",
              "      <td>2020</td>\n",
              "    </tr>\n",
              "    <tr>\n",
              "      <th>4</th>\n",
              "      <td>2020-01-08</td>\n",
              "      <td>adgroup 1</td>\n",
              "      <td>ad 2</td>\n",
              "      <td>247</td>\n",
              "      <td>126</td>\n",
              "      <td>1.29</td>\n",
              "      <td>4</td>\n",
              "      <td>925.71</td>\n",
              "      <td>2</td>\n",
              "      <td>8</td>\n",
              "      <td>1</td>\n",
              "      <td>2020</td>\n",
              "    </tr>\n",
              "    <tr>\n",
              "      <th>...</th>\n",
              "      <td>...</td>\n",
              "      <td>...</td>\n",
              "      <td>...</td>\n",
              "      <td>...</td>\n",
              "      <td>...</td>\n",
              "      <td>...</td>\n",
              "      <td>...</td>\n",
              "      <td>...</td>\n",
              "      <td>...</td>\n",
              "      <td>...</td>\n",
              "      <td>...</td>\n",
              "      <td>...</td>\n",
              "    </tr>\n",
              "    <tr>\n",
              "      <th>4566</th>\n",
              "      <td>2021-02-28</td>\n",
              "      <td>adgroup 3</td>\n",
              "      <td>ad 55</td>\n",
              "      <td>19</td>\n",
              "      <td>6</td>\n",
              "      <td>0.07</td>\n",
              "      <td>0</td>\n",
              "      <td>0.00</td>\n",
              "      <td>6</td>\n",
              "      <td>28</td>\n",
              "      <td>2</td>\n",
              "      <td>2021</td>\n",
              "    </tr>\n",
              "    <tr>\n",
              "      <th>4567</th>\n",
              "      <td>2021-02-28</td>\n",
              "      <td>adgroup 4</td>\n",
              "      <td>ad 55</td>\n",
              "      <td>1</td>\n",
              "      <td>0</td>\n",
              "      <td>0.00</td>\n",
              "      <td>0</td>\n",
              "      <td>0.00</td>\n",
              "      <td>6</td>\n",
              "      <td>28</td>\n",
              "      <td>2</td>\n",
              "      <td>2021</td>\n",
              "    </tr>\n",
              "    <tr>\n",
              "      <th>4568</th>\n",
              "      <td>2021-02-28</td>\n",
              "      <td>adgroup 3</td>\n",
              "      <td>ad 56</td>\n",
              "      <td>16</td>\n",
              "      <td>8</td>\n",
              "      <td>0.12</td>\n",
              "      <td>1</td>\n",
              "      <td>93.20</td>\n",
              "      <td>6</td>\n",
              "      <td>28</td>\n",
              "      <td>2</td>\n",
              "      <td>2021</td>\n",
              "    </tr>\n",
              "    <tr>\n",
              "      <th>4569</th>\n",
              "      <td>2021-02-28</td>\n",
              "      <td>adgroup 1</td>\n",
              "      <td>ad 56</td>\n",
              "      <td>37</td>\n",
              "      <td>13</td>\n",
              "      <td>0.23</td>\n",
              "      <td>0</td>\n",
              "      <td>0.00</td>\n",
              "      <td>6</td>\n",
              "      <td>28</td>\n",
              "      <td>2</td>\n",
              "      <td>2021</td>\n",
              "    </tr>\n",
              "    <tr>\n",
              "      <th>4570</th>\n",
              "      <td>2021-02-28</td>\n",
              "      <td>adgroup 1</td>\n",
              "      <td>ad 55</td>\n",
              "      <td>19</td>\n",
              "      <td>10</td>\n",
              "      <td>0.14</td>\n",
              "      <td>0</td>\n",
              "      <td>0.00</td>\n",
              "      <td>6</td>\n",
              "      <td>28</td>\n",
              "      <td>2</td>\n",
              "      <td>2021</td>\n",
              "    </tr>\n",
              "  </tbody>\n",
              "</table>\n",
              "<p>4525 rows × 12 columns</p>\n",
              "</div>"
            ],
            "text/plain": [
              "           date    adgroup     ad  impressions  ...  weekday  day  month  year\n",
              "0    2020-01-08  adgroup 1   ad 1           24  ...        2    8      1  2020\n",
              "1    2020-01-08  adgroup 2   ad 1            1  ...        2    8      1  2020\n",
              "2    2020-01-08  adgroup 3   ad 1           13  ...        2    8      1  2020\n",
              "3    2020-01-08  adgroup 4   ad 1            5  ...        2    8      1  2020\n",
              "4    2020-01-08  adgroup 1   ad 2          247  ...        2    8      1  2020\n",
              "...         ...        ...    ...          ...  ...      ...  ...    ...   ...\n",
              "4566 2021-02-28  adgroup 3  ad 55           19  ...        6   28      2  2021\n",
              "4567 2021-02-28  adgroup 4  ad 55            1  ...        6   28      2  2021\n",
              "4568 2021-02-28  adgroup 3  ad 56           16  ...        6   28      2  2021\n",
              "4569 2021-02-28  adgroup 1  ad 56           37  ...        6   28      2  2021\n",
              "4570 2021-02-28  adgroup 1  ad 55           19  ...        6   28      2  2021\n",
              "\n",
              "[4525 rows x 12 columns]"
            ]
          },
          "metadata": {
            "tags": []
          },
          "execution_count": 19
        }
      ]
    },
    {
      "cell_type": "code",
      "metadata": {
        "id": "t4XoZXf2DMX9",
        "colab": {
          "base_uri": "https://localhost:8080/",
          "height": 1000
        },
        "outputId": "eb721eb6-d198-4aa8-ec99-4f413dec7101"
      },
      "source": [
        "import plotly\n",
        "import plotly.offline as plty\n",
        "from plotly import tools\n",
        "import plotly.express as px\n",
        "from plotly.offline import init_notebook_mode, iplot, plot \n",
        "import plotly.graph_objs as go\n",
        "train['ad'].value_counts()[:10].reset_index()\n",
        "\n",
        "\n",
        "def horizontal_bar_chart(cnt_srs, color):\n",
        "    trace = go.Bar(\n",
        "        y=cnt_srs.index[::-1],\n",
        "        x=cnt_srs.values[::-1],\n",
        "        showlegend=False,\n",
        "        orientation = 'h',\n",
        "        marker=dict(\n",
        "            color=color,\n",
        "        ),\n",
        "    )\n",
        "    return trace\n",
        "#adgroups\n",
        "cnt_srs = train.groupby('ad')['revenue'].agg(['size', 'sum', 'mean'])\n",
        "cnt_srs.columns = [\"count\", \"total revenue\", \"mean\"]\n",
        "cnt_srs = cnt_srs.sort_values(by=\"count\", ascending=False)\n",
        "trace1 = horizontal_bar_chart(cnt_srs[\"count\"].head(10), '#073b4c')\n",
        "trace2 = horizontal_bar_chart(cnt_srs[\"total revenue\"].head(10), '#073b4c')\n",
        "trace3 = horizontal_bar_chart(cnt_srs[\"mean\"].head(10), '#073b4c')\n",
        "\n",
        "# adgroups\n",
        "cnt_srs = train.groupby('adgroup')['revenue'].agg(['size', 'sum', 'mean'])\n",
        "cnt_srs.columns = [\"count\", \"total revenue\", \"mean\"]\n",
        "cnt_srs = cnt_srs.sort_values(by=\"count\", ascending=False)\n",
        "trace4 = horizontal_bar_chart(cnt_srs[\"count\"].head(10), '#118ab2')\n",
        "trace5 = horizontal_bar_chart(cnt_srs[\"total revenue\"].head(10), '#118ab2')\n",
        "trace6 = horizontal_bar_chart(cnt_srs[\"mean\"].head(10), '#118ab2')\n",
        "# Creating two subplots\n",
        "fig = plotly.subplots.make_subplots(rows=2, cols=3, vertical_spacing=0.04, \n",
        "                          subplot_titles=[\"Ads - Count\", \"Ads- Total Revenue\", \"Ads- Mean Revenue\",\n",
        "                                          \"AdGroups- Count\",  \"AdGroups - Total Revenue \", \"AdGroups - Mean Revenue\", \n",
        "                                          ])\n",
        "\n",
        "fig.append_trace(trace1, 1, 1)\n",
        "fig.append_trace(trace2, 1, 2)\n",
        "fig.append_trace(trace3, 1, 3)\n",
        "fig.append_trace(trace4, 2, 1)\n",
        "fig.append_trace(trace5, 2, 2)\n",
        "fig.append_trace(trace6, 2, 3)\n",
        "fig['layout'].update(height=1200, width=1500, template='plotly_white',paper_bgcolor='#ffffff', title=\"Device Plots\")\n",
        "plty.iplot(fig, filename='adsection-plots')"
      ],
      "execution_count": null,
      "outputs": [
        {
          "output_type": "display_data",
          "data": {
            "text/html": [
              "<html>\n",
              "<head><meta charset=\"utf-8\" /></head>\n",
              "<body>\n",
              "    <div>\n",
              "            <script src=\"https://cdnjs.cloudflare.com/ajax/libs/mathjax/2.7.5/MathJax.js?config=TeX-AMS-MML_SVG\"></script><script type=\"text/javascript\">if (window.MathJax) {MathJax.Hub.Config({SVG: {font: \"STIX-Web\"}});}</script>\n",
              "                <script type=\"text/javascript\">window.PlotlyConfig = {MathJaxConfig: 'local'};</script>\n",
              "        <script src=\"https://cdn.plot.ly/plotly-latest.min.js\"></script>    \n",
              "            <div id=\"01a02d8f-89e4-423f-8d4f-cdf7929fc91a\" class=\"plotly-graph-div\" style=\"height:1200px; width:1500px;\"></div>\n",
              "            <script type=\"text/javascript\">\n",
              "                \n",
              "                    window.PLOTLYENV=window.PLOTLYENV || {};\n",
              "                    \n",
              "                if (document.getElementById(\"01a02d8f-89e4-423f-8d4f-cdf7929fc91a\")) {\n",
              "                    Plotly.newPlot(\n",
              "                        '01a02d8f-89e4-423f-8d4f-cdf7929fc91a',\n",
              "                        [{\"marker\": {\"color\": \"#073b4c\"}, \"orientation\": \"h\", \"showlegend\": false, \"type\": \"bar\", \"x\": [174, 174, 180, 180, 235, 377, 461, 512, 587, 617], \"xaxis\": \"x\", \"y\": [\"ad 4\", \"ad 5\", \"ad 6\", \"ad 8\", \"ad 10\", \"ad 32\", \"ad 7\", \"ad 2\", \"ad 1\", \"ad 3\"], \"yaxis\": \"y\"}, {\"marker\": {\"color\": \"#073b4c\"}, \"orientation\": \"h\", \"showlegend\": false, \"type\": \"bar\", \"x\": [15533.430000000002, 7006.24, 86633.43999999997, 43995.22999999999, 4115.12, 38426.21000000001, 16139.069999999998, 136524.53000000003, 15861.369999999999, 47193.27000000002], \"xaxis\": \"x2\", \"y\": [\"ad 4\", \"ad 5\", \"ad 6\", \"ad 8\", \"ad 10\", \"ad 32\", \"ad 7\", \"ad 2\", \"ad 1\", \"ad 3\"], \"yaxis\": \"y2\"}, {\"marker\": {\"color\": \"#073b4c\"}, \"orientation\": \"h\", \"showlegend\": false, \"type\": \"bar\", \"x\": [89.27258620689656, 40.26574712643678, 481.29688888888876, 244.41794444444437, 17.511148936170212, 101.92628647214856, 35.008828633405635, 266.64947265625005, 27.02107325383305, 76.4882820097245], \"xaxis\": \"x3\", \"y\": [\"ad 4\", \"ad 5\", \"ad 6\", \"ad 8\", \"ad 10\", \"ad 32\", \"ad 7\", \"ad 2\", \"ad 1\", \"ad 3\"], \"yaxis\": \"y3\"}, {\"marker\": {\"color\": \"#118ab2\"}, \"orientation\": \"h\", \"showlegend\": false, \"type\": \"bar\", \"x\": [727, 858, 1314, 1672], \"xaxis\": \"x4\", \"y\": [\"adgroup 2\", \"adgroup 4\", \"adgroup 1\", \"adgroup 3\"], \"yaxis\": \"y4\"}, {\"marker\": {\"color\": \"#118ab2\"}, \"orientation\": \"h\", \"showlegend\": false, \"type\": \"bar\", \"x\": [3750.27, 14047.709999999997, 515630.85, 526427.64], \"xaxis\": \"x5\", \"y\": [\"adgroup 2\", \"adgroup 4\", \"adgroup 1\", \"adgroup 3\"], \"yaxis\": \"y5\"}, {\"marker\": {\"color\": \"#118ab2\"}, \"orientation\": \"h\", \"showlegend\": false, \"type\": \"bar\", \"x\": [5.158555708390646, 16.372622377622374, 392.41312785388124, 314.84906698564595], \"xaxis\": \"x6\", \"y\": [\"adgroup 2\", \"adgroup 4\", \"adgroup 1\", \"adgroup 3\"], \"yaxis\": \"y6\"}],\n",
              "                        {\"annotations\": [{\"font\": {\"size\": 16}, \"showarrow\": false, \"text\": \"Ads - Count\", \"x\": 0.14444444444444446, \"xanchor\": \"center\", \"xref\": \"paper\", \"y\": 1.0, \"yanchor\": \"bottom\", \"yref\": \"paper\"}, {\"font\": {\"size\": 16}, \"showarrow\": false, \"text\": \"Ads- Total Revenue\", \"x\": 0.5, \"xanchor\": \"center\", \"xref\": \"paper\", \"y\": 1.0, \"yanchor\": \"bottom\", \"yref\": \"paper\"}, {\"font\": {\"size\": 16}, \"showarrow\": false, \"text\": \"Ads- Mean Revenue\", \"x\": 0.8555555555555556, \"xanchor\": \"center\", \"xref\": \"paper\", \"y\": 1.0, \"yanchor\": \"bottom\", \"yref\": \"paper\"}, {\"font\": {\"size\": 16}, \"showarrow\": false, \"text\": \"AdGroups- Count\", \"x\": 0.14444444444444446, \"xanchor\": \"center\", \"xref\": \"paper\", \"y\": 0.48, \"yanchor\": \"bottom\", \"yref\": \"paper\"}, {\"font\": {\"size\": 16}, \"showarrow\": false, \"text\": \"AdGroups - Total Revenue \", \"x\": 0.5, \"xanchor\": \"center\", \"xref\": \"paper\", \"y\": 0.48, \"yanchor\": \"bottom\", \"yref\": \"paper\"}, {\"font\": {\"size\": 16}, \"showarrow\": false, \"text\": \"AdGroups - Mean Revenue\", \"x\": 0.8555555555555556, \"xanchor\": \"center\", \"xref\": \"paper\", \"y\": 0.48, \"yanchor\": \"bottom\", \"yref\": \"paper\"}], \"height\": 1200, \"paper_bgcolor\": \"#ffffff\", \"template\": {\"data\": {\"bar\": [{\"error_x\": {\"color\": \"#2a3f5f\"}, \"error_y\": {\"color\": \"#2a3f5f\"}, \"marker\": {\"line\": {\"color\": \"white\", \"width\": 0.5}}, \"type\": \"bar\"}], \"barpolar\": [{\"marker\": {\"line\": {\"color\": \"white\", \"width\": 0.5}}, \"type\": \"barpolar\"}], \"carpet\": [{\"aaxis\": {\"endlinecolor\": \"#2a3f5f\", \"gridcolor\": \"#C8D4E3\", \"linecolor\": \"#C8D4E3\", \"minorgridcolor\": \"#C8D4E3\", \"startlinecolor\": \"#2a3f5f\"}, \"baxis\": {\"endlinecolor\": \"#2a3f5f\", \"gridcolor\": \"#C8D4E3\", \"linecolor\": \"#C8D4E3\", \"minorgridcolor\": \"#C8D4E3\", \"startlinecolor\": \"#2a3f5f\"}, \"type\": \"carpet\"}], \"choropleth\": [{\"colorbar\": {\"outlinewidth\": 0, \"ticks\": \"\"}, \"type\": \"choropleth\"}], \"contour\": [{\"colorbar\": {\"outlinewidth\": 0, \"ticks\": \"\"}, \"colorscale\": [[0.0, \"#0d0887\"], [0.1111111111111111, \"#46039f\"], [0.2222222222222222, \"#7201a8\"], [0.3333333333333333, \"#9c179e\"], [0.4444444444444444, \"#bd3786\"], [0.5555555555555556, \"#d8576b\"], [0.6666666666666666, \"#ed7953\"], [0.7777777777777778, \"#fb9f3a\"], [0.8888888888888888, \"#fdca26\"], [1.0, \"#f0f921\"]], \"type\": \"contour\"}], \"contourcarpet\": [{\"colorbar\": {\"outlinewidth\": 0, \"ticks\": \"\"}, \"type\": \"contourcarpet\"}], \"heatmap\": [{\"colorbar\": {\"outlinewidth\": 0, \"ticks\": \"\"}, \"colorscale\": [[0.0, \"#0d0887\"], [0.1111111111111111, \"#46039f\"], [0.2222222222222222, \"#7201a8\"], [0.3333333333333333, \"#9c179e\"], [0.4444444444444444, \"#bd3786\"], [0.5555555555555556, \"#d8576b\"], [0.6666666666666666, \"#ed7953\"], [0.7777777777777778, \"#fb9f3a\"], [0.8888888888888888, \"#fdca26\"], [1.0, \"#f0f921\"]], \"type\": \"heatmap\"}], \"heatmapgl\": [{\"colorbar\": {\"outlinewidth\": 0, \"ticks\": \"\"}, \"colorscale\": [[0.0, \"#0d0887\"], [0.1111111111111111, \"#46039f\"], [0.2222222222222222, \"#7201a8\"], [0.3333333333333333, \"#9c179e\"], [0.4444444444444444, \"#bd3786\"], [0.5555555555555556, \"#d8576b\"], [0.6666666666666666, \"#ed7953\"], [0.7777777777777778, \"#fb9f3a\"], [0.8888888888888888, \"#fdca26\"], [1.0, \"#f0f921\"]], \"type\": \"heatmapgl\"}], \"histogram\": [{\"marker\": {\"colorbar\": {\"outlinewidth\": 0, \"ticks\": \"\"}}, \"type\": \"histogram\"}], \"histogram2d\": [{\"colorbar\": {\"outlinewidth\": 0, \"ticks\": \"\"}, \"colorscale\": [[0.0, \"#0d0887\"], [0.1111111111111111, \"#46039f\"], [0.2222222222222222, \"#7201a8\"], [0.3333333333333333, \"#9c179e\"], [0.4444444444444444, \"#bd3786\"], [0.5555555555555556, \"#d8576b\"], [0.6666666666666666, \"#ed7953\"], [0.7777777777777778, \"#fb9f3a\"], [0.8888888888888888, \"#fdca26\"], [1.0, \"#f0f921\"]], \"type\": \"histogram2d\"}], \"histogram2dcontour\": [{\"colorbar\": {\"outlinewidth\": 0, \"ticks\": \"\"}, \"colorscale\": [[0.0, \"#0d0887\"], [0.1111111111111111, \"#46039f\"], [0.2222222222222222, \"#7201a8\"], [0.3333333333333333, \"#9c179e\"], [0.4444444444444444, \"#bd3786\"], [0.5555555555555556, \"#d8576b\"], [0.6666666666666666, \"#ed7953\"], [0.7777777777777778, \"#fb9f3a\"], [0.8888888888888888, \"#fdca26\"], [1.0, \"#f0f921\"]], \"type\": \"histogram2dcontour\"}], \"mesh3d\": [{\"colorbar\": {\"outlinewidth\": 0, \"ticks\": \"\"}, \"type\": \"mesh3d\"}], \"parcoords\": [{\"line\": {\"colorbar\": {\"outlinewidth\": 0, \"ticks\": \"\"}}, \"type\": \"parcoords\"}], \"pie\": [{\"automargin\": true, \"type\": \"pie\"}], \"scatter\": [{\"marker\": {\"colorbar\": {\"outlinewidth\": 0, \"ticks\": \"\"}}, \"type\": \"scatter\"}], \"scatter3d\": [{\"line\": {\"colorbar\": {\"outlinewidth\": 0, \"ticks\": \"\"}}, \"marker\": {\"colorbar\": {\"outlinewidth\": 0, \"ticks\": \"\"}}, \"type\": \"scatter3d\"}], \"scattercarpet\": [{\"marker\": {\"colorbar\": {\"outlinewidth\": 0, \"ticks\": \"\"}}, \"type\": \"scattercarpet\"}], \"scattergeo\": [{\"marker\": {\"colorbar\": {\"outlinewidth\": 0, \"ticks\": \"\"}}, \"type\": \"scattergeo\"}], \"scattergl\": [{\"marker\": {\"colorbar\": {\"outlinewidth\": 0, \"ticks\": \"\"}}, \"type\": \"scattergl\"}], \"scattermapbox\": [{\"marker\": {\"colorbar\": {\"outlinewidth\": 0, \"ticks\": \"\"}}, \"type\": \"scattermapbox\"}], \"scatterpolar\": [{\"marker\": {\"colorbar\": {\"outlinewidth\": 0, \"ticks\": \"\"}}, \"type\": \"scatterpolar\"}], \"scatterpolargl\": [{\"marker\": {\"colorbar\": {\"outlinewidth\": 0, \"ticks\": \"\"}}, \"type\": \"scatterpolargl\"}], \"scatterternary\": [{\"marker\": {\"colorbar\": {\"outlinewidth\": 0, \"ticks\": \"\"}}, \"type\": \"scatterternary\"}], \"surface\": [{\"colorbar\": {\"outlinewidth\": 0, \"ticks\": \"\"}, \"colorscale\": [[0.0, \"#0d0887\"], [0.1111111111111111, \"#46039f\"], [0.2222222222222222, \"#7201a8\"], [0.3333333333333333, \"#9c179e\"], [0.4444444444444444, \"#bd3786\"], [0.5555555555555556, \"#d8576b\"], [0.6666666666666666, \"#ed7953\"], [0.7777777777777778, \"#fb9f3a\"], [0.8888888888888888, \"#fdca26\"], [1.0, \"#f0f921\"]], \"type\": \"surface\"}], \"table\": [{\"cells\": {\"fill\": {\"color\": \"#EBF0F8\"}, \"line\": {\"color\": \"white\"}}, \"header\": {\"fill\": {\"color\": \"#C8D4E3\"}, \"line\": {\"color\": \"white\"}}, \"type\": \"table\"}]}, \"layout\": {\"annotationdefaults\": {\"arrowcolor\": \"#2a3f5f\", \"arrowhead\": 0, \"arrowwidth\": 1}, \"coloraxis\": {\"colorbar\": {\"outlinewidth\": 0, \"ticks\": \"\"}}, \"colorscale\": {\"diverging\": [[0, \"#8e0152\"], [0.1, \"#c51b7d\"], [0.2, \"#de77ae\"], [0.3, \"#f1b6da\"], [0.4, \"#fde0ef\"], [0.5, \"#f7f7f7\"], [0.6, \"#e6f5d0\"], [0.7, \"#b8e186\"], [0.8, \"#7fbc41\"], [0.9, \"#4d9221\"], [1, \"#276419\"]], \"sequential\": [[0.0, \"#0d0887\"], [0.1111111111111111, \"#46039f\"], [0.2222222222222222, \"#7201a8\"], [0.3333333333333333, \"#9c179e\"], [0.4444444444444444, \"#bd3786\"], [0.5555555555555556, \"#d8576b\"], [0.6666666666666666, \"#ed7953\"], [0.7777777777777778, \"#fb9f3a\"], [0.8888888888888888, \"#fdca26\"], [1.0, \"#f0f921\"]], \"sequentialminus\": [[0.0, \"#0d0887\"], [0.1111111111111111, \"#46039f\"], [0.2222222222222222, \"#7201a8\"], [0.3333333333333333, \"#9c179e\"], [0.4444444444444444, \"#bd3786\"], [0.5555555555555556, \"#d8576b\"], [0.6666666666666666, \"#ed7953\"], [0.7777777777777778, \"#fb9f3a\"], [0.8888888888888888, \"#fdca26\"], [1.0, \"#f0f921\"]]}, \"colorway\": [\"#636efa\", \"#EF553B\", \"#00cc96\", \"#ab63fa\", \"#FFA15A\", \"#19d3f3\", \"#FF6692\", \"#B6E880\", \"#FF97FF\", \"#FECB52\"], \"font\": {\"color\": \"#2a3f5f\"}, \"geo\": {\"bgcolor\": \"white\", \"lakecolor\": \"white\", \"landcolor\": \"white\", \"showlakes\": true, \"showland\": true, \"subunitcolor\": \"#C8D4E3\"}, \"hoverlabel\": {\"align\": \"left\"}, \"hovermode\": \"closest\", \"mapbox\": {\"style\": \"light\"}, \"paper_bgcolor\": \"white\", \"plot_bgcolor\": \"white\", \"polar\": {\"angularaxis\": {\"gridcolor\": \"#EBF0F8\", \"linecolor\": \"#EBF0F8\", \"ticks\": \"\"}, \"bgcolor\": \"white\", \"radialaxis\": {\"gridcolor\": \"#EBF0F8\", \"linecolor\": \"#EBF0F8\", \"ticks\": \"\"}}, \"scene\": {\"xaxis\": {\"backgroundcolor\": \"white\", \"gridcolor\": \"#DFE8F3\", \"gridwidth\": 2, \"linecolor\": \"#EBF0F8\", \"showbackground\": true, \"ticks\": \"\", \"zerolinecolor\": \"#EBF0F8\"}, \"yaxis\": {\"backgroundcolor\": \"white\", \"gridcolor\": \"#DFE8F3\", \"gridwidth\": 2, \"linecolor\": \"#EBF0F8\", \"showbackground\": true, \"ticks\": \"\", \"zerolinecolor\": \"#EBF0F8\"}, \"zaxis\": {\"backgroundcolor\": \"white\", \"gridcolor\": \"#DFE8F3\", \"gridwidth\": 2, \"linecolor\": \"#EBF0F8\", \"showbackground\": true, \"ticks\": \"\", \"zerolinecolor\": \"#EBF0F8\"}}, \"shapedefaults\": {\"line\": {\"color\": \"#2a3f5f\"}}, \"ternary\": {\"aaxis\": {\"gridcolor\": \"#DFE8F3\", \"linecolor\": \"#A2B1C6\", \"ticks\": \"\"}, \"baxis\": {\"gridcolor\": \"#DFE8F3\", \"linecolor\": \"#A2B1C6\", \"ticks\": \"\"}, \"bgcolor\": \"white\", \"caxis\": {\"gridcolor\": \"#DFE8F3\", \"linecolor\": \"#A2B1C6\", \"ticks\": \"\"}}, \"title\": {\"x\": 0.05}, \"xaxis\": {\"automargin\": true, \"gridcolor\": \"#EBF0F8\", \"linecolor\": \"#EBF0F8\", \"ticks\": \"\", \"title\": {\"standoff\": 15}, \"zerolinecolor\": \"#EBF0F8\", \"zerolinewidth\": 2}, \"yaxis\": {\"automargin\": true, \"gridcolor\": \"#EBF0F8\", \"linecolor\": \"#EBF0F8\", \"ticks\": \"\", \"title\": {\"standoff\": 15}, \"zerolinecolor\": \"#EBF0F8\", \"zerolinewidth\": 2}}}, \"title\": {\"text\": \"Device Plots\"}, \"width\": 1500, \"xaxis\": {\"anchor\": \"y\", \"domain\": [0.0, 0.2888888888888889]}, \"xaxis2\": {\"anchor\": \"y2\", \"domain\": [0.35555555555555557, 0.6444444444444445]}, \"xaxis3\": {\"anchor\": \"y3\", \"domain\": [0.7111111111111111, 1.0]}, \"xaxis4\": {\"anchor\": \"y4\", \"domain\": [0.0, 0.2888888888888889]}, \"xaxis5\": {\"anchor\": \"y5\", \"domain\": [0.35555555555555557, 0.6444444444444445]}, \"xaxis6\": {\"anchor\": \"y6\", \"domain\": [0.7111111111111111, 1.0]}, \"yaxis\": {\"anchor\": \"x\", \"domain\": [0.52, 1.0]}, \"yaxis2\": {\"anchor\": \"x2\", \"domain\": [0.52, 1.0]}, \"yaxis3\": {\"anchor\": \"x3\", \"domain\": [0.52, 1.0]}, \"yaxis4\": {\"anchor\": \"x4\", \"domain\": [0.0, 0.48]}, \"yaxis5\": {\"anchor\": \"x5\", \"domain\": [0.0, 0.48]}, \"yaxis6\": {\"anchor\": \"x6\", \"domain\": [0.0, 0.48]}},\n",
              "                        {\"responsive\": true}\n",
              "                    ).then(function(){\n",
              "                            \n",
              "var gd = document.getElementById('01a02d8f-89e4-423f-8d4f-cdf7929fc91a');\n",
              "var x = new MutationObserver(function (mutations, observer) {{\n",
              "        var display = window.getComputedStyle(gd).display;\n",
              "        if (!display || display === 'none') {{\n",
              "            console.log([gd, 'removed!']);\n",
              "            Plotly.purge(gd);\n",
              "            observer.disconnect();\n",
              "        }}\n",
              "}});\n",
              "\n",
              "// Listen for the removal of the full notebook cells\n",
              "var notebookContainer = gd.closest('#notebook-container');\n",
              "if (notebookContainer) {{\n",
              "    x.observe(notebookContainer, {childList: true});\n",
              "}}\n",
              "\n",
              "// Listen for the clearing of the current output cell\n",
              "var outputEl = gd.closest('.output');\n",
              "if (outputEl) {{\n",
              "    x.observe(outputEl, {childList: true});\n",
              "}}\n",
              "\n",
              "                        })\n",
              "                };\n",
              "                \n",
              "            </script>\n",
              "        </div>\n",
              "</body>\n",
              "</html>"
            ]
          },
          "metadata": {
            "tags": []
          }
        }
      ]
    },
    {
      "cell_type": "code",
      "metadata": {
        "id": "LMQhn4rnIokE",
        "colab": {
          "base_uri": "https://localhost:8080/",
          "height": 542
        },
        "outputId": "2a9aaed5-5fd8-4ee9-e524-e5f6cb1730d1"
      },
      "source": [
        "#seting some static color options\n",
        "color_op = ['#5527A0', '#BB93D7', '#834CF7', '#6C941E', '#93EAEA', '#7425FF', '#F2098A', '#7E87AC', \n",
        "            '#EBE36F', '#7FD394', '#49C35D', '#3058EE', '#44FDCF', '#A38F85', '#C4CEE0', '#B63A05', \n",
        "            '#4856BF', '#F0DB1B', '#9FDBD9', '#B123AC']\n",
        "\n",
        "# Visits by time train\n",
        "\n",
        "# couting all entries by date to get number of conversions by each date\n",
        "dates_temp = train['date'].value_counts().reset_index().sort_values('index') \n",
        "# renaming the columns to apropriate names\n",
        "dates_temp.columns = ['date','conversions'] \n",
        "\n",
        "# creating the first trace with the necessary parameters\n",
        "trace = go.Scatter(x=dates_temp.date.astype(str), y=dates_temp.conversions,\n",
        "                    opacity = 0.8, line = dict(color = '#38C788'), name= 'Conversions by day')\n",
        "# Below we will get the total values by Transaction Revenue Log by date\n",
        "dates_temp_sum = train.groupby('date')['revenue'].sum().reset_index()\n",
        "\n",
        "# using the new dates_temp_sum we will create the second trace\n",
        "trace1 = go.Scatter(x=dates_temp_sum.date.astype(str), line = dict(color = '#C73877'), name=\"RevenueLog by day\",\n",
        "                        y=dates_temp_sum['revenue'], opacity = 0.8)\n",
        "\n",
        "# Getting the total values by Transactions by each date\n",
        "dates_temp_count = train[train['revenue'] > 0].groupby('date')['revenue'].count().reset_index()\n",
        "\n",
        "# using the new dates_temp_count we will create the third trace\n",
        "trace2 = go.Scatter(x=dates_temp_count.date.astype(str), line = dict(color = color_op[5]), name=\"Sellings by day\",\n",
        "                        y=dates_temp_count['revenue'], opacity = 0.8)\n",
        "\n",
        "#creating the layout the will allow us to give an title and \n",
        "# give us some interesting options to handle with the outputs of graphs\n",
        "layout = dict(\n",
        "    title= \"Informations by Date\",\n",
        "    paper_bgcolor='#ffffff',\n",
        "    template='plotly_white',\n",
        "    xaxis=dict(\n",
        "        rangeselector=dict(\n",
        "            buttons=list([\n",
        "                dict(count=1, label='1m', step='month', stepmode='backward'),\n",
        "                dict(count=3, label='3m', step='month', stepmode='backward'),\n",
        "                dict(count=6, label='6m', step='month', stepmode='backward'),\n",
        "                dict(step='all')\n",
        "            ])\n",
        "        ),\n",
        "        rangeslider=dict(visible = True),\n",
        "        type='date'\n",
        "    )\n",
        ")\n",
        "\n",
        "# creating figure with the both traces and layout\n",
        "fig = dict(data= [trace, trace1, trace2], layout=layout)\n",
        "\n",
        "#rendering the graphs\n",
        "iplot(fig) #it's an equivalent to plt.show()\n"
      ],
      "execution_count": null,
      "outputs": [
        {
          "output_type": "display_data",
          "data": {
            "text/html": [
              "<html>\n",
              "<head><meta charset=\"utf-8\" /></head>\n",
              "<body>\n",
              "    <div>\n",
              "            <script src=\"https://cdnjs.cloudflare.com/ajax/libs/mathjax/2.7.5/MathJax.js?config=TeX-AMS-MML_SVG\"></script><script type=\"text/javascript\">if (window.MathJax) {MathJax.Hub.Config({SVG: {font: \"STIX-Web\"}});}</script>\n",
              "                <script type=\"text/javascript\">window.PlotlyConfig = {MathJaxConfig: 'local'};</script>\n",
              "        <script src=\"https://cdn.plot.ly/plotly-latest.min.js\"></script>    \n",
              "            <div id=\"464c1bb1-06fa-4577-ab56-c8db97840ccb\" class=\"plotly-graph-div\" style=\"height:525px; width:100%;\"></div>\n",
              "            <script type=\"text/javascript\">\n",
              "                \n",
              "                    window.PLOTLYENV=window.PLOTLYENV || {};\n",
              "                    \n",
              "                if (document.getElementById(\"464c1bb1-06fa-4577-ab56-c8db97840ccb\")) {\n",
              "                    Plotly.newPlot(\n",
              "                        '464c1bb1-06fa-4577-ab56-c8db97840ccb',\n",
              "                        [{\"line\": {\"color\": \"#38C788\"}, \"name\": \"Conversions by day\", \"opacity\": 0.8, \"type\": \"scatter\", \"x\": [\"2020-01-08\", \"2020-01-09\", \"2020-01-10\", \"2020-01-11\", \"2020-01-12\", \"2020-02-08\", \"2020-02-09\", \"2020-02-10\", \"2020-02-11\", \"2020-02-12\", \"2020-03-08\", \"2020-03-09\", \"2020-03-10\", \"2020-03-11\", \"2020-03-12\", \"2020-04-08\", \"2020-04-09\", \"2020-04-10\", \"2020-04-11\", \"2020-04-12\", \"2020-05-08\", \"2020-05-09\", \"2020-05-10\", \"2020-05-11\", \"2020-05-12\", \"2020-06-08\", \"2020-06-09\", \"2020-06-10\", \"2020-06-11\", \"2020-06-12\", \"2020-07-08\", \"2020-07-09\", \"2020-07-10\", \"2020-07-11\", \"2020-07-12\", \"2020-08-08\", \"2020-08-09\", \"2020-08-10\", \"2020-08-11\", \"2020-08-12\", \"2020-08-13\", \"2020-08-14\", \"2020-08-15\", \"2020-08-16\", \"2020-08-17\", \"2020-08-18\", \"2020-08-19\", \"2020-08-20\", \"2020-08-21\", \"2020-08-22\", \"2020-08-23\", \"2020-08-24\", \"2020-08-25\", \"2020-08-26\", \"2020-08-27\", \"2020-08-28\", \"2020-08-29\", \"2020-08-30\", \"2020-08-31\", \"2020-09-08\", \"2020-09-09\", \"2020-09-10\", \"2020-09-11\", \"2020-09-12\", \"2020-09-13\", \"2020-09-14\", \"2020-09-15\", \"2020-09-16\", \"2020-09-17\", \"2020-09-18\", \"2020-09-19\", \"2020-09-20\", \"2020-09-21\", \"2020-09-22\", \"2020-09-23\", \"2020-09-24\", \"2020-09-25\", \"2020-09-26\", \"2020-09-27\", \"2020-09-28\", \"2020-09-29\", \"2020-09-30\", \"2020-10-08\", \"2020-10-09\", \"2020-10-10\", \"2020-10-11\", \"2020-10-12\", \"2020-10-13\", \"2020-10-14\", \"2020-10-15\", \"2020-10-16\", \"2020-10-17\", \"2020-10-18\", \"2020-10-19\", \"2020-10-20\", \"2020-10-21\", \"2020-10-22\", \"2020-10-23\", \"2020-10-24\", \"2020-10-25\", \"2020-10-26\", \"2020-10-27\", \"2020-10-28\", \"2020-10-29\", \"2020-10-30\", \"2020-10-31\", \"2020-11-08\", \"2020-11-09\", \"2020-11-10\", \"2020-11-11\", \"2020-11-12\", \"2020-11-13\", \"2020-11-14\", \"2020-11-15\", \"2020-11-16\", \"2020-11-17\", \"2020-11-18\", \"2020-11-19\", \"2020-11-20\", \"2020-11-21\", \"2020-11-22\", \"2020-11-23\", \"2020-11-24\", \"2020-11-25\", \"2020-11-26\", \"2020-11-27\", \"2020-11-28\", \"2020-11-29\", \"2020-11-30\", \"2020-12-08\", \"2020-12-09\", \"2020-12-10\", \"2020-12-11\", \"2020-12-12\", \"2020-12-13\", \"2020-12-14\", \"2020-12-15\", \"2020-12-16\", \"2020-12-17\", \"2020-12-18\", \"2020-12-19\", \"2020-12-20\", \"2020-12-21\", \"2020-12-22\", \"2020-12-23\", \"2020-12-24\", \"2020-12-25\", \"2020-12-26\", \"2020-12-27\", \"2020-12-28\", \"2020-12-29\", \"2020-12-30\", \"2020-12-31\", \"2021-01-01\", \"2021-01-02\", \"2021-01-13\", \"2021-01-14\", \"2021-01-15\", \"2021-01-16\", \"2021-01-17\", \"2021-01-18\", \"2021-01-19\", \"2021-01-20\", \"2021-01-21\", \"2021-01-22\", \"2021-01-23\", \"2021-01-24\", \"2021-01-25\", \"2021-01-26\", \"2021-01-27\", \"2021-01-28\", \"2021-01-29\", \"2021-01-30\", \"2021-01-31\", \"2021-02-01\", \"2021-02-02\", \"2021-02-13\", \"2021-02-14\", \"2021-02-15\", \"2021-02-16\", \"2021-02-17\", \"2021-02-18\", \"2021-02-19\", \"2021-02-20\", \"2021-02-21\", \"2021-02-22\", \"2021-02-23\", \"2021-02-24\", \"2021-02-25\", \"2021-02-26\", \"2021-02-27\", \"2021-02-28\", \"2021-03-01\", \"2021-03-02\", \"2021-04-01\", \"2021-04-02\", \"2021-05-01\", \"2021-05-02\", \"2021-06-01\", \"2021-06-02\", \"2021-07-01\", \"2021-07-02\", \"2021-08-01\", \"2021-08-02\", \"2021-09-01\", \"2021-09-02\", \"2021-10-01\", \"2021-10-02\", \"2021-11-01\", \"2021-11-02\", \"2021-12-01\", \"2021-12-02\"], \"y\": [23, 19, 17, 30, 25, 21, 19, 16, 28, 25, 21, 19, 18, 24, 24, 21, 19, 28, 26, 25, 19, 19, 12, 25, 24, 19, 26, 12, 25, 24, 18, 12, 12, 28, 31, 18, 12, 17, 31, 27, 18, 17, 17, 19, 17, 17, 17, 17, 16, 15, 19, 18, 25, 12, 18, 8, 12, 12, 8, 18, 12, 13, 29, 28, 10, 21, 19, 18, 20, 19, 19, 17, 18, 17, 19, 20, 20, 18, 19, 22, 8, 10, 19, 13, 17, 29, 31, 18, 20, 19, 20, 19, 20, 20, 19, 20, 19, 19, 17, 17, 18, 18, 19, 34, 35, 32, 19, 12, 21, 30, 30, 22, 23, 22, 23, 22, 22, 23, 22, 20, 23, 30, 11, 12, 12, 12, 16, 29, 25, 17, 12, 17, 24, 29, 24, 23, 25, 29, 26, 26, 28, 26, 29, 34, 32, 33, 32, 23, 24, 23, 25, 22, 24, 22, 25, 28, 23, 24, 24, 25, 28, 23, 24, 25, 24, 27, 26, 26, 24, 24, 24, 24, 24, 24, 22, 22, 12, 23, 16, 13, 27, 24, 26, 26, 26, 24, 22, 26, 23, 26, 23, 24, 24, 24, 23, 25, 26, 26, 23, 23, 23, 24, 23, 28, 23, 25, 23, 26, 28, 10, 26, 20]}, {\"line\": {\"color\": \"#C73877\"}, \"name\": \"RevenueLog by day\", \"opacity\": 0.8, \"type\": \"scatter\", \"x\": [\"2020-01-08\", \"2020-01-09\", \"2020-01-10\", \"2020-01-11\", \"2020-01-12\", \"2020-02-08\", \"2020-02-09\", \"2020-02-10\", \"2020-02-11\", \"2020-02-12\", \"2020-03-08\", \"2020-03-09\", \"2020-03-10\", \"2020-03-11\", \"2020-03-12\", \"2020-04-08\", \"2020-04-09\", \"2020-04-10\", \"2020-04-11\", \"2020-04-12\", \"2020-05-08\", \"2020-05-09\", \"2020-05-10\", \"2020-05-11\", \"2020-05-12\", \"2020-06-08\", \"2020-06-09\", \"2020-06-10\", \"2020-06-11\", \"2020-06-12\", \"2020-07-08\", \"2020-07-09\", \"2020-07-10\", \"2020-07-11\", \"2020-07-12\", \"2020-08-08\", \"2020-08-09\", \"2020-08-10\", \"2020-08-11\", \"2020-08-12\", \"2020-08-13\", \"2020-08-14\", \"2020-08-15\", \"2020-08-16\", \"2020-08-17\", \"2020-08-18\", \"2020-08-19\", \"2020-08-20\", \"2020-08-21\", \"2020-08-22\", \"2020-08-23\", \"2020-08-24\", \"2020-08-25\", \"2020-08-26\", \"2020-08-27\", \"2020-08-28\", \"2020-08-29\", \"2020-08-30\", \"2020-08-31\", \"2020-09-08\", \"2020-09-09\", \"2020-09-10\", \"2020-09-11\", \"2020-09-12\", \"2020-09-13\", \"2020-09-14\", \"2020-09-15\", \"2020-09-16\", \"2020-09-17\", \"2020-09-18\", \"2020-09-19\", \"2020-09-20\", \"2020-09-21\", \"2020-09-22\", \"2020-09-23\", \"2020-09-24\", \"2020-09-25\", \"2020-09-26\", \"2020-09-27\", \"2020-09-28\", \"2020-09-29\", \"2020-09-30\", \"2020-10-08\", \"2020-10-09\", \"2020-10-10\", \"2020-10-11\", \"2020-10-12\", \"2020-10-13\", \"2020-10-14\", \"2020-10-15\", \"2020-10-16\", \"2020-10-17\", \"2020-10-18\", \"2020-10-19\", \"2020-10-20\", \"2020-10-21\", \"2020-10-22\", \"2020-10-23\", \"2020-10-24\", \"2020-10-25\", \"2020-10-26\", \"2020-10-27\", \"2020-10-28\", \"2020-10-29\", \"2020-10-30\", \"2020-10-31\", \"2020-11-08\", \"2020-11-09\", \"2020-11-10\", \"2020-11-11\", \"2020-11-12\", \"2020-11-13\", \"2020-11-14\", \"2020-11-15\", \"2020-11-16\", \"2020-11-17\", \"2020-11-18\", \"2020-11-19\", \"2020-11-20\", \"2020-11-21\", \"2020-11-22\", \"2020-11-23\", \"2020-11-24\", \"2020-11-25\", \"2020-11-26\", \"2020-11-27\", \"2020-11-28\", \"2020-11-29\", \"2020-11-30\", \"2020-12-08\", \"2020-12-09\", \"2020-12-10\", \"2020-12-11\", \"2020-12-12\", \"2020-12-13\", \"2020-12-14\", \"2020-12-15\", \"2020-12-16\", \"2020-12-17\", \"2020-12-18\", \"2020-12-19\", \"2020-12-20\", \"2020-12-21\", \"2020-12-22\", \"2020-12-23\", \"2020-12-24\", \"2020-12-25\", \"2020-12-26\", \"2020-12-27\", \"2020-12-28\", \"2020-12-29\", \"2020-12-30\", \"2020-12-31\", \"2021-01-01\", \"2021-01-02\", \"2021-01-13\", \"2021-01-14\", \"2021-01-15\", \"2021-01-16\", \"2021-01-17\", \"2021-01-18\", \"2021-01-19\", \"2021-01-20\", \"2021-01-21\", \"2021-01-22\", \"2021-01-23\", \"2021-01-24\", \"2021-01-25\", \"2021-01-26\", \"2021-01-27\", \"2021-01-28\", \"2021-01-29\", \"2021-01-30\", \"2021-01-31\", \"2021-02-01\", \"2021-02-02\", \"2021-02-13\", \"2021-02-14\", \"2021-02-15\", \"2021-02-16\", \"2021-02-17\", \"2021-02-18\", \"2021-02-19\", \"2021-02-20\", \"2021-02-21\", \"2021-02-22\", \"2021-02-23\", \"2021-02-24\", \"2021-02-25\", \"2021-02-26\", \"2021-02-27\", \"2021-02-28\", \"2021-03-01\", \"2021-03-02\", \"2021-04-01\", \"2021-04-02\", \"2021-05-01\", \"2021-05-02\", \"2021-06-01\", \"2021-06-02\", \"2021-07-01\", \"2021-07-02\", \"2021-08-01\", \"2021-08-02\", \"2021-09-01\", \"2021-09-02\", \"2021-10-01\", \"2021-10-02\", \"2021-11-01\", \"2021-11-02\", \"2021-12-01\", \"2021-12-02\"], \"y\": [2384.92, 5302.07, 6325.33, 2270.6, 2866.12, 4275.25, 5104.179999999999, 3048.2400000000002, 1482.43, 2865.3199999999997, 3441.02, 5829.15, 5138.7, 1385.1, 2290.45, 4378.93, 5539.210000000001, 5019.65, 1839.6200000000001, 2137.9300000000003, 2634.79, 4484.360000000001, 5708.54, 2875.91, 1852.07, 1369.4399999999998, 5600.249999999999, 7454.98, 3268.64, 1523.45, 2343.02, 6134.830000000001, 9874.47, 1262.4, 2726.35, 3558.67, 26775.24, 46599.25, 2071.0, 2497.34, 2690.45, 4421.2699999999995, 2378.3199999999997, 2134.75, 3441.3300000000004, 3497.9100000000003, 1773.0, 2263.0699999999997, 1726.23, 1546.99, 3695.8599999999997, 5775.429999999999, 3177.17, 3438.4500000000003, 9546.87, 7628.42, 8226.64, 9236.39, 11989.7, 2765.37, 52436.78, 28740.54, 3860.0699999999997, 2571.56, 21402.07, 2684.92, 2021.63, 2903.1, 1213.41, 1726.75, 1789.38, 1329.25, 1089.1100000000001, 2208.83, 2496.7999999999997, 2115.3799999999997, 3600.79, 1634.3000000000002, 4791.11, 5112.78, 4796.41, 2747.08, 2856.09, 46102.72, 46338.54, 3578.1800000000003, 2230.56, 2839.5499999999997, 3247.29, 1989.7399999999998, 3423.4, 2428.93, 3727.4700000000007, 1949.25, 2482.75, 829.97, 1225.49, 3471.5, 1214.6399999999999, 1678.99, 2973.6, 1818.59, 3258.1200000000003, 1450.3000000000002, 1267.84, 1313.0500000000002, 4266.96, 19417.37, 3596.2200000000003, 9698.66, 4096.74, 1900.59, 4492.360000000001, 2288.46, 3777.8999999999996, 1712.45, 2250.09, 2002.3500000000001, 1522.92, 3646.23, 3129.02, 3418.41, 10387.52, 21785.179999999997, 49983.27, 46285.05, 26116.309999999998, 2342.15, 1935.6899999999998, 3213.06, 11440.47, 3230.4900000000002, 1256.06, 4509.53, 2051.2, 2715.0600000000004, 2635.0600000000004, 2876.1899999999996, 2452.96, 2195.94, 1282.1599999999999, 2466.69, 3871.7499999999995, 2955.58, 1779.9, 1466.6699999999998, 852.17, 2066.68, 2360.49, 1944.6200000000001, 3126.2799999999997, 2297.08, 2076.21, 2693.8300000000004, 3141.3700000000003, 1879.0200000000002, 2068.26, 308.2, 2059.12, 3289.8500000000004, 1126.6399999999999, 1492.67, 2803.33, 3615.4300000000003, 3579.14, 3669.42, 3976.0800000000004, 1823.1500000000003, 2733.29, 2700.2799999999997, 1778.61, 1004.22, 1244.33, 4408.13, 2024.25, 2161.28, 14816.82, 12348.96, 4872.280000000001, 8864.5, 1265.95, 849.84, 1801.21, 899.02, 3252.05, 1289.1699999999998, 2658.4700000000003, 763.39, 542.3900000000001, 1996.44, 1002.0999999999999, 3158.4399999999996, 1859.65, 3310.3, 1083.92, 1575.1100000000001, 2026.51, 1495.6899999999998, 3031.16, 2251.6099999999997, 1956.7200000000003, 1451.2399999999998, 2054.58, 1817.32, 1444.71, 1914.9, 1917.6200000000001, 2202.89, 1595.99, 2033.31, 3133.74, 6702.920000000001]}, {\"line\": {\"color\": \"#7425FF\"}, \"name\": \"Sellings by day\", \"opacity\": 0.8, \"type\": \"scatter\", \"x\": [\"2020-01-08\", \"2020-01-09\", \"2020-01-10\", \"2020-01-11\", \"2020-01-12\", \"2020-02-08\", \"2020-02-09\", \"2020-02-10\", \"2020-02-11\", \"2020-02-12\", \"2020-03-08\", \"2020-03-09\", \"2020-03-10\", \"2020-03-11\", \"2020-03-12\", \"2020-04-08\", \"2020-04-09\", \"2020-04-10\", \"2020-04-11\", \"2020-04-12\", \"2020-05-08\", \"2020-05-09\", \"2020-05-10\", \"2020-05-11\", \"2020-05-12\", \"2020-06-08\", \"2020-06-09\", \"2020-06-10\", \"2020-06-11\", \"2020-06-12\", \"2020-07-08\", \"2020-07-09\", \"2020-07-10\", \"2020-07-11\", \"2020-07-12\", \"2020-08-08\", \"2020-08-09\", \"2020-08-10\", \"2020-08-11\", \"2020-08-12\", \"2020-08-13\", \"2020-08-14\", \"2020-08-15\", \"2020-08-16\", \"2020-08-17\", \"2020-08-18\", \"2020-08-19\", \"2020-08-20\", \"2020-08-21\", \"2020-08-22\", \"2020-08-23\", \"2020-08-24\", \"2020-08-25\", \"2020-08-26\", \"2020-08-27\", \"2020-08-28\", \"2020-08-29\", \"2020-08-30\", \"2020-08-31\", \"2020-09-08\", \"2020-09-09\", \"2020-09-10\", \"2020-09-11\", \"2020-09-12\", \"2020-09-13\", \"2020-09-14\", \"2020-09-15\", \"2020-09-16\", \"2020-09-17\", \"2020-09-18\", \"2020-09-19\", \"2020-09-20\", \"2020-09-21\", \"2020-09-22\", \"2020-09-23\", \"2020-09-24\", \"2020-09-25\", \"2020-09-26\", \"2020-09-27\", \"2020-09-28\", \"2020-09-29\", \"2020-09-30\", \"2020-10-08\", \"2020-10-09\", \"2020-10-10\", \"2020-10-11\", \"2020-10-12\", \"2020-10-13\", \"2020-10-14\", \"2020-10-15\", \"2020-10-16\", \"2020-10-17\", \"2020-10-18\", \"2020-10-19\", \"2020-10-20\", \"2020-10-21\", \"2020-10-22\", \"2020-10-23\", \"2020-10-24\", \"2020-10-25\", \"2020-10-26\", \"2020-10-27\", \"2020-10-28\", \"2020-10-29\", \"2020-10-30\", \"2020-10-31\", \"2020-11-08\", \"2020-11-09\", \"2020-11-10\", \"2020-11-11\", \"2020-11-12\", \"2020-11-13\", \"2020-11-14\", \"2020-11-15\", \"2020-11-16\", \"2020-11-17\", \"2020-11-18\", \"2020-11-19\", \"2020-11-20\", \"2020-11-21\", \"2020-11-22\", \"2020-11-23\", \"2020-11-24\", \"2020-11-25\", \"2020-11-26\", \"2020-11-27\", \"2020-11-28\", \"2020-11-29\", \"2020-11-30\", \"2020-12-08\", \"2020-12-09\", \"2020-12-10\", \"2020-12-11\", \"2020-12-12\", \"2020-12-13\", \"2020-12-14\", \"2020-12-15\", \"2020-12-16\", \"2020-12-17\", \"2020-12-18\", \"2020-12-19\", \"2020-12-20\", \"2020-12-21\", \"2020-12-22\", \"2020-12-23\", \"2020-12-24\", \"2020-12-25\", \"2020-12-26\", \"2020-12-27\", \"2020-12-28\", \"2020-12-29\", \"2020-12-30\", \"2020-12-31\", \"2021-01-01\", \"2021-01-02\", \"2021-01-13\", \"2021-01-14\", \"2021-01-15\", \"2021-01-16\", \"2021-01-17\", \"2021-01-18\", \"2021-01-19\", \"2021-01-20\", \"2021-01-21\", \"2021-01-22\", \"2021-01-23\", \"2021-01-24\", \"2021-01-25\", \"2021-01-26\", \"2021-01-27\", \"2021-01-28\", \"2021-01-29\", \"2021-01-30\", \"2021-01-31\", \"2021-02-01\", \"2021-02-02\", \"2021-02-13\", \"2021-02-14\", \"2021-02-15\", \"2021-02-16\", \"2021-02-17\", \"2021-02-18\", \"2021-02-19\", \"2021-02-20\", \"2021-02-21\", \"2021-02-22\", \"2021-02-23\", \"2021-02-24\", \"2021-02-25\", \"2021-02-26\", \"2021-02-27\", \"2021-02-28\", \"2021-03-01\", \"2021-03-02\", \"2021-04-01\", \"2021-04-02\", \"2021-05-01\", \"2021-05-02\", \"2021-06-01\", \"2021-06-02\", \"2021-07-01\", \"2021-07-02\", \"2021-08-01\", \"2021-08-02\", \"2021-09-01\", \"2021-09-02\", \"2021-10-01\", \"2021-10-02\", \"2021-11-01\", \"2021-11-02\", \"2021-12-01\", \"2021-12-02\"], \"y\": [5, 6, 7, 4, 9, 8, 8, 6, 3, 7, 7, 6, 5, 5, 6, 9, 8, 10, 6, 7, 6, 7, 8, 6, 8, 5, 10, 6, 5, 6, 5, 6, 6, 5, 7, 6, 6, 7, 9, 7, 5, 9, 4, 6, 8, 8, 6, 4, 8, 5, 5, 7, 5, 5, 11, 4, 4, 6, 6, 4, 6, 8, 7, 8, 6, 4, 4, 4, 4, 4, 4, 4, 4, 7, 6, 4, 7, 4, 5, 5, 5, 4, 8, 7, 8, 6, 6, 8, 6, 6, 6, 7, 7, 6, 5, 4, 3, 5, 6, 6, 7, 4, 8, 9, 6, 7, 12, 7, 5, 11, 11, 4, 7, 6, 9, 4, 6, 5, 7, 8, 7, 9, 7, 8, 9, 10, 8, 6, 6, 8, 7, 8, 5, 10, 8, 6, 7, 8, 9, 9, 7, 8, 8, 7, 7, 8, 6, 6, 8, 7, 10, 10, 5, 6, 8, 7, 4, 4, 5, 6, 6, 7, 7, 8, 8, 14, 10, 5, 8, 5, 5, 3, 5, 8, 6, 6, 7, 11, 6, 7, 5, 3, 5, 4, 6, 6, 8, 6, 4, 6, 4, 8, 5, 7, 2, 4, 5, 6, 5, 3, 5, 6, 4, 5, 5, 6, 5, 6, 6, 3, 7, 11]}],\n",
              "                        {\"paper_bgcolor\": \"#ffffff\", \"template\": {\"data\": {\"bar\": [{\"error_x\": {\"color\": \"#2a3f5f\"}, \"error_y\": {\"color\": \"#2a3f5f\"}, \"marker\": {\"line\": {\"color\": \"white\", \"width\": 0.5}}, \"type\": \"bar\"}], \"barpolar\": [{\"marker\": {\"line\": {\"color\": \"white\", \"width\": 0.5}}, \"type\": \"barpolar\"}], \"carpet\": [{\"aaxis\": {\"endlinecolor\": \"#2a3f5f\", \"gridcolor\": \"#C8D4E3\", \"linecolor\": \"#C8D4E3\", \"minorgridcolor\": \"#C8D4E3\", \"startlinecolor\": \"#2a3f5f\"}, \"baxis\": {\"endlinecolor\": \"#2a3f5f\", \"gridcolor\": \"#C8D4E3\", \"linecolor\": \"#C8D4E3\", \"minorgridcolor\": \"#C8D4E3\", \"startlinecolor\": \"#2a3f5f\"}, \"type\": \"carpet\"}], \"choropleth\": [{\"colorbar\": {\"outlinewidth\": 0, \"ticks\": \"\"}, \"type\": \"choropleth\"}], \"contour\": [{\"colorbar\": {\"outlinewidth\": 0, \"ticks\": \"\"}, \"colorscale\": [[0.0, \"#0d0887\"], [0.1111111111111111, \"#46039f\"], [0.2222222222222222, \"#7201a8\"], [0.3333333333333333, \"#9c179e\"], [0.4444444444444444, \"#bd3786\"], [0.5555555555555556, \"#d8576b\"], [0.6666666666666666, \"#ed7953\"], [0.7777777777777778, \"#fb9f3a\"], [0.8888888888888888, \"#fdca26\"], [1.0, \"#f0f921\"]], \"type\": \"contour\"}], \"contourcarpet\": [{\"colorbar\": {\"outlinewidth\": 0, \"ticks\": \"\"}, \"type\": \"contourcarpet\"}], \"heatmap\": [{\"colorbar\": {\"outlinewidth\": 0, \"ticks\": \"\"}, \"colorscale\": [[0.0, \"#0d0887\"], [0.1111111111111111, \"#46039f\"], [0.2222222222222222, \"#7201a8\"], [0.3333333333333333, \"#9c179e\"], [0.4444444444444444, \"#bd3786\"], [0.5555555555555556, \"#d8576b\"], [0.6666666666666666, \"#ed7953\"], [0.7777777777777778, \"#fb9f3a\"], [0.8888888888888888, \"#fdca26\"], [1.0, \"#f0f921\"]], \"type\": \"heatmap\"}], \"heatmapgl\": [{\"colorbar\": {\"outlinewidth\": 0, \"ticks\": \"\"}, \"colorscale\": [[0.0, \"#0d0887\"], [0.1111111111111111, \"#46039f\"], [0.2222222222222222, \"#7201a8\"], [0.3333333333333333, \"#9c179e\"], [0.4444444444444444, \"#bd3786\"], [0.5555555555555556, \"#d8576b\"], [0.6666666666666666, \"#ed7953\"], [0.7777777777777778, \"#fb9f3a\"], [0.8888888888888888, \"#fdca26\"], [1.0, \"#f0f921\"]], \"type\": \"heatmapgl\"}], \"histogram\": [{\"marker\": {\"colorbar\": {\"outlinewidth\": 0, \"ticks\": \"\"}}, \"type\": \"histogram\"}], \"histogram2d\": [{\"colorbar\": {\"outlinewidth\": 0, \"ticks\": \"\"}, \"colorscale\": [[0.0, \"#0d0887\"], [0.1111111111111111, \"#46039f\"], [0.2222222222222222, \"#7201a8\"], [0.3333333333333333, \"#9c179e\"], [0.4444444444444444, \"#bd3786\"], [0.5555555555555556, \"#d8576b\"], [0.6666666666666666, \"#ed7953\"], [0.7777777777777778, \"#fb9f3a\"], [0.8888888888888888, \"#fdca26\"], [1.0, \"#f0f921\"]], \"type\": \"histogram2d\"}], \"histogram2dcontour\": [{\"colorbar\": {\"outlinewidth\": 0, \"ticks\": \"\"}, \"colorscale\": [[0.0, \"#0d0887\"], [0.1111111111111111, \"#46039f\"], [0.2222222222222222, \"#7201a8\"], [0.3333333333333333, \"#9c179e\"], [0.4444444444444444, \"#bd3786\"], [0.5555555555555556, \"#d8576b\"], [0.6666666666666666, \"#ed7953\"], [0.7777777777777778, \"#fb9f3a\"], [0.8888888888888888, \"#fdca26\"], [1.0, \"#f0f921\"]], \"type\": \"histogram2dcontour\"}], \"mesh3d\": [{\"colorbar\": {\"outlinewidth\": 0, \"ticks\": \"\"}, \"type\": \"mesh3d\"}], \"parcoords\": [{\"line\": {\"colorbar\": {\"outlinewidth\": 0, \"ticks\": \"\"}}, \"type\": \"parcoords\"}], \"pie\": [{\"automargin\": true, \"type\": \"pie\"}], \"scatter\": [{\"marker\": {\"colorbar\": {\"outlinewidth\": 0, \"ticks\": \"\"}}, \"type\": \"scatter\"}], \"scatter3d\": [{\"line\": {\"colorbar\": {\"outlinewidth\": 0, \"ticks\": \"\"}}, \"marker\": {\"colorbar\": {\"outlinewidth\": 0, \"ticks\": \"\"}}, \"type\": \"scatter3d\"}], \"scattercarpet\": [{\"marker\": {\"colorbar\": {\"outlinewidth\": 0, \"ticks\": \"\"}}, \"type\": \"scattercarpet\"}], \"scattergeo\": [{\"marker\": {\"colorbar\": {\"outlinewidth\": 0, \"ticks\": \"\"}}, \"type\": \"scattergeo\"}], \"scattergl\": [{\"marker\": {\"colorbar\": {\"outlinewidth\": 0, \"ticks\": \"\"}}, \"type\": \"scattergl\"}], \"scattermapbox\": [{\"marker\": {\"colorbar\": {\"outlinewidth\": 0, \"ticks\": \"\"}}, \"type\": \"scattermapbox\"}], \"scatterpolar\": [{\"marker\": {\"colorbar\": {\"outlinewidth\": 0, \"ticks\": \"\"}}, \"type\": \"scatterpolar\"}], \"scatterpolargl\": [{\"marker\": {\"colorbar\": {\"outlinewidth\": 0, \"ticks\": \"\"}}, \"type\": \"scatterpolargl\"}], \"scatterternary\": [{\"marker\": {\"colorbar\": {\"outlinewidth\": 0, \"ticks\": \"\"}}, \"type\": \"scatterternary\"}], \"surface\": [{\"colorbar\": {\"outlinewidth\": 0, \"ticks\": \"\"}, \"colorscale\": [[0.0, \"#0d0887\"], [0.1111111111111111, \"#46039f\"], [0.2222222222222222, \"#7201a8\"], [0.3333333333333333, \"#9c179e\"], [0.4444444444444444, \"#bd3786\"], [0.5555555555555556, \"#d8576b\"], [0.6666666666666666, \"#ed7953\"], [0.7777777777777778, \"#fb9f3a\"], [0.8888888888888888, \"#fdca26\"], [1.0, \"#f0f921\"]], \"type\": \"surface\"}], \"table\": [{\"cells\": {\"fill\": {\"color\": \"#EBF0F8\"}, \"line\": {\"color\": \"white\"}}, \"header\": {\"fill\": {\"color\": \"#C8D4E3\"}, \"line\": {\"color\": \"white\"}}, \"type\": \"table\"}]}, \"layout\": {\"annotationdefaults\": {\"arrowcolor\": \"#2a3f5f\", \"arrowhead\": 0, \"arrowwidth\": 1}, \"coloraxis\": {\"colorbar\": {\"outlinewidth\": 0, \"ticks\": \"\"}}, \"colorscale\": {\"diverging\": [[0, \"#8e0152\"], [0.1, \"#c51b7d\"], [0.2, \"#de77ae\"], [0.3, \"#f1b6da\"], [0.4, \"#fde0ef\"], [0.5, \"#f7f7f7\"], [0.6, \"#e6f5d0\"], [0.7, \"#b8e186\"], [0.8, \"#7fbc41\"], [0.9, \"#4d9221\"], [1, \"#276419\"]], \"sequential\": [[0.0, \"#0d0887\"], [0.1111111111111111, \"#46039f\"], [0.2222222222222222, \"#7201a8\"], [0.3333333333333333, \"#9c179e\"], [0.4444444444444444, \"#bd3786\"], [0.5555555555555556, \"#d8576b\"], [0.6666666666666666, \"#ed7953\"], [0.7777777777777778, \"#fb9f3a\"], [0.8888888888888888, \"#fdca26\"], [1.0, \"#f0f921\"]], \"sequentialminus\": [[0.0, \"#0d0887\"], [0.1111111111111111, \"#46039f\"], [0.2222222222222222, \"#7201a8\"], [0.3333333333333333, \"#9c179e\"], [0.4444444444444444, \"#bd3786\"], [0.5555555555555556, \"#d8576b\"], [0.6666666666666666, \"#ed7953\"], [0.7777777777777778, \"#fb9f3a\"], [0.8888888888888888, \"#fdca26\"], [1.0, \"#f0f921\"]]}, \"colorway\": [\"#636efa\", \"#EF553B\", \"#00cc96\", \"#ab63fa\", \"#FFA15A\", \"#19d3f3\", \"#FF6692\", \"#B6E880\", \"#FF97FF\", \"#FECB52\"], \"font\": {\"color\": \"#2a3f5f\"}, \"geo\": {\"bgcolor\": \"white\", \"lakecolor\": \"white\", \"landcolor\": \"white\", \"showlakes\": true, \"showland\": true, \"subunitcolor\": \"#C8D4E3\"}, \"hoverlabel\": {\"align\": \"left\"}, \"hovermode\": \"closest\", \"mapbox\": {\"style\": \"light\"}, \"paper_bgcolor\": \"white\", \"plot_bgcolor\": \"white\", \"polar\": {\"angularaxis\": {\"gridcolor\": \"#EBF0F8\", \"linecolor\": \"#EBF0F8\", \"ticks\": \"\"}, \"bgcolor\": \"white\", \"radialaxis\": {\"gridcolor\": \"#EBF0F8\", \"linecolor\": \"#EBF0F8\", \"ticks\": \"\"}}, \"scene\": {\"xaxis\": {\"backgroundcolor\": \"white\", \"gridcolor\": \"#DFE8F3\", \"gridwidth\": 2, \"linecolor\": \"#EBF0F8\", \"showbackground\": true, \"ticks\": \"\", \"zerolinecolor\": \"#EBF0F8\"}, \"yaxis\": {\"backgroundcolor\": \"white\", \"gridcolor\": \"#DFE8F3\", \"gridwidth\": 2, \"linecolor\": \"#EBF0F8\", \"showbackground\": true, \"ticks\": \"\", \"zerolinecolor\": \"#EBF0F8\"}, \"zaxis\": {\"backgroundcolor\": \"white\", \"gridcolor\": \"#DFE8F3\", \"gridwidth\": 2, \"linecolor\": \"#EBF0F8\", \"showbackground\": true, \"ticks\": \"\", \"zerolinecolor\": \"#EBF0F8\"}}, \"shapedefaults\": {\"line\": {\"color\": \"#2a3f5f\"}}, \"ternary\": {\"aaxis\": {\"gridcolor\": \"#DFE8F3\", \"linecolor\": \"#A2B1C6\", \"ticks\": \"\"}, \"baxis\": {\"gridcolor\": \"#DFE8F3\", \"linecolor\": \"#A2B1C6\", \"ticks\": \"\"}, \"bgcolor\": \"white\", \"caxis\": {\"gridcolor\": \"#DFE8F3\", \"linecolor\": \"#A2B1C6\", \"ticks\": \"\"}}, \"title\": {\"x\": 0.05}, \"xaxis\": {\"automargin\": true, \"gridcolor\": \"#EBF0F8\", \"linecolor\": \"#EBF0F8\", \"ticks\": \"\", \"title\": {\"standoff\": 15}, \"zerolinecolor\": \"#EBF0F8\", \"zerolinewidth\": 2}, \"yaxis\": {\"automargin\": true, \"gridcolor\": \"#EBF0F8\", \"linecolor\": \"#EBF0F8\", \"ticks\": \"\", \"title\": {\"standoff\": 15}, \"zerolinecolor\": \"#EBF0F8\", \"zerolinewidth\": 2}}}, \"title\": {\"text\": \"Informations by Date\"}, \"xaxis\": {\"rangeselector\": {\"buttons\": [{\"count\": 1, \"label\": \"1m\", \"step\": \"month\", \"stepmode\": \"backward\"}, {\"count\": 3, \"label\": \"3m\", \"step\": \"month\", \"stepmode\": \"backward\"}, {\"count\": 6, \"label\": \"6m\", \"step\": \"month\", \"stepmode\": \"backward\"}, {\"step\": \"all\"}]}, \"rangeslider\": {\"visible\": true}, \"type\": \"date\"}},\n",
              "                        {\"responsive\": true}\n",
              "                    ).then(function(){\n",
              "                            \n",
              "var gd = document.getElementById('464c1bb1-06fa-4577-ab56-c8db97840ccb');\n",
              "var x = new MutationObserver(function (mutations, observer) {{\n",
              "        var display = window.getComputedStyle(gd).display;\n",
              "        if (!display || display === 'none') {{\n",
              "            console.log([gd, 'removed!']);\n",
              "            Plotly.purge(gd);\n",
              "            observer.disconnect();\n",
              "        }}\n",
              "}});\n",
              "\n",
              "// Listen for the removal of the full notebook cells\n",
              "var notebookContainer = gd.closest('#notebook-container');\n",
              "if (notebookContainer) {{\n",
              "    x.observe(notebookContainer, {childList: true});\n",
              "}}\n",
              "\n",
              "// Listen for the clearing of the current output cell\n",
              "var outputEl = gd.closest('.output');\n",
              "if (outputEl) {{\n",
              "    x.observe(outputEl, {childList: true});\n",
              "}}\n",
              "\n",
              "                        })\n",
              "                };\n",
              "                \n",
              "            </script>\n",
              "        </div>\n",
              "</body>\n",
              "</html>"
            ]
          },
          "metadata": {
            "tags": []
          }
        }
      ]
    },
    {
      "cell_type": "code",
      "metadata": {
        "id": "JltLCLp2Srjg",
        "colab": {
          "base_uri": "https://localhost:8080/",
          "height": 1000
        },
        "outputId": "649a2889-c95c-4f99-b065-c43fd127d459"
      },
      "source": [
        "tbl_report(train)"
      ],
      "execution_count": null,
      "outputs": [
        {
          "output_type": "stream",
          "text": [
            "Table Shape (4571, 12)\n"
          ],
          "name": "stdout"
        },
        {
          "output_type": "display_data",
          "data": {
            "text/html": [
              "<table border=\"1\" class=\"dataframe\">\n",
              "  <thead>\n",
              "    <tr style=\"text-align: right;\">\n",
              "      <th></th>\n",
              "      <th>dtype</th>\n",
              "      <th>nulls</th>\n",
              "      <th>uniques</th>\n",
              "      <th>num_uniques</th>\n",
              "      <th>value_counts</th>\n",
              "    </tr>\n",
              "  </thead>\n",
              "  <tbody>\n",
              "    <tr>\n",
              "      <th>date</th>\n",
              "      <td>datetime64[ns]</td>\n",
              "      <td>0</td>\n",
              "      <td>[2020-01-08T00:00:00.000000000, 2020-02-08T00:00:00.000000000, 2020-03-08T00:00:00.000000000, 2020-04-08T00:00:00.000000000, 2020-05-08T00:00:00.000000000, 2020-06-08T00:00:00.000000000, 2020-07-08T00:00:00.000000000, 2020-08-08T00:00:00.000000000, 2020-09-08T00:00:00.000000000, 2020-10-08T00:00:00.000000000, 2020-11-08T00:00:00.000000000, 2020-12-08T00:00:00.000000000, 2020-08-13T00:00:00.000000000, 2020-08-14T00:00:00.000000000, 2020-08-15T00:00:00.000000000, 2020-08-16T00:00:00.000000000, 2020-08-17T00:00:00.000000000, 2020-08-18T00:00:00.000000000, 2020-08-19T00:00:00.000000000, 2020-08-20T00:00:00.000000000, 2020-08-21T00:00:00.000000000, 2020-08-22T00:00:00.000000000, 2020-08-23T00:00:00.000000000, 2020-08-24T00:00:00.000000000, 2020-08-25T00:00:00.000000000, 2020-08-26T00:00:00.000000000, 2020-08-27T00:00:00.000000000, 2020-08-28T00:00:00.000000000, 2020-08-29T00:00:00.000000000, 2020-08-30T00:00:00.000000000, 2020-08-31T00:00:00.000000000, 2020-01-09T00:00:00.000000000, 2020-02-09T00:00:00.000000000, 2020-03-09T00:00:00.000000000, 2020-04-09T00:00:00.000000000, 2020-05-09T00:00:00.000000000, 2020-06-09T00:00:00.000000000, 2020-07-09T00:00:00.000000000, 2020-08-09T00:00:00.000000000, 2020-09-09T00:00:00.000000000, 2020-10-09T00:00:00.000000000, 2020-11-09T00:00:00.000000000, 2020-12-09T00:00:00.000000000, 2020-09-13T00:00:00.000000000, 2020-09-14T00:00:00.000000000, 2020-09-15T00:00:00.000000000, 2020-09-16T00:00:00.000000000, 2020-09-17T00:00:00.000000000, 2020-09-18T00:00:00.000000000, 2020-09-19T00:00:00.000000000, 2020-09-20T00:00:00.000000000, 2020-09-21T00:00:00.000000000, 2020-09-22T00:00:00.000000000, 2020-09-23T00:00:00.000000000, 2020-09-24T00:00:00.000000000, 2020-09-25T00:00:00.000000000, 2020-09-26T00:00:00.000000000, 2020-09-27T00:00:00.000000000, 2020-09-28T00:00:00.000000000, 2020-09-29T00:00:00.000000000, 2020-09-30T00:00:00.000000000, 2020-01-10T00:00:00.000000000, 2020-02-10T00:00:00.000000000, 2020-03-10T00:00:00.000000000, 2020-04-10T00:00:00.000000000, 2020-05-10T00:00:00.000000000, 2020-06-10T00:00:00.000000000, 2020-07-10T00:00:00.000000000, 2020-08-10T00:00:00.000000000, 2020-09-10T00:00:00.000000000, 2020-10-10T00:00:00.000000000, 2020-11-10T00:00:00.000000000, 2020-12-10T00:00:00.000000000, 2020-10-13T00:00:00.000000000, 2020-10-14T00:00:00.000000000, 2020-10-15T00:00:00.000000000, 2020-10-16T00:00:00.000000000, 2020-10-17T00:00:00.000000000, 2020-10-18T00:00:00.000000000, 2020-10-19T00:00:00.000000000, 2020-10-20T00:00:00.000000000, 2020-10-21T00:00:00.000000000, 2020-10-22T00:00:00.000000000, 2020-10-23T00:00:00.000000000, 2020-10-24T00:00:00.000000000, 2020-10-25T00:00:00.000000000, 2020-10-26T00:00:00.000000000, 2020-10-27T00:00:00.000000000, 2020-10-28T00:00:00.000000000, 2020-10-29T00:00:00.000000000, 2020-10-30T00:00:00.000000000, 2020-10-31T00:00:00.000000000, 2020-01-11T00:00:00.000000000, 2020-02-11T00:00:00.000000000, 2020-03-11T00:00:00.000000000, 2020-04-11T00:00:00.000000000, 2020-05-11T00:00:00.000000000, 2020-06-11T00:00:00.000000000, 2020-07-11T00:00:00.000000000, 2020-08-11T00:00:00.000000000, ...]</td>\n",
              "      <td>212</td>\n",
              "      <td>NA</td>\n",
              "    </tr>\n",
              "    <tr>\n",
              "      <th>adgroup</th>\n",
              "      <td>object</td>\n",
              "      <td>0</td>\n",
              "      <td>[adgroup 1, adgroup 2, adgroup 3, adgroup 4]</td>\n",
              "      <td>4</td>\n",
              "      <td>adgroup 3:1672<br>adgroup 1:1314<br>adgroup 4:858<br>adgroup 2:727</td>\n",
              "    </tr>\n",
              "    <tr>\n",
              "      <th>ad</th>\n",
              "      <td>object</td>\n",
              "      <td>0</td>\n",
              "      <td>[ad 1, ad 2, ad 3, ad 4, ad 5, ad 6, ad 7, ad 8, ad 9, ad 10, ad 11, ad 12, ad 13, ad 14, ad 15, ad 16, ad 17, ad 18, ad 19, ad 20, ad 21, ad 22, ad 23, ad 24, ad 25, ad 26, ad 27, ad 28, ad 29, ad 30, ad 31, ad 32, ad 33, ad 34, ad 35, ad 36, ad 37, ad 38, ad 39, ad 40, ad 41, ad 42, ad 43, ad 44, ad 45, ad 46, ad 47, ad 48, ad 49, ad 50, ad 51, ad 52, ad 53, ad 54, ad 55, ad 56, ad 57, ad 58, ad 59, ad 60, ad 61, ad 62, ad 63, ad 64, ad 65, ad 66, ad 67, ad 68, ad 69, ad 70]</td>\n",
              "      <td>70</td>\n",
              "      <td>NA</td>\n",
              "    </tr>\n",
              "    <tr>\n",
              "      <th>impressions</th>\n",
              "      <td>int64</td>\n",
              "      <td>0</td>\n",
              "      <td>[24, 1, 13, 5, 247, 7, 6, 129, 104, 4, 39, 17, 253, 16, 26, 250, 261, 329, 2, 21, 197, 11, 105, 62, 10, 258, 31, 243, 212, 3, 245, 12, 49, 304, 9, 140, 116, 68, 22, 218, 138, 15, 19, 40, 272, 131, 128, 54, 297, 25, 216, 173, 144, 8, 309, 163, 142, 55, 20, 278, 34, 18, 256, 44, 443, 148, 201, 52, 14, 282, 60, 489, 158, 190, 48, 291, 524, 206, 66, 348, 45, 440, 169, 241, 71, 311, 23, 496, 89, 70, 280, 75, 324, 81, 442, 117, 152, 61, 289, 47, ...]</td>\n",
              "      <td>571</td>\n",
              "      <td>NA</td>\n",
              "    </tr>\n",
              "    <tr>\n",
              "      <th>clicks</th>\n",
              "      <td>int64</td>\n",
              "      <td>0</td>\n",
              "      <td>[6, 0, 4, 126, 2, 3, 52, 56, 5, 16, 128, 10, 114, 123, 130, 8, 112, 1, 68, 40, 139, 9, 14, 117, 79, 140, 13, 7, 156, 60, 46, 39, 129, 95, 73, 78, 18, 37, 54, 21, 161, 11, 122, 64, 67, 155, 84, 28, 150, 15, 138, 211, 71, 27, 154, 250, 76, 59, 30, 179, 23, 136, 237, 96, 31, 119, 12, 203, 75, 33, 148, 35, 146, 36, 229, 92, 132, 34, 149, 210, 38, 85, 32, 135, 22, 165, 61, 118, 218, 53, 17, 125, 24, 191, 86, 29, 47, 93, 109, 142, ...]</td>\n",
              "      <td>355</td>\n",
              "      <td>NA</td>\n",
              "    </tr>\n",
              "    <tr>\n",
              "      <th>cost</th>\n",
              "      <td>float64</td>\n",
              "      <td>0</td>\n",
              "      <td>[0.08, 0.0, 0.04, 1.29, 0.05, 0.58, 0.56, 0.22, 0.06, 1.32, 0.07, 0.1, 1.17, 1.27, 1.4, 0.02, 0.09, 0.18, 1.18, 0.01, 0.69, 0.46, 0.44, 1.43, 0.15, 1.21, 0.86, 1.44, 0.13, 1.75, 0.64, 0.03, 0.41, 1.38, 1.04, 0.78, 0.88, 0.21, 1.54, 0.62, 0.23, 1.72, 0.12, 1.33, 0.75, 0.85, 1.73, 0.9, 0.42, 0.35, 1.61, 0.11, 0.16, 1.52, 0.28, 2.48, 0.74, 0.34, 1.7, 0.32, 1.42, 2.69, 0.66, 0.33, 1.9, 0.26, 0.14, 1.46, 2.81, 1.09, 1.28, 1.58, 2.36, 0.82, 0.36, 1.53, 0.37, 0.4, 0.98, 0.3, 1.41, 1.59, 0.29, 2.29, 0.43, 1.0, 0.27, 1.87, 0.71, 1.3, 0.38, 2.41, 0.59, 0.2, 2.12, 0.97, 0.77, 0.52, 1.05, 1.5, ...]</td>\n",
              "      <td>810</td>\n",
              "      <td>NA</td>\n",
              "    </tr>\n",
              "    <tr>\n",
              "      <th>conversions</th>\n",
              "      <td>int64</td>\n",
              "      <td>0</td>\n",
              "      <td>[0, 4, 2, 3, 9, 1, 5, 6, 7, 8, 10, 19, 12, 16, 23, 22, 15, 14, 24, 36, 18, 40, 61, 47, 82, 91, 11, 17, 44, 27, 28, 74, 71, 63, 42, 37, 85, 13, 39, 48, 56, 68, 94, 43, 79, 59, 34, 26, 52]</td>\n",
              "      <td>49</td>\n",
              "      <td>0:3213<br>1:542<br>2:234<br>3:117<br>4:105<br>6:79<br>5:76<br>7:48<br>9:35<br>8:28<br>10:11<br>12:7<br>11:7<br>14:7<br>23:6<br>19:5<br>13:4<br>15:3<br>22:3<br>27:3<br>18:3<br>17:3<br>16:2<br>36:2<br>82:2<br>40:2<br>47:2<br>26:1<br>52:1<br>71:1<br>63:1<br>94:1<br>24:1<br>28:1<br>44:1<br>48:1<br>68:1<br>56:1<br>34:1<br>59:1<br>43:1<br>74:1<br>37:1<br>61:1<br>85:1<br>39:1<br>42:1<br>79:1<br>91:1</td>\n",
              "    </tr>\n",
              "    <tr>\n",
              "      <th>revenue</th>\n",
              "      <td>float64</td>\n",
              "      <td>0</td>\n",
              "      <td>[0.0, 925.71, 339.83, 384.22, 337.57, 397.59, 1476.67, 188.83, 212.86, 702.16, 76.22, 219.73, 1028.32, 370.46, 1033.52, 126.85, 227.77, 958.48, 350.19, 704.04, 40.17, 76.13, 830.9, 30.01, 189.26, 39.72, 2050.19, 927.97, 154.91, 79.84, 380.74, 784.97, 462.32, 157.64, 550.46, 298.66, 687.76, 228.64, 165.67, 114.85, 172.52, 211.08, 596.03, 68.48, 719.2, 748.23, 488.97, 700.43, 292.1, 201.98, 1165.75, 709.44, 831.74, 1160.24, 139.97, 633.42, 168.1, 488.53, 585.86, 190.15, 713.73, 107.05, 529.94, 72.73, 114.0, 89.28, 1353.74, 10.92, 131.08, 332.08, 200.53, 941.3, 203.08, 181.3, 481.88, 351.81, 50.51, 797.4, 550.08, 173.59, 82.35, 310.36, 896.96, 1391.47, 79.88, 98.81, 668.21, 452.08, 197.59, 902.99, 306.03, 237.96, 96.05, 1792.62, 203.78, 296.35, 387.9, 218.8, 714.99, 675.64, ...]</td>\n",
              "      <td>1223</td>\n",
              "      <td>NA</td>\n",
              "    </tr>\n",
              "    <tr>\n",
              "      <th>weekday</th>\n",
              "      <td>int64</td>\n",
              "      <td>0</td>\n",
              "      <td>[2, 5, 6, 4, 0, 1, 3]</td>\n",
              "      <td>7</td>\n",
              "      <td>5:688<br>3:671<br>6:671<br>2:657<br>4:652<br>0:630<br>1:602</td>\n",
              "    </tr>\n",
              "    <tr>\n",
              "      <th>day</th>\n",
              "      <td>int64</td>\n",
              "      <td>0</td>\n",
              "      <td>[8, 13, 14, 15, 16, 17, 18, 19, 20, 21, 22, 23, 24, 25, 26, 27, 28, 29, 30, 31, 9, 10, 11, 12, 1, 2]</td>\n",
              "      <td>26</td>\n",
              "      <td>11:329<br>12:323<br>1:286<br>2:278<br>8:233<br>10:200<br>9:194<br>23:168<br>22:156<br>18:156<br>19:156<br>17:156<br>25:155<br>21:154<br>20:151<br>24:151<br>14:150<br>16:146<br>15:142<br>27:138<br>28:136<br>26:133<br>29:132<br>13:132<br>30:128<br>31:88</td>\n",
              "    </tr>\n",
              "    <tr>\n",
              "      <th>month</th>\n",
              "      <td>int64</td>\n",
              "      <td>0</td>\n",
              "      <td>[1, 2, 3, 4, 5, 6, 7, 8, 9, 10, 11, 12]</td>\n",
              "      <td>12</td>\n",
              "      <td>12:653<br>1:632<br>10:561<br>11:519<br>2:514<br>9:462<br>8:458<br>4:167<br>3:154<br>6:152<br>5:151<br>7:148</td>\n",
              "    </tr>\n",
              "    <tr>\n",
              "      <th>year</th>\n",
              "      <td>int64</td>\n",
              "      <td>0</td>\n",
              "      <td>[2020, 2021]</td>\n",
              "      <td>2</td>\n",
              "      <td>2020:3175<br>2021:1396</td>\n",
              "    </tr>\n",
              "  </tbody>\n",
              "</table>"
            ],
            "text/plain": [
              "<IPython.core.display.HTML object>"
            ]
          },
          "metadata": {
            "tags": []
          }
        }
      ]
    },
    {
      "cell_type": "code",
      "metadata": {
        "id": "jD_dnyxS5qq8"
      },
      "source": [
        "train['adgroup']=[int(y.split(\" \")[-1]) for y in train['adgroup']]\n",
        "train['ad']=[int(y.split(\" \")[-1]) for y in train['ad']]\n"
      ],
      "execution_count": 20,
      "outputs": []
    },
    {
      "cell_type": "code",
      "metadata": {
        "id": "C5VUumynS5nS",
        "colab": {
          "base_uri": "https://localhost:8080/",
          "height": 1000
        },
        "outputId": "f9df735d-586f-46d9-e629-1255166dc035"
      },
      "source": [
        "tbl_report(test)"
      ],
      "execution_count": null,
      "outputs": [
        {
          "output_type": "stream",
          "text": [
            "Table Shape (318, 11)\n"
          ],
          "name": "stdout"
        },
        {
          "output_type": "display_data",
          "data": {
            "text/html": [
              "<table border=\"1\" class=\"dataframe\">\n",
              "  <thead>\n",
              "    <tr style=\"text-align: right;\">\n",
              "      <th></th>\n",
              "      <th>dtype</th>\n",
              "      <th>nulls</th>\n",
              "      <th>uniques</th>\n",
              "      <th>num_uniques</th>\n",
              "      <th>value_counts</th>\n",
              "    </tr>\n",
              "  </thead>\n",
              "  <tbody>\n",
              "    <tr>\n",
              "      <th>date</th>\n",
              "      <td>datetime64[ns]</td>\n",
              "      <td>0</td>\n",
              "      <td>[2021-01-03T00:00:00.000000000, 2021-02-03T00:00:00.000000000, 2021-03-03T00:00:00.000000000, 2021-04-03T00:00:00.000000000, 2021-05-03T00:00:00.000000000, 2021-06-03T00:00:00.000000000, 2021-07-03T00:00:00.000000000, 2021-08-03T00:00:00.000000000, 2021-09-03T00:00:00.000000000, 2021-10-03T00:00:00.000000000, 2021-11-03T00:00:00.000000000, 2021-12-03T00:00:00.000000000, 2021-03-13T00:00:00.000000000, 2021-03-14T00:00:00.000000000, 2021-03-15T00:00:00.000000000]</td>\n",
              "      <td>15</td>\n",
              "      <td>2021-03-03 00:00:00:28<br>2021-08-03 00:00:00:26<br>2021-03-15 00:00:00:25<br>2021-09-03 00:00:00:25<br>2021-03-13 00:00:00:25<br>2021-12-03 00:00:00:24<br>2021-03-14 00:00:00:24<br>2021-11-03 00:00:00:24<br>2021-10-03 00:00:00:23<br>2021-05-03 00:00:00:21<br>2021-01-03 00:00:00:19<br>2021-02-03 00:00:00:19<br>2021-07-03 00:00:00:12<br>2021-06-03 00:00:00:12<br>2021-04-03 00:00:00:11</td>\n",
              "    </tr>\n",
              "    <tr>\n",
              "      <th>adgroup</th>\n",
              "      <td>object</td>\n",
              "      <td>0</td>\n",
              "      <td>[adgroup 1, adgroup 3, adgroup 4, adgroup 2]</td>\n",
              "      <td>4</td>\n",
              "      <td>adgroup 3:111<br>adgroup 1:90<br>adgroup 2:63<br>adgroup 4:54</td>\n",
              "    </tr>\n",
              "    <tr>\n",
              "      <th>ad</th>\n",
              "      <td>object</td>\n",
              "      <td>0</td>\n",
              "      <td>[ad 1, ad 2, ad 3, ad 4, ad 5, ad 6, ad 7, ad 8, ad 10, ad 71, ad 72, ad 73, ad 74, ad 75, ad 56, ad 55]</td>\n",
              "      <td>16</td>\n",
              "      <td>ad 3:44<br>ad 1:42<br>ad 7:33<br>ad 2:30<br>ad 56:24<br>ad 72:22<br>ad 55:19<br>ad 10:13<br>ad 73:13<br>ad 74:12<br>ad 5:11<br>ad 71:11<br>ad 75:11<br>ad 8:11<br>ad 4:11<br>ad 6:11</td>\n",
              "    </tr>\n",
              "    <tr>\n",
              "      <th>cost</th>\n",
              "      <td>float64</td>\n",
              "      <td>0</td>\n",
              "      <td>[0.58, 0.17, 0.05, 0.01, 0.03, 1.67, 0.0, 1.06, 0.08, 1.64, 0.1, 0.88, 0.02, 0.3, 0.16, 0.98, 0.22, 0.24, 0.65, 1.57, 1.65, 1.36, 0.07, 0.99, 0.46, 0.13, 0.04, 0.94, 0.12, 0.09, 0.18, 0.34, 0.4, 0.14, 0.25, 0.87, 0.81, 0.06, 2.05, 0.67, 1.69, 0.56, 1.59, 1.66, 1.54, 0.91, 1.4, 0.7, 1.07, 0.2, 0.49, 1.94, 2.9, 0.72, 0.32, 0.31, 0.27, 0.55, 0.66, 0.61, 3.36, 2.67, 0.45, 0.78, 0.63, 3.53, 3.47, 0.77, 0.47, 0.62, 1.49, 1.62, 1.21, 1.03, 0.15, 0.44, 0.9, 1.29, 1.15, 0.21, 0.93, 0.29, 0.37, 0.85, 1.16, 1.0, 0.43, 1.17, 1.27, 1.41, 0.97, 0.19, 1.08, 1.39, 0.26, 0.28, 0.11, 0.73, 1.58, 0.41, ...]</td>\n",
              "      <td>109</td>\n",
              "      <td>NA</td>\n",
              "    </tr>\n",
              "    <tr>\n",
              "      <th>impressions</th>\n",
              "      <td>int64</td>\n",
              "      <td>0</td>\n",
              "      <td>[121, 22, 5, 2, 3, 4, 276, 6, 162, 294, 15, 152, 94, 25, 191, 24, 27, 112, 281, 1, 298, 196, 7, 31, 12, 151, 103, 23, 178, 29, 13, 42, 45, 68, 20, 9, 127, 192, 316, 134, 306, 91, 258, 347, 269, 173, 67, 263, 123, 14, 238, 40, 62, 10, 362, 418, 137, 66, 54, 48, 75, 106, 116, 502, 558, 77, 131, 125, 111, 560, 589, 153, 161, 8, 260, 308, 167, 35, 207, 16, 108, 201, 210, 228, 18, 139, 30, 26, 174, 78, 169, 166, 248, 113, 37, 165, 32, 60, 28, 85, ...]</td>\n",
              "      <td>128</td>\n",
              "      <td>NA</td>\n",
              "    </tr>\n",
              "    <tr>\n",
              "      <th>clicks</th>\n",
              "      <td>int64</td>\n",
              "      <td>0</td>\n",
              "      <td>[49, 12, 3, 1, 2, 123, 0, 74, 5, 110, 14, 7, 82, 30, 79, 18, 48, 126, 122, 97, 4, 88, 39, 11, 75, 10, 8, 21, 27, 13, 6, 22, 69, 64, 145, 55, 125, 40, 121, 137, 119, 77, 31, 115, 54, 16, 38, 155, 215, 61, 28, 24, 51, 236, 232, 32, 45, 63, 52, 261, 276, 34, 59, 135, 136, 95, 93, 15, 89, 44, 84, 94, 96, 76, 9, 41, 90, 62, 86, 102, 85, 103, 17, 83, 81, 91, 57, 68, 26, 92, 114, 19, 37, 67, 116, 134, 73, 80]</td>\n",
              "      <td>98</td>\n",
              "      <td>NA</td>\n",
              "    </tr>\n",
              "    <tr>\n",
              "      <th>conversions</th>\n",
              "      <td>int64</td>\n",
              "      <td>0</td>\n",
              "      <td>[1, 0, 3, 2, 4, 6, 8, 14, 13, 15, 5]</td>\n",
              "      <td>11</td>\n",
              "      <td>0:211<br>1:50<br>2:26<br>3:13<br>4:8<br>6:3<br>5:3<br>15:1<br>14:1<br>13:1<br>8:1</td>\n",
              "    </tr>\n",
              "    <tr>\n",
              "      <th>weekday</th>\n",
              "      <td>int64</td>\n",
              "      <td>0</td>\n",
              "      <td>[6, 2, 5, 0, 3, 1, 4]</td>\n",
              "      <td>7</td>\n",
              "      <td>2:71<br>6:66<br>4:49<br>5:48<br>0:46<br>1:26<br>3:12</td>\n",
              "    </tr>\n",
              "    <tr>\n",
              "      <th>day</th>\n",
              "      <td>int64</td>\n",
              "      <td>0</td>\n",
              "      <td>[3, 13, 14, 15]</td>\n",
              "      <td>4</td>\n",
              "      <td>3:244<br>15:25<br>13:25<br>14:24</td>\n",
              "    </tr>\n",
              "    <tr>\n",
              "      <th>month</th>\n",
              "      <td>int64</td>\n",
              "      <td>0</td>\n",
              "      <td>[1, 2, 3, 4, 5, 6, 7, 8, 9, 10, 11, 12]</td>\n",
              "      <td>12</td>\n",
              "      <td>3:102<br>8:26<br>9:25<br>12:24<br>11:24<br>10:23<br>5:21<br>2:19<br>1:19<br>7:12<br>6:12<br>4:11</td>\n",
              "    </tr>\n",
              "    <tr>\n",
              "      <th>year</th>\n",
              "      <td>int64</td>\n",
              "      <td>0</td>\n",
              "      <td>[2021]</td>\n",
              "      <td>1</td>\n",
              "      <td>2021:318</td>\n",
              "    </tr>\n",
              "  </tbody>\n",
              "</table>"
            ],
            "text/plain": [
              "<IPython.core.display.HTML object>"
            ]
          },
          "metadata": {
            "tags": []
          }
        }
      ]
    },
    {
      "cell_type": "code",
      "metadata": {
        "id": "DtoyPkLN4db4"
      },
      "source": [
        "test['adgroup']=[int(y.split(\" \")[-1]) for y in test['adgroup']]"
      ],
      "execution_count": 21,
      "outputs": []
    },
    {
      "cell_type": "code",
      "metadata": {
        "id": "6KyCRBk95Dhv"
      },
      "source": [
        "test['ad']=[int(y.split(\" \")[-1]) for y in test['ad']]"
      ],
      "execution_count": 22,
      "outputs": []
    },
    {
      "cell_type": "code",
      "metadata": {
        "id": "GllW9yBZPlaU"
      },
      "source": [
        "\n",
        "num_columns= [c for c, dtype in zip(train.columns, train.dtypes)\n",
        "                 if dtype.kind in ['i','f'] and c!='revenue']\n"
      ],
      "execution_count": 23,
      "outputs": []
    },
    {
      "cell_type": "code",
      "metadata": {
        "colab": {
          "base_uri": "https://localhost:8080/",
          "height": 203
        },
        "id": "5qy6Bnr-LF6E",
        "outputId": "32b0a394-cd2e-43b6-eb5b-b92d8e8255fc"
      },
      "source": [
        "#making the training and the testing datasets based on the given values\n",
        "df=train.drop(\"revenue\",axis=1)\n",
        "df.head()"
      ],
      "execution_count": 24,
      "outputs": [
        {
          "output_type": "execute_result",
          "data": {
            "text/html": [
              "<div>\n",
              "<style scoped>\n",
              "    .dataframe tbody tr th:only-of-type {\n",
              "        vertical-align: middle;\n",
              "    }\n",
              "\n",
              "    .dataframe tbody tr th {\n",
              "        vertical-align: top;\n",
              "    }\n",
              "\n",
              "    .dataframe thead th {\n",
              "        text-align: right;\n",
              "    }\n",
              "</style>\n",
              "<table border=\"1\" class=\"dataframe\">\n",
              "  <thead>\n",
              "    <tr style=\"text-align: right;\">\n",
              "      <th></th>\n",
              "      <th>date</th>\n",
              "      <th>adgroup</th>\n",
              "      <th>ad</th>\n",
              "      <th>impressions</th>\n",
              "      <th>clicks</th>\n",
              "      <th>cost</th>\n",
              "      <th>conversions</th>\n",
              "      <th>weekday</th>\n",
              "      <th>day</th>\n",
              "      <th>month</th>\n",
              "      <th>year</th>\n",
              "    </tr>\n",
              "  </thead>\n",
              "  <tbody>\n",
              "    <tr>\n",
              "      <th>0</th>\n",
              "      <td>2020-01-08</td>\n",
              "      <td>1</td>\n",
              "      <td>1</td>\n",
              "      <td>24</td>\n",
              "      <td>6</td>\n",
              "      <td>0.08</td>\n",
              "      <td>0</td>\n",
              "      <td>2</td>\n",
              "      <td>8</td>\n",
              "      <td>1</td>\n",
              "      <td>2020</td>\n",
              "    </tr>\n",
              "    <tr>\n",
              "      <th>1</th>\n",
              "      <td>2020-01-08</td>\n",
              "      <td>2</td>\n",
              "      <td>1</td>\n",
              "      <td>1</td>\n",
              "      <td>0</td>\n",
              "      <td>0.00</td>\n",
              "      <td>0</td>\n",
              "      <td>2</td>\n",
              "      <td>8</td>\n",
              "      <td>1</td>\n",
              "      <td>2020</td>\n",
              "    </tr>\n",
              "    <tr>\n",
              "      <th>2</th>\n",
              "      <td>2020-01-08</td>\n",
              "      <td>3</td>\n",
              "      <td>1</td>\n",
              "      <td>13</td>\n",
              "      <td>4</td>\n",
              "      <td>0.04</td>\n",
              "      <td>0</td>\n",
              "      <td>2</td>\n",
              "      <td>8</td>\n",
              "      <td>1</td>\n",
              "      <td>2020</td>\n",
              "    </tr>\n",
              "    <tr>\n",
              "      <th>3</th>\n",
              "      <td>2020-01-08</td>\n",
              "      <td>4</td>\n",
              "      <td>1</td>\n",
              "      <td>5</td>\n",
              "      <td>4</td>\n",
              "      <td>0.08</td>\n",
              "      <td>0</td>\n",
              "      <td>2</td>\n",
              "      <td>8</td>\n",
              "      <td>1</td>\n",
              "      <td>2020</td>\n",
              "    </tr>\n",
              "    <tr>\n",
              "      <th>4</th>\n",
              "      <td>2020-01-08</td>\n",
              "      <td>1</td>\n",
              "      <td>2</td>\n",
              "      <td>247</td>\n",
              "      <td>126</td>\n",
              "      <td>1.29</td>\n",
              "      <td>4</td>\n",
              "      <td>2</td>\n",
              "      <td>8</td>\n",
              "      <td>1</td>\n",
              "      <td>2020</td>\n",
              "    </tr>\n",
              "  </tbody>\n",
              "</table>\n",
              "</div>"
            ],
            "text/plain": [
              "        date  adgroup  ad  impressions  ...  weekday  day  month  year\n",
              "0 2020-01-08        1   1           24  ...        2    8      1  2020\n",
              "1 2020-01-08        2   1            1  ...        2    8      1  2020\n",
              "2 2020-01-08        3   1           13  ...        2    8      1  2020\n",
              "3 2020-01-08        4   1            5  ...        2    8      1  2020\n",
              "4 2020-01-08        1   2          247  ...        2    8      1  2020\n",
              "\n",
              "[5 rows x 11 columns]"
            ]
          },
          "metadata": {
            "tags": []
          },
          "execution_count": 24
        }
      ]
    },
    {
      "cell_type": "code",
      "metadata": {
        "colab": {
          "base_uri": "https://localhost:8080/",
          "height": 203
        },
        "id": "X7x6ZY38M724",
        "outputId": "c4be2dd8-6da0-48c4-c8cb-6fe6f72f5a33"
      },
      "source": [
        "dftest=test[df.columns]\n",
        "dftest.head()"
      ],
      "execution_count": 25,
      "outputs": [
        {
          "output_type": "execute_result",
          "data": {
            "text/html": [
              "<div>\n",
              "<style scoped>\n",
              "    .dataframe tbody tr th:only-of-type {\n",
              "        vertical-align: middle;\n",
              "    }\n",
              "\n",
              "    .dataframe tbody tr th {\n",
              "        vertical-align: top;\n",
              "    }\n",
              "\n",
              "    .dataframe thead th {\n",
              "        text-align: right;\n",
              "    }\n",
              "</style>\n",
              "<table border=\"1\" class=\"dataframe\">\n",
              "  <thead>\n",
              "    <tr style=\"text-align: right;\">\n",
              "      <th></th>\n",
              "      <th>date</th>\n",
              "      <th>adgroup</th>\n",
              "      <th>ad</th>\n",
              "      <th>impressions</th>\n",
              "      <th>clicks</th>\n",
              "      <th>cost</th>\n",
              "      <th>conversions</th>\n",
              "      <th>weekday</th>\n",
              "      <th>day</th>\n",
              "      <th>month</th>\n",
              "      <th>year</th>\n",
              "    </tr>\n",
              "  </thead>\n",
              "  <tbody>\n",
              "    <tr>\n",
              "      <th>0</th>\n",
              "      <td>2021-01-03</td>\n",
              "      <td>1</td>\n",
              "      <td>1</td>\n",
              "      <td>121</td>\n",
              "      <td>49</td>\n",
              "      <td>0.58</td>\n",
              "      <td>1</td>\n",
              "      <td>6</td>\n",
              "      <td>3</td>\n",
              "      <td>1</td>\n",
              "      <td>2021</td>\n",
              "    </tr>\n",
              "    <tr>\n",
              "      <th>1</th>\n",
              "      <td>2021-01-03</td>\n",
              "      <td>3</td>\n",
              "      <td>1</td>\n",
              "      <td>22</td>\n",
              "      <td>12</td>\n",
              "      <td>0.17</td>\n",
              "      <td>0</td>\n",
              "      <td>6</td>\n",
              "      <td>3</td>\n",
              "      <td>1</td>\n",
              "      <td>2021</td>\n",
              "    </tr>\n",
              "    <tr>\n",
              "      <th>2</th>\n",
              "      <td>2021-01-03</td>\n",
              "      <td>4</td>\n",
              "      <td>1</td>\n",
              "      <td>5</td>\n",
              "      <td>3</td>\n",
              "      <td>0.05</td>\n",
              "      <td>0</td>\n",
              "      <td>6</td>\n",
              "      <td>3</td>\n",
              "      <td>1</td>\n",
              "      <td>2021</td>\n",
              "    </tr>\n",
              "    <tr>\n",
              "      <th>3</th>\n",
              "      <td>2021-01-03</td>\n",
              "      <td>2</td>\n",
              "      <td>1</td>\n",
              "      <td>2</td>\n",
              "      <td>1</td>\n",
              "      <td>0.01</td>\n",
              "      <td>0</td>\n",
              "      <td>6</td>\n",
              "      <td>3</td>\n",
              "      <td>1</td>\n",
              "      <td>2021</td>\n",
              "    </tr>\n",
              "    <tr>\n",
              "      <th>4</th>\n",
              "      <td>2021-01-03</td>\n",
              "      <td>2</td>\n",
              "      <td>2</td>\n",
              "      <td>3</td>\n",
              "      <td>1</td>\n",
              "      <td>0.01</td>\n",
              "      <td>0</td>\n",
              "      <td>6</td>\n",
              "      <td>3</td>\n",
              "      <td>1</td>\n",
              "      <td>2021</td>\n",
              "    </tr>\n",
              "  </tbody>\n",
              "</table>\n",
              "</div>"
            ],
            "text/plain": [
              "        date  adgroup  ad  impressions  ...  weekday  day  month  year\n",
              "0 2021-01-03        1   1          121  ...        6    3      1  2021\n",
              "1 2021-01-03        3   1           22  ...        6    3      1  2021\n",
              "2 2021-01-03        4   1            5  ...        6    3      1  2021\n",
              "3 2021-01-03        2   1            2  ...        6    3      1  2021\n",
              "4 2021-01-03        2   2            3  ...        6    3      1  2021\n",
              "\n",
              "[5 rows x 11 columns]"
            ]
          },
          "metadata": {
            "tags": []
          },
          "execution_count": 25
        }
      ]
    },
    {
      "cell_type": "markdown",
      "metadata": {
        "id": "yYOVY7n8RWeP"
      },
      "source": [
        "Efficiency metrics (optional - can be used for creating new features/feature engineering): \n",
        "\n",
        "The below features can be newly created/calculated and used while building the models. These are based on raw metrics. \n",
        "\n",
        "CTR - Clicks / Impression (higher the better - used to evaluate if the users find the ad relevant)\n",
        "\n",
        "CPC - Cost / Click (lower the better - used to evaluate if the cost for getting a click)\n",
        "\n",
        "CPA - Cost / Conversion (lower the better - used to evaluate if the cost for getting a conversion)\n",
        "\n",
        "ROI - Revenue/Cost (higher the better - used to evaluate the effectiveness of the advertising budget spent"
      ]
    },
    {
      "cell_type": "code",
      "metadata": {
        "colab": {
          "base_uri": "https://localhost:8080/"
        },
        "id": "daT-PsNm-edT",
        "outputId": "2ede8539-5e61-4e0d-b9d6-187fb7d382ba"
      },
      "source": [
        "np.max(df.cost)"
      ],
      "execution_count": null,
      "outputs": [
        {
          "output_type": "execute_result",
          "data": {
            "text/plain": [
              "531.25"
            ]
          },
          "metadata": {
            "tags": []
          },
          "execution_count": 110
        }
      ]
    },
    {
      "cell_type": "code",
      "metadata": {
        "colab": {
          "base_uri": "https://localhost:8080/"
        },
        "id": "5VnZMKFLN9IF",
        "outputId": "677845c6-3573-4121-c64b-371d123c4a47"
      },
      "source": [
        "#feature engineering\n",
        "df['ctr']=df['clicks']/df['impressions']\n",
        "df['cpc']=df['cost']/df['clicks']\n",
        "df['cpa']=df['cost']/df['conversions']\n",
        "dftest['ctr']=dftest['clicks']/dftest['impressions']\n",
        "dftest['cpc']=dftest['cost']/dftest['clicks']\n",
        "dftest['cpa']=dftest['cost']/dftest['conversions']\n"
      ],
      "execution_count": 26,
      "outputs": [
        {
          "output_type": "stream",
          "text": [
            "/usr/local/lib/python3.7/dist-packages/ipykernel_launcher.py:5: SettingWithCopyWarning: \n",
            "A value is trying to be set on a copy of a slice from a DataFrame.\n",
            "Try using .loc[row_indexer,col_indexer] = value instead\n",
            "\n",
            "See the caveats in the documentation: https://pandas.pydata.org/pandas-docs/stable/user_guide/indexing.html#returning-a-view-versus-a-copy\n",
            "  \"\"\"\n",
            "/usr/local/lib/python3.7/dist-packages/ipykernel_launcher.py:6: SettingWithCopyWarning: \n",
            "A value is trying to be set on a copy of a slice from a DataFrame.\n",
            "Try using .loc[row_indexer,col_indexer] = value instead\n",
            "\n",
            "See the caveats in the documentation: https://pandas.pydata.org/pandas-docs/stable/user_guide/indexing.html#returning-a-view-versus-a-copy\n",
            "  \n",
            "/usr/local/lib/python3.7/dist-packages/ipykernel_launcher.py:7: SettingWithCopyWarning: \n",
            "A value is trying to be set on a copy of a slice from a DataFrame.\n",
            "Try using .loc[row_indexer,col_indexer] = value instead\n",
            "\n",
            "See the caveats in the documentation: https://pandas.pydata.org/pandas-docs/stable/user_guide/indexing.html#returning-a-view-versus-a-copy\n",
            "  import sys\n"
          ],
          "name": "stderr"
        }
      ]
    },
    {
      "cell_type": "code",
      "metadata": {
        "colab": {
          "base_uri": "https://localhost:8080/",
          "height": 203
        },
        "id": "fE9K19mXYBqc",
        "outputId": "be360a48-b2e8-4ce5-d40b-73c7868ec71f"
      },
      "source": [
        "df.head()"
      ],
      "execution_count": null,
      "outputs": [
        {
          "output_type": "execute_result",
          "data": {
            "text/html": [
              "<div>\n",
              "<style scoped>\n",
              "    .dataframe tbody tr th:only-of-type {\n",
              "        vertical-align: middle;\n",
              "    }\n",
              "\n",
              "    .dataframe tbody tr th {\n",
              "        vertical-align: top;\n",
              "    }\n",
              "\n",
              "    .dataframe thead th {\n",
              "        text-align: right;\n",
              "    }\n",
              "</style>\n",
              "<table border=\"1\" class=\"dataframe\">\n",
              "  <thead>\n",
              "    <tr style=\"text-align: right;\">\n",
              "      <th></th>\n",
              "      <th>date</th>\n",
              "      <th>adgroup</th>\n",
              "      <th>ad</th>\n",
              "      <th>impressions</th>\n",
              "      <th>clicks</th>\n",
              "      <th>cost</th>\n",
              "      <th>conversions</th>\n",
              "      <th>weekday</th>\n",
              "      <th>day</th>\n",
              "      <th>month</th>\n",
              "      <th>year</th>\n",
              "      <th>ctr</th>\n",
              "      <th>cpc</th>\n",
              "      <th>cpa</th>\n",
              "    </tr>\n",
              "  </thead>\n",
              "  <tbody>\n",
              "    <tr>\n",
              "      <th>0</th>\n",
              "      <td>2020-01-08</td>\n",
              "      <td>1</td>\n",
              "      <td>1</td>\n",
              "      <td>24</td>\n",
              "      <td>6</td>\n",
              "      <td>0.08</td>\n",
              "      <td>0</td>\n",
              "      <td>2</td>\n",
              "      <td>8</td>\n",
              "      <td>1</td>\n",
              "      <td>2020</td>\n",
              "      <td>0.250000</td>\n",
              "      <td>0.013333</td>\n",
              "      <td>inf</td>\n",
              "    </tr>\n",
              "    <tr>\n",
              "      <th>1</th>\n",
              "      <td>2020-01-08</td>\n",
              "      <td>2</td>\n",
              "      <td>1</td>\n",
              "      <td>1</td>\n",
              "      <td>0</td>\n",
              "      <td>0.00</td>\n",
              "      <td>0</td>\n",
              "      <td>2</td>\n",
              "      <td>8</td>\n",
              "      <td>1</td>\n",
              "      <td>2020</td>\n",
              "      <td>0.000000</td>\n",
              "      <td>NaN</td>\n",
              "      <td>NaN</td>\n",
              "    </tr>\n",
              "    <tr>\n",
              "      <th>2</th>\n",
              "      <td>2020-01-08</td>\n",
              "      <td>3</td>\n",
              "      <td>1</td>\n",
              "      <td>13</td>\n",
              "      <td>4</td>\n",
              "      <td>0.04</td>\n",
              "      <td>0</td>\n",
              "      <td>2</td>\n",
              "      <td>8</td>\n",
              "      <td>1</td>\n",
              "      <td>2020</td>\n",
              "      <td>0.307692</td>\n",
              "      <td>0.010000</td>\n",
              "      <td>inf</td>\n",
              "    </tr>\n",
              "    <tr>\n",
              "      <th>3</th>\n",
              "      <td>2020-01-08</td>\n",
              "      <td>4</td>\n",
              "      <td>1</td>\n",
              "      <td>5</td>\n",
              "      <td>4</td>\n",
              "      <td>0.08</td>\n",
              "      <td>0</td>\n",
              "      <td>2</td>\n",
              "      <td>8</td>\n",
              "      <td>1</td>\n",
              "      <td>2020</td>\n",
              "      <td>0.800000</td>\n",
              "      <td>0.020000</td>\n",
              "      <td>inf</td>\n",
              "    </tr>\n",
              "    <tr>\n",
              "      <th>4</th>\n",
              "      <td>2020-01-08</td>\n",
              "      <td>1</td>\n",
              "      <td>2</td>\n",
              "      <td>247</td>\n",
              "      <td>126</td>\n",
              "      <td>1.29</td>\n",
              "      <td>4</td>\n",
              "      <td>2</td>\n",
              "      <td>8</td>\n",
              "      <td>1</td>\n",
              "      <td>2020</td>\n",
              "      <td>0.510121</td>\n",
              "      <td>0.010238</td>\n",
              "      <td>0.3225</td>\n",
              "    </tr>\n",
              "  </tbody>\n",
              "</table>\n",
              "</div>"
            ],
            "text/plain": [
              "        date  adgroup  ad  impressions  ...  year       ctr       cpc     cpa\n",
              "0 2020-01-08        1   1           24  ...  2020  0.250000  0.013333     inf\n",
              "1 2020-01-08        2   1            1  ...  2020  0.000000       NaN     NaN\n",
              "2 2020-01-08        3   1           13  ...  2020  0.307692  0.010000     inf\n",
              "3 2020-01-08        4   1            5  ...  2020  0.800000  0.020000     inf\n",
              "4 2020-01-08        1   2          247  ...  2020  0.510121  0.010238  0.3225\n",
              "\n",
              "[5 rows x 14 columns]"
            ]
          },
          "metadata": {
            "tags": []
          },
          "execution_count": 112
        }
      ]
    },
    {
      "cell_type": "code",
      "metadata": {
        "colab": {
          "base_uri": "https://localhost:8080/",
          "height": 203
        },
        "id": "-UuG4OoAYETe",
        "outputId": "3dfb6f8a-821a-4a5a-8096-97d8411a41e5"
      },
      "source": [
        "dftest.head()"
      ],
      "execution_count": null,
      "outputs": [
        {
          "output_type": "execute_result",
          "data": {
            "text/html": [
              "<div>\n",
              "<style scoped>\n",
              "    .dataframe tbody tr th:only-of-type {\n",
              "        vertical-align: middle;\n",
              "    }\n",
              "\n",
              "    .dataframe tbody tr th {\n",
              "        vertical-align: top;\n",
              "    }\n",
              "\n",
              "    .dataframe thead th {\n",
              "        text-align: right;\n",
              "    }\n",
              "</style>\n",
              "<table border=\"1\" class=\"dataframe\">\n",
              "  <thead>\n",
              "    <tr style=\"text-align: right;\">\n",
              "      <th></th>\n",
              "      <th>date</th>\n",
              "      <th>adgroup</th>\n",
              "      <th>ad</th>\n",
              "      <th>impressions</th>\n",
              "      <th>clicks</th>\n",
              "      <th>cost</th>\n",
              "      <th>conversions</th>\n",
              "      <th>weekday</th>\n",
              "      <th>day</th>\n",
              "      <th>month</th>\n",
              "      <th>year</th>\n",
              "      <th>ctr</th>\n",
              "      <th>cpc</th>\n",
              "      <th>cpa</th>\n",
              "    </tr>\n",
              "  </thead>\n",
              "  <tbody>\n",
              "    <tr>\n",
              "      <th>0</th>\n",
              "      <td>2021-01-03</td>\n",
              "      <td>1</td>\n",
              "      <td>1</td>\n",
              "      <td>121</td>\n",
              "      <td>49</td>\n",
              "      <td>0.58</td>\n",
              "      <td>1</td>\n",
              "      <td>6</td>\n",
              "      <td>3</td>\n",
              "      <td>1</td>\n",
              "      <td>2021</td>\n",
              "      <td>0.404959</td>\n",
              "      <td>0.011837</td>\n",
              "      <td>0.58</td>\n",
              "    </tr>\n",
              "    <tr>\n",
              "      <th>1</th>\n",
              "      <td>2021-01-03</td>\n",
              "      <td>3</td>\n",
              "      <td>1</td>\n",
              "      <td>22</td>\n",
              "      <td>12</td>\n",
              "      <td>0.17</td>\n",
              "      <td>0</td>\n",
              "      <td>6</td>\n",
              "      <td>3</td>\n",
              "      <td>1</td>\n",
              "      <td>2021</td>\n",
              "      <td>0.545455</td>\n",
              "      <td>0.014167</td>\n",
              "      <td>inf</td>\n",
              "    </tr>\n",
              "    <tr>\n",
              "      <th>2</th>\n",
              "      <td>2021-01-03</td>\n",
              "      <td>4</td>\n",
              "      <td>1</td>\n",
              "      <td>5</td>\n",
              "      <td>3</td>\n",
              "      <td>0.05</td>\n",
              "      <td>0</td>\n",
              "      <td>6</td>\n",
              "      <td>3</td>\n",
              "      <td>1</td>\n",
              "      <td>2021</td>\n",
              "      <td>0.600000</td>\n",
              "      <td>0.016667</td>\n",
              "      <td>inf</td>\n",
              "    </tr>\n",
              "    <tr>\n",
              "      <th>3</th>\n",
              "      <td>2021-01-03</td>\n",
              "      <td>2</td>\n",
              "      <td>1</td>\n",
              "      <td>2</td>\n",
              "      <td>1</td>\n",
              "      <td>0.01</td>\n",
              "      <td>0</td>\n",
              "      <td>6</td>\n",
              "      <td>3</td>\n",
              "      <td>1</td>\n",
              "      <td>2021</td>\n",
              "      <td>0.500000</td>\n",
              "      <td>0.010000</td>\n",
              "      <td>inf</td>\n",
              "    </tr>\n",
              "    <tr>\n",
              "      <th>4</th>\n",
              "      <td>2021-01-03</td>\n",
              "      <td>2</td>\n",
              "      <td>2</td>\n",
              "      <td>3</td>\n",
              "      <td>1</td>\n",
              "      <td>0.01</td>\n",
              "      <td>0</td>\n",
              "      <td>6</td>\n",
              "      <td>3</td>\n",
              "      <td>1</td>\n",
              "      <td>2021</td>\n",
              "      <td>0.333333</td>\n",
              "      <td>0.010000</td>\n",
              "      <td>inf</td>\n",
              "    </tr>\n",
              "  </tbody>\n",
              "</table>\n",
              "</div>"
            ],
            "text/plain": [
              "        date  adgroup  ad  impressions  ...  year       ctr       cpc   cpa\n",
              "0 2021-01-03        1   1          121  ...  2021  0.404959  0.011837  0.58\n",
              "1 2021-01-03        3   1           22  ...  2021  0.545455  0.014167   inf\n",
              "2 2021-01-03        4   1            5  ...  2021  0.600000  0.016667   inf\n",
              "3 2021-01-03        2   1            2  ...  2021  0.500000  0.010000   inf\n",
              "4 2021-01-03        2   2            3  ...  2021  0.333333  0.010000   inf\n",
              "\n",
              "[5 rows x 14 columns]"
            ]
          },
          "metadata": {
            "tags": []
          },
          "execution_count": 113
        }
      ]
    },
    {
      "cell_type": "code",
      "metadata": {
        "colab": {
          "base_uri": "https://localhost:8080/"
        },
        "id": "5E09svLBA0iD",
        "outputId": "0b524db9-edb2-4abf-9635-06ad0d39bd69"
      },
      "source": [
        "np.inf"
      ],
      "execution_count": null,
      "outputs": [
        {
          "output_type": "execute_result",
          "data": {
            "text/plain": [
              "inf"
            ]
          },
          "metadata": {
            "tags": []
          },
          "execution_count": 114
        }
      ]
    },
    {
      "cell_type": "code",
      "metadata": {
        "colab": {
          "base_uri": "https://localhost:8080/"
        },
        "id": "nILAGZyy_GKC",
        "outputId": "91a49ecd-6c93-4c83-f73d-146b5201c6fb"
      },
      "source": [
        "df.fillna(value=0,inplace=True)\n",
        "dftest.fillna(value=0,inplace=True)"
      ],
      "execution_count": 27,
      "outputs": [
        {
          "output_type": "stream",
          "text": [
            "/usr/local/lib/python3.7/dist-packages/pandas/core/frame.py:4327: SettingWithCopyWarning: \n",
            "A value is trying to be set on a copy of a slice from a DataFrame\n",
            "\n",
            "See the caveats in the documentation: https://pandas.pydata.org/pandas-docs/stable/user_guide/indexing.html#returning-a-view-versus-a-copy\n",
            "  downcast=downcast,\n"
          ],
          "name": "stderr"
        }
      ]
    },
    {
      "cell_type": "code",
      "metadata": {
        "id": "xOxRQipcAquD"
      },
      "source": [
        "df['cpa']=[np.max(df['cost']) if y==np.inf else y for y in df.cpa ]"
      ],
      "execution_count": 28,
      "outputs": []
    },
    {
      "cell_type": "code",
      "metadata": {
        "colab": {
          "base_uri": "https://localhost:8080/"
        },
        "id": "W1PwbIkkBGT4",
        "outputId": "70f3c73b-d373-455c-bbed-1c2b8f449f2a"
      },
      "source": [
        "dftest['cpa']=[np.max(df['cost']) if y==np.inf else y for y in dftest.cpa ]"
      ],
      "execution_count": 29,
      "outputs": [
        {
          "output_type": "stream",
          "text": [
            "/usr/local/lib/python3.7/dist-packages/ipykernel_launcher.py:1: SettingWithCopyWarning: \n",
            "A value is trying to be set on a copy of a slice from a DataFrame.\n",
            "Try using .loc[row_indexer,col_indexer] = value instead\n",
            "\n",
            "See the caveats in the documentation: https://pandas.pydata.org/pandas-docs/stable/user_guide/indexing.html#returning-a-view-versus-a-copy\n",
            "  \"\"\"Entry point for launching an IPython kernel.\n"
          ],
          "name": "stderr"
        }
      ]
    },
    {
      "cell_type": "code",
      "metadata": {
        "colab": {
          "base_uri": "https://localhost:8080/",
          "height": 1000
        },
        "id": "QJa1HaQMYkUX",
        "outputId": "b17abd72-1137-4059-f94c-63c96112cec4"
      },
      "source": [
        "tbl_report(df)"
      ],
      "execution_count": null,
      "outputs": [
        {
          "output_type": "stream",
          "text": [
            "Table Shape (4571, 14)\n"
          ],
          "name": "stdout"
        },
        {
          "output_type": "display_data",
          "data": {
            "text/html": [
              "<table border=\"1\" class=\"dataframe\">\n",
              "  <thead>\n",
              "    <tr style=\"text-align: right;\">\n",
              "      <th></th>\n",
              "      <th>dtype</th>\n",
              "      <th>nulls</th>\n",
              "      <th>uniques</th>\n",
              "      <th>num_uniques</th>\n",
              "      <th>value_counts</th>\n",
              "    </tr>\n",
              "  </thead>\n",
              "  <tbody>\n",
              "    <tr>\n",
              "      <th>date</th>\n",
              "      <td>datetime64[ns]</td>\n",
              "      <td>0</td>\n",
              "      <td>[2020-01-08T00:00:00.000000000, 2020-02-08T00:00:00.000000000, 2020-03-08T00:00:00.000000000, 2020-04-08T00:00:00.000000000, 2020-05-08T00:00:00.000000000, 2020-06-08T00:00:00.000000000, 2020-07-08T00:00:00.000000000, 2020-08-08T00:00:00.000000000, 2020-09-08T00:00:00.000000000, 2020-10-08T00:00:00.000000000, 2020-11-08T00:00:00.000000000, 2020-12-08T00:00:00.000000000, 2020-08-13T00:00:00.000000000, 2020-08-14T00:00:00.000000000, 2020-08-15T00:00:00.000000000, 2020-08-16T00:00:00.000000000, 2020-08-17T00:00:00.000000000, 2020-08-18T00:00:00.000000000, 2020-08-19T00:00:00.000000000, 2020-08-20T00:00:00.000000000, 2020-08-21T00:00:00.000000000, 2020-08-22T00:00:00.000000000, 2020-08-23T00:00:00.000000000, 2020-08-24T00:00:00.000000000, 2020-08-25T00:00:00.000000000, 2020-08-26T00:00:00.000000000, 2020-08-27T00:00:00.000000000, 2020-08-28T00:00:00.000000000, 2020-08-29T00:00:00.000000000, 2020-08-30T00:00:00.000000000, 2020-08-31T00:00:00.000000000, 2020-01-09T00:00:00.000000000, 2020-02-09T00:00:00.000000000, 2020-03-09T00:00:00.000000000, 2020-04-09T00:00:00.000000000, 2020-05-09T00:00:00.000000000, 2020-06-09T00:00:00.000000000, 2020-07-09T00:00:00.000000000, 2020-08-09T00:00:00.000000000, 2020-09-09T00:00:00.000000000, 2020-10-09T00:00:00.000000000, 2020-11-09T00:00:00.000000000, 2020-12-09T00:00:00.000000000, 2020-09-13T00:00:00.000000000, 2020-09-14T00:00:00.000000000, 2020-09-15T00:00:00.000000000, 2020-09-16T00:00:00.000000000, 2020-09-17T00:00:00.000000000, 2020-09-18T00:00:00.000000000, 2020-09-19T00:00:00.000000000, 2020-09-20T00:00:00.000000000, 2020-09-21T00:00:00.000000000, 2020-09-22T00:00:00.000000000, 2020-09-23T00:00:00.000000000, 2020-09-24T00:00:00.000000000, 2020-09-25T00:00:00.000000000, 2020-09-26T00:00:00.000000000, 2020-09-27T00:00:00.000000000, 2020-09-28T00:00:00.000000000, 2020-09-29T00:00:00.000000000, 2020-09-30T00:00:00.000000000, 2020-01-10T00:00:00.000000000, 2020-02-10T00:00:00.000000000, 2020-03-10T00:00:00.000000000, 2020-04-10T00:00:00.000000000, 2020-05-10T00:00:00.000000000, 2020-06-10T00:00:00.000000000, 2020-07-10T00:00:00.000000000, 2020-08-10T00:00:00.000000000, 2020-09-10T00:00:00.000000000, 2020-10-10T00:00:00.000000000, 2020-11-10T00:00:00.000000000, 2020-12-10T00:00:00.000000000, 2020-10-13T00:00:00.000000000, 2020-10-14T00:00:00.000000000, 2020-10-15T00:00:00.000000000, 2020-10-16T00:00:00.000000000, 2020-10-17T00:00:00.000000000, 2020-10-18T00:00:00.000000000, 2020-10-19T00:00:00.000000000, 2020-10-20T00:00:00.000000000, 2020-10-21T00:00:00.000000000, 2020-10-22T00:00:00.000000000, 2020-10-23T00:00:00.000000000, 2020-10-24T00:00:00.000000000, 2020-10-25T00:00:00.000000000, 2020-10-26T00:00:00.000000000, 2020-10-27T00:00:00.000000000, 2020-10-28T00:00:00.000000000, 2020-10-29T00:00:00.000000000, 2020-10-30T00:00:00.000000000, 2020-10-31T00:00:00.000000000, 2020-01-11T00:00:00.000000000, 2020-02-11T00:00:00.000000000, 2020-03-11T00:00:00.000000000, 2020-04-11T00:00:00.000000000, 2020-05-11T00:00:00.000000000, 2020-06-11T00:00:00.000000000, 2020-07-11T00:00:00.000000000, 2020-08-11T00:00:00.000000000, ...]</td>\n",
              "      <td>212</td>\n",
              "      <td>NA</td>\n",
              "    </tr>\n",
              "    <tr>\n",
              "      <th>adgroup</th>\n",
              "      <td>int64</td>\n",
              "      <td>0</td>\n",
              "      <td>[1, 2, 3, 4]</td>\n",
              "      <td>4</td>\n",
              "      <td>3:1672<br>1:1314<br>4:858<br>2:727</td>\n",
              "    </tr>\n",
              "    <tr>\n",
              "      <th>ad</th>\n",
              "      <td>int64</td>\n",
              "      <td>0</td>\n",
              "      <td>[1, 2, 3, 4, 5, 6, 7, 8, 9, 10, 11, 12, 13, 14, 15, 16, 17, 18, 19, 20, 21, 22, 23, 24, 25, 26, 27, 28, 29, 30, 31, 32, 33, 34, 35, 36, 37, 38, 39, 40, 41, 42, 43, 44, 45, 46, 47, 48, 49, 50, 51, 52, 53, 54, 55, 56, 57, 58, 59, 60, 61, 62, 63, 64, 65, 66, 67, 68, 69, 70]</td>\n",
              "      <td>70</td>\n",
              "      <td>NA</td>\n",
              "    </tr>\n",
              "    <tr>\n",
              "      <th>impressions</th>\n",
              "      <td>int64</td>\n",
              "      <td>0</td>\n",
              "      <td>[24, 1, 13, 5, 247, 7, 6, 129, 104, 4, 39, 17, 253, 16, 26, 250, 261, 329, 2, 21, 197, 11, 105, 62, 10, 258, 31, 243, 212, 3, 245, 12, 49, 304, 9, 140, 116, 68, 22, 218, 138, 15, 19, 40, 272, 131, 128, 54, 297, 25, 216, 173, 144, 8, 309, 163, 142, 55, 20, 278, 34, 18, 256, 44, 443, 148, 201, 52, 14, 282, 60, 489, 158, 190, 48, 291, 524, 206, 66, 348, 45, 440, 169, 241, 71, 311, 23, 496, 89, 70, 280, 75, 324, 81, 442, 117, 152, 61, 289, 47, ...]</td>\n",
              "      <td>571</td>\n",
              "      <td>NA</td>\n",
              "    </tr>\n",
              "    <tr>\n",
              "      <th>clicks</th>\n",
              "      <td>int64</td>\n",
              "      <td>0</td>\n",
              "      <td>[6, 0, 4, 126, 2, 3, 52, 56, 5, 16, 128, 10, 114, 123, 130, 8, 112, 1, 68, 40, 139, 9, 14, 117, 79, 140, 13, 7, 156, 60, 46, 39, 129, 95, 73, 78, 18, 37, 54, 21, 161, 11, 122, 64, 67, 155, 84, 28, 150, 15, 138, 211, 71, 27, 154, 250, 76, 59, 30, 179, 23, 136, 237, 96, 31, 119, 12, 203, 75, 33, 148, 35, 146, 36, 229, 92, 132, 34, 149, 210, 38, 85, 32, 135, 22, 165, 61, 118, 218, 53, 17, 125, 24, 191, 86, 29, 47, 93, 109, 142, ...]</td>\n",
              "      <td>355</td>\n",
              "      <td>NA</td>\n",
              "    </tr>\n",
              "    <tr>\n",
              "      <th>cost</th>\n",
              "      <td>float64</td>\n",
              "      <td>0</td>\n",
              "      <td>[0.08, 0.0, 0.04, 1.29, 0.05, 0.58, 0.56, 0.22, 0.06, 1.32, 0.07, 0.1, 1.17, 1.27, 1.4, 0.02, 0.09, 0.18, 1.18, 0.01, 0.69, 0.46, 0.44, 1.43, 0.15, 1.21, 0.86, 1.44, 0.13, 1.75, 0.64, 0.03, 0.41, 1.38, 1.04, 0.78, 0.88, 0.21, 1.54, 0.62, 0.23, 1.72, 0.12, 1.33, 0.75, 0.85, 1.73, 0.9, 0.42, 0.35, 1.61, 0.11, 0.16, 1.52, 0.28, 2.48, 0.74, 0.34, 1.7, 0.32, 1.42, 2.69, 0.66, 0.33, 1.9, 0.26, 0.14, 1.46, 2.81, 1.09, 1.28, 1.58, 2.36, 0.82, 0.36, 1.53, 0.37, 0.4, 0.98, 0.3, 1.41, 1.59, 0.29, 2.29, 0.43, 1.0, 0.27, 1.87, 0.71, 1.3, 0.38, 2.41, 0.59, 0.2, 2.12, 0.97, 0.77, 0.52, 1.05, 1.5, ...]</td>\n",
              "      <td>810</td>\n",
              "      <td>NA</td>\n",
              "    </tr>\n",
              "    <tr>\n",
              "      <th>conversions</th>\n",
              "      <td>int64</td>\n",
              "      <td>0</td>\n",
              "      <td>[0, 4, 2, 3, 9, 1, 5, 6, 7, 8, 10, 19, 12, 16, 23, 22, 15, 14, 24, 36, 18, 40, 61, 47, 82, 91, 11, 17, 44, 27, 28, 74, 71, 63, 42, 37, 85, 13, 39, 48, 56, 68, 94, 43, 79, 59, 34, 26, 52]</td>\n",
              "      <td>49</td>\n",
              "      <td>0:3213<br>1:542<br>2:234<br>3:117<br>4:105<br>6:79<br>5:76<br>7:48<br>9:35<br>8:28<br>10:11<br>12:7<br>11:7<br>14:7<br>23:6<br>19:5<br>13:4<br>15:3<br>22:3<br>27:3<br>18:3<br>17:3<br>16:2<br>36:2<br>82:2<br>40:2<br>47:2<br>26:1<br>52:1<br>71:1<br>63:1<br>94:1<br>24:1<br>28:1<br>44:1<br>48:1<br>68:1<br>56:1<br>34:1<br>59:1<br>43:1<br>74:1<br>37:1<br>61:1<br>85:1<br>39:1<br>42:1<br>79:1<br>91:1</td>\n",
              "    </tr>\n",
              "    <tr>\n",
              "      <th>weekday</th>\n",
              "      <td>int64</td>\n",
              "      <td>0</td>\n",
              "      <td>[2, 5, 6, 4, 0, 1, 3]</td>\n",
              "      <td>7</td>\n",
              "      <td>5:688<br>3:671<br>6:671<br>2:657<br>4:652<br>0:630<br>1:602</td>\n",
              "    </tr>\n",
              "    <tr>\n",
              "      <th>day</th>\n",
              "      <td>int64</td>\n",
              "      <td>0</td>\n",
              "      <td>[8, 13, 14, 15, 16, 17, 18, 19, 20, 21, 22, 23, 24, 25, 26, 27, 28, 29, 30, 31, 9, 10, 11, 12, 1, 2]</td>\n",
              "      <td>26</td>\n",
              "      <td>11:329<br>12:323<br>1:286<br>2:278<br>8:233<br>10:200<br>9:194<br>23:168<br>22:156<br>18:156<br>19:156<br>17:156<br>25:155<br>21:154<br>20:151<br>24:151<br>14:150<br>16:146<br>15:142<br>27:138<br>28:136<br>26:133<br>29:132<br>13:132<br>30:128<br>31:88</td>\n",
              "    </tr>\n",
              "    <tr>\n",
              "      <th>month</th>\n",
              "      <td>int64</td>\n",
              "      <td>0</td>\n",
              "      <td>[1, 2, 3, 4, 5, 6, 7, 8, 9, 10, 11, 12]</td>\n",
              "      <td>12</td>\n",
              "      <td>12:653<br>1:632<br>10:561<br>11:519<br>2:514<br>9:462<br>8:458<br>4:167<br>3:154<br>6:152<br>5:151<br>7:148</td>\n",
              "    </tr>\n",
              "    <tr>\n",
              "      <th>year</th>\n",
              "      <td>int64</td>\n",
              "      <td>0</td>\n",
              "      <td>[2020, 2021]</td>\n",
              "      <td>2</td>\n",
              "      <td>2020:3175<br>2021:1396</td>\n",
              "    </tr>\n",
              "    <tr>\n",
              "      <th>ctr</th>\n",
              "      <td>float64</td>\n",
              "      <td>0</td>\n",
              "      <td>[0.25, 0.0, 0.3076923076923077, 0.8, 0.5101214574898786, 0.2857142857142857, 0.5, 0.40310077519379844, 0.5384615384615384, 0.8333333333333334, 0.41025641025641024, 0.35294117647058826, 0.5059288537549407, 0.375, 0.38461538461538464, 0.4, 0.456, 0.47126436781609193, 0.3951367781155015, 1.0, 0.38095238095238093, 0.7619047619047619, 0.3333333333333333, 0.5685279187817259, 0.45454545454545453, 0.5271317829457365, 0.6451612903225806, 0.5387596899224806, 0.5294117647058824, 0.45161290322580644, 0.48148148148148145, 0.2, 0.37264150943396224, 0.6666666666666666, 0.5714285714285714, 0.2653061224489796, 0.5131578947368421, 0.42857142857142855, 0.39655172413793105, 0.5735294117647058, 0.36363636363636365, 0.43577981651376146, 0.5289855072463768, 0.39593908629441626, 0.3157894736842105, 0.45, 0.5110294117647058, 0.2824427480916031, 0.421875, 0.3888888888888889, 0.5420875420875421, 0.44, 0.5648148148148148, 0.3699421965317919, 0.4652777777777778, 0.358974358974359, 0.5016181229773463, 0.5153374233128835, 0.2605633802816901, 0.509090909090909, 0.539568345323741, 0.875, 0.4411764705882353, 0.5390625, 0.47058823529411764, 0.4772727272727273, 0.3, 0.4762979683972912, 0.4797297297297297, 0.5192307692307693, 0.35714285714285715, 0.5185185185185185, 0.4444444444444444, 0.46099290780141844, 0.47368421052631576, 0.23333333333333334, 0.14285714285714285, 0.5112474437627812, 0.4810126582278481, 0.3105263157894737, 0.5454545454545454, 0.5888157894736842, 0.4791666666666667, 0.625, 0.46735395189003437, 0.29411764705882354, 0.45229007633587787, 0.46601941747572817, 0.6, 0.4696969696969697, 0.7142857142857143, 0.46484375, 0.47619047619047616, 0.43103448275862066, 0.631578947368421, 0.3111111111111111, 0.17647058823529413, 0.46136363636363636, 0.4437869822485207, 0.5311203319502075, ...]</td>\n",
              "      <td>1316</td>\n",
              "      <td>NA</td>\n",
              "    </tr>\n",
              "    <tr>\n",
              "      <th>cpc</th>\n",
              "      <td>float64</td>\n",
              "      <td>0</td>\n",
              "      <td>[0.013333333333333334, 0.0, 0.01, 0.02, 0.010238095238095239, 0.016666666666666666, 0.011153846153846153, 0.01375, 0.0103125, 0.011666666666666667, 0.010263157894736842, 0.01032520325203252, 0.010769230769230769, 0.01125, 0.010535714285714285, 0.010147058823529412, 0.0125, 0.0115, 0.011, 0.010287769784172661, 0.011111111111111112, 0.010714285714285714, 0.010341880341880341, 0.010886075949367089, 0.010285714285714285, 0.011217948717948718, 0.010666666666666666, 0.012173913043478262, 0.010512820512820513, 0.01069767441860465, 0.018, 0.010947368421052633, 0.010684931506849316, 0.011282051282051283, 0.012, 0.011666666666666665, 0.011079136690647482, 0.015, 0.012432432432432434, 0.011481481481481481, 0.010952380952380953, 0.010683229813664596, 0.012857142857142857, 0.010909090909090908, 0.010901639344262295, 0.01171875, 0.012686567164179104, 0.011161290322580645, 0.011351351351351352, 0.012499999999999999, 0.010733333333333334, 0.015714285714285715, 0.011014492753623189, 0.011753554502369668, 0.010422535211267606, 0.011194029850746268, 0.012592592592592593, 0.01103896103896104, 0.011428571428571429, 0.010923076923076923, 0.01076, 0.011578947368421053, 0.011186440677966102, 0.011000000000000001, 0.010614525139664804, 0.011304347826086957, 0.014000000000000002, 0.010735294117647058, 0.011856540084388186, 0.01076923076923077, 0.011354166666666667, 0.01032258064516129, 0.010756302521008404, 0.010533333333333334, 0.010833333333333334, 0.011625615763546798, 0.010933333333333333, 0.011171875, 0.010337837837837838, 0.010571428571428572, 0.013000000000000001, 0.010479452054794522, 0.012222222222222223, 0.010829694323144104, 0.010652173913043479, 0.010681818181818181, 0.011764705882352941, 0.010671140939597316, 0.01074074074074074, 0.012307692307692308, 0.0175, 0.010904761904761905, 0.016, 0.01131578947368421, 0.010410958904109589, 0.010303030303030303, 0.012272727272727274, 0.011333333333333334, 0.012727272727272728, 0.011833333333333333, ...]</td>\n",
              "      <td>1877</td>\n",
              "      <td>NA</td>\n",
              "    </tr>\n",
              "    <tr>\n",
              "      <th>cpa</th>\n",
              "      <td>float64</td>\n",
              "      <td>0</td>\n",
              "      <td>[531.25, 0.0, 0.3225, 0.66, 0.38999999999999996, 0.3175, 0.4666666666666666, 0.1311111111111111, 0.46, 0.44, 0.3575, 0.1, 0.605, 0.172, 1.44, 0.19444444444444445, 0.64, 0.09, 0.22999999999999998, 1.04, 0.26, 0.88, 0.21, 0.385, 0.03, 0.23, 0.24571428571428572, 1.33, 0.75, 0.425, 0.05, 0.28833333333333333, 0.45, 0.175, 0.805, 1.52, 0.35428571428571426, 1.42, 0.035, 0.08, 0.538, 0.2714285714285714, 1.46, 0.4014285714285714, 0.14, 0.36333333333333334, 0.16, 0.32, 1.58, 0.33714285714285713, 0.21857142857142858, 0.37, 0.765, 0.62, 0.2, 0.49, 0.3525, 0.4, 0.53, 0.12, 0.29, 0.28625, 0.43, 1.0, 0.33, 0.21714285714285714, 0.11333333333333334, 0.72, 0.27, 0.3116666666666667, 0.028000000000000004, 0.71, 0.18, 0.65, 0.3442857142857143, 0.36, 0.59, 0.645, 0.35333333333333333, 0.485, 0.34, 0.153, 0.105, 0.77, 0.075, 0.23399999999999999, 1.5, 0.8, 0.192, 0.362, 0.6, 0.2333333333333333, 0.38, 0.07, 0.27166666666666667, 0.52, 0.85, 0.815, 0.57, 0.51, ...]</td>\n",
              "      <td>878</td>\n",
              "      <td>NA</td>\n",
              "    </tr>\n",
              "  </tbody>\n",
              "</table>"
            ],
            "text/plain": [
              "<IPython.core.display.HTML object>"
            ]
          },
          "metadata": {
            "tags": []
          }
        }
      ]
    },
    {
      "cell_type": "code",
      "metadata": {
        "id": "la-Verdr7s-2",
        "colab": {
          "base_uri": "https://localhost:8080/"
        },
        "outputId": "a3bbfaa5-48db-4b26-c201-dc8836b6fced"
      },
      "source": [
        "df.drop('date',axis=1,inplace=True)\n",
        "dftest.drop(\"date\",axis=1,inplace=True)"
      ],
      "execution_count": 30,
      "outputs": [
        {
          "output_type": "stream",
          "text": [
            "/usr/local/lib/python3.7/dist-packages/pandas/core/frame.py:4174: SettingWithCopyWarning: \n",
            "A value is trying to be set on a copy of a slice from a DataFrame\n",
            "\n",
            "See the caveats in the documentation: https://pandas.pydata.org/pandas-docs/stable/user_guide/indexing.html#returning-a-view-versus-a-copy\n",
            "  errors=errors,\n"
          ],
          "name": "stderr"
        }
      ]
    },
    {
      "cell_type": "code",
      "metadata": {
        "id": "o2pUueMxehmv"
      },
      "source": [
        "st=StandardScaler()\n",
        "#df[df.columns]=st.fit_transform(df[df.columns])\n",
        "#dftest[dftest.columns]=st.transform(dftest[dftest.columns])"
      ],
      "execution_count": null,
      "outputs": []
    },
    {
      "cell_type": "code",
      "metadata": {
        "colab": {
          "base_uri": "https://localhost:8080/",
          "height": 203
        },
        "id": "iqcvxUuLfWPQ",
        "outputId": "2d3dc15f-1079-4d32-e321-c51205e5a3da"
      },
      "source": [
        "df.head()"
      ],
      "execution_count": null,
      "outputs": [
        {
          "output_type": "execute_result",
          "data": {
            "text/html": [
              "<div>\n",
              "<style scoped>\n",
              "    .dataframe tbody tr th:only-of-type {\n",
              "        vertical-align: middle;\n",
              "    }\n",
              "\n",
              "    .dataframe tbody tr th {\n",
              "        vertical-align: top;\n",
              "    }\n",
              "\n",
              "    .dataframe thead th {\n",
              "        text-align: right;\n",
              "    }\n",
              "</style>\n",
              "<table border=\"1\" class=\"dataframe\">\n",
              "  <thead>\n",
              "    <tr style=\"text-align: right;\">\n",
              "      <th></th>\n",
              "      <th>adgroup</th>\n",
              "      <th>ad</th>\n",
              "      <th>impressions</th>\n",
              "      <th>clicks</th>\n",
              "      <th>cost</th>\n",
              "      <th>conversions</th>\n",
              "      <th>weekday</th>\n",
              "      <th>day</th>\n",
              "      <th>month</th>\n",
              "      <th>year</th>\n",
              "      <th>ctr</th>\n",
              "      <th>cpc</th>\n",
              "      <th>cpa</th>\n",
              "    </tr>\n",
              "  </thead>\n",
              "  <tbody>\n",
              "    <tr>\n",
              "      <th>0</th>\n",
              "      <td>1</td>\n",
              "      <td>1</td>\n",
              "      <td>24</td>\n",
              "      <td>6</td>\n",
              "      <td>0.08</td>\n",
              "      <td>0</td>\n",
              "      <td>2</td>\n",
              "      <td>8</td>\n",
              "      <td>1</td>\n",
              "      <td>2020</td>\n",
              "      <td>0.250000</td>\n",
              "      <td>0.013333</td>\n",
              "      <td>531.2500</td>\n",
              "    </tr>\n",
              "    <tr>\n",
              "      <th>1</th>\n",
              "      <td>2</td>\n",
              "      <td>1</td>\n",
              "      <td>1</td>\n",
              "      <td>0</td>\n",
              "      <td>0.00</td>\n",
              "      <td>0</td>\n",
              "      <td>2</td>\n",
              "      <td>8</td>\n",
              "      <td>1</td>\n",
              "      <td>2020</td>\n",
              "      <td>0.000000</td>\n",
              "      <td>0.000000</td>\n",
              "      <td>0.0000</td>\n",
              "    </tr>\n",
              "    <tr>\n",
              "      <th>2</th>\n",
              "      <td>3</td>\n",
              "      <td>1</td>\n",
              "      <td>13</td>\n",
              "      <td>4</td>\n",
              "      <td>0.04</td>\n",
              "      <td>0</td>\n",
              "      <td>2</td>\n",
              "      <td>8</td>\n",
              "      <td>1</td>\n",
              "      <td>2020</td>\n",
              "      <td>0.307692</td>\n",
              "      <td>0.010000</td>\n",
              "      <td>531.2500</td>\n",
              "    </tr>\n",
              "    <tr>\n",
              "      <th>3</th>\n",
              "      <td>4</td>\n",
              "      <td>1</td>\n",
              "      <td>5</td>\n",
              "      <td>4</td>\n",
              "      <td>0.08</td>\n",
              "      <td>0</td>\n",
              "      <td>2</td>\n",
              "      <td>8</td>\n",
              "      <td>1</td>\n",
              "      <td>2020</td>\n",
              "      <td>0.800000</td>\n",
              "      <td>0.020000</td>\n",
              "      <td>531.2500</td>\n",
              "    </tr>\n",
              "    <tr>\n",
              "      <th>4</th>\n",
              "      <td>1</td>\n",
              "      <td>2</td>\n",
              "      <td>247</td>\n",
              "      <td>126</td>\n",
              "      <td>1.29</td>\n",
              "      <td>4</td>\n",
              "      <td>2</td>\n",
              "      <td>8</td>\n",
              "      <td>1</td>\n",
              "      <td>2020</td>\n",
              "      <td>0.510121</td>\n",
              "      <td>0.010238</td>\n",
              "      <td>0.3225</td>\n",
              "    </tr>\n",
              "  </tbody>\n",
              "</table>\n",
              "</div>"
            ],
            "text/plain": [
              "   adgroup  ad  impressions  clicks  ...  year       ctr       cpc       cpa\n",
              "0        1   1           24       6  ...  2020  0.250000  0.013333  531.2500\n",
              "1        2   1            1       0  ...  2020  0.000000  0.000000    0.0000\n",
              "2        3   1           13       4  ...  2020  0.307692  0.010000  531.2500\n",
              "3        4   1            5       4  ...  2020  0.800000  0.020000  531.2500\n",
              "4        1   2          247     126  ...  2020  0.510121  0.010238    0.3225\n",
              "\n",
              "[5 rows x 13 columns]"
            ]
          },
          "metadata": {
            "tags": []
          },
          "execution_count": 121
        }
      ]
    },
    {
      "cell_type": "code",
      "metadata": {
        "colab": {
          "base_uri": "https://localhost:8080/",
          "height": 203
        },
        "id": "UzhgNzngfess",
        "outputId": "1d6ba33a-ffae-4f97-f9b6-6991516247ef"
      },
      "source": [
        "dftest.head()"
      ],
      "execution_count": null,
      "outputs": [
        {
          "output_type": "execute_result",
          "data": {
            "text/html": [
              "<div>\n",
              "<style scoped>\n",
              "    .dataframe tbody tr th:only-of-type {\n",
              "        vertical-align: middle;\n",
              "    }\n",
              "\n",
              "    .dataframe tbody tr th {\n",
              "        vertical-align: top;\n",
              "    }\n",
              "\n",
              "    .dataframe thead th {\n",
              "        text-align: right;\n",
              "    }\n",
              "</style>\n",
              "<table border=\"1\" class=\"dataframe\">\n",
              "  <thead>\n",
              "    <tr style=\"text-align: right;\">\n",
              "      <th></th>\n",
              "      <th>adgroup</th>\n",
              "      <th>ad</th>\n",
              "      <th>impressions</th>\n",
              "      <th>clicks</th>\n",
              "      <th>cost</th>\n",
              "      <th>conversions</th>\n",
              "      <th>weekday</th>\n",
              "      <th>day</th>\n",
              "      <th>month</th>\n",
              "      <th>year</th>\n",
              "      <th>ctr</th>\n",
              "      <th>cpc</th>\n",
              "      <th>cpa</th>\n",
              "    </tr>\n",
              "  </thead>\n",
              "  <tbody>\n",
              "    <tr>\n",
              "      <th>0</th>\n",
              "      <td>1</td>\n",
              "      <td>1</td>\n",
              "      <td>121</td>\n",
              "      <td>49</td>\n",
              "      <td>0.58</td>\n",
              "      <td>1</td>\n",
              "      <td>6</td>\n",
              "      <td>3</td>\n",
              "      <td>1</td>\n",
              "      <td>2021</td>\n",
              "      <td>0.404959</td>\n",
              "      <td>0.011837</td>\n",
              "      <td>0.58</td>\n",
              "    </tr>\n",
              "    <tr>\n",
              "      <th>1</th>\n",
              "      <td>3</td>\n",
              "      <td>1</td>\n",
              "      <td>22</td>\n",
              "      <td>12</td>\n",
              "      <td>0.17</td>\n",
              "      <td>0</td>\n",
              "      <td>6</td>\n",
              "      <td>3</td>\n",
              "      <td>1</td>\n",
              "      <td>2021</td>\n",
              "      <td>0.545455</td>\n",
              "      <td>0.014167</td>\n",
              "      <td>531.25</td>\n",
              "    </tr>\n",
              "    <tr>\n",
              "      <th>2</th>\n",
              "      <td>4</td>\n",
              "      <td>1</td>\n",
              "      <td>5</td>\n",
              "      <td>3</td>\n",
              "      <td>0.05</td>\n",
              "      <td>0</td>\n",
              "      <td>6</td>\n",
              "      <td>3</td>\n",
              "      <td>1</td>\n",
              "      <td>2021</td>\n",
              "      <td>0.600000</td>\n",
              "      <td>0.016667</td>\n",
              "      <td>531.25</td>\n",
              "    </tr>\n",
              "    <tr>\n",
              "      <th>3</th>\n",
              "      <td>2</td>\n",
              "      <td>1</td>\n",
              "      <td>2</td>\n",
              "      <td>1</td>\n",
              "      <td>0.01</td>\n",
              "      <td>0</td>\n",
              "      <td>6</td>\n",
              "      <td>3</td>\n",
              "      <td>1</td>\n",
              "      <td>2021</td>\n",
              "      <td>0.500000</td>\n",
              "      <td>0.010000</td>\n",
              "      <td>531.25</td>\n",
              "    </tr>\n",
              "    <tr>\n",
              "      <th>4</th>\n",
              "      <td>2</td>\n",
              "      <td>2</td>\n",
              "      <td>3</td>\n",
              "      <td>1</td>\n",
              "      <td>0.01</td>\n",
              "      <td>0</td>\n",
              "      <td>6</td>\n",
              "      <td>3</td>\n",
              "      <td>1</td>\n",
              "      <td>2021</td>\n",
              "      <td>0.333333</td>\n",
              "      <td>0.010000</td>\n",
              "      <td>531.25</td>\n",
              "    </tr>\n",
              "  </tbody>\n",
              "</table>\n",
              "</div>"
            ],
            "text/plain": [
              "   adgroup  ad  impressions  clicks  ...  year       ctr       cpc     cpa\n",
              "0        1   1          121      49  ...  2021  0.404959  0.011837    0.58\n",
              "1        3   1           22      12  ...  2021  0.545455  0.014167  531.25\n",
              "2        4   1            5       3  ...  2021  0.600000  0.016667  531.25\n",
              "3        2   1            2       1  ...  2021  0.500000  0.010000  531.25\n",
              "4        2   2            3       1  ...  2021  0.333333  0.010000  531.25\n",
              "\n",
              "[5 rows x 13 columns]"
            ]
          },
          "metadata": {
            "tags": []
          },
          "execution_count": 122
        }
      ]
    },
    {
      "cell_type": "code",
      "metadata": {
        "id": "KmVa85_uY0IA"
      },
      "source": [
        "y=train['revenue']"
      ],
      "execution_count": 31,
      "outputs": []
    },
    {
      "cell_type": "code",
      "metadata": {
        "colab": {
          "base_uri": "https://localhost:8080/"
        },
        "id": "8GVnvMZKZMgI",
        "outputId": "ae0271b8-d85a-4c6c-a5fa-a034baf79009"
      },
      "source": [
        "X_train, X_test, y_train, y_test = train_test_split(df, y, test_size=0.30, random_state=40)\n",
        "print(X_train.shape); print(X_test.shape)"
      ],
      "execution_count": 32,
      "outputs": [
        {
          "output_type": "stream",
          "text": [
            "(3167, 13)\n",
            "(1358, 13)\n"
          ],
          "name": "stdout"
        }
      ]
    },
    {
      "cell_type": "code",
      "metadata": {
        "id": "yb1Xdlda8GLv",
        "colab": {
          "base_uri": "https://localhost:8080/"
        },
        "outputId": "b44dd145-d861-4131-8b3b-7bcc1d2ea347"
      },
      "source": [
        "import lightgbm as lgb\n",
        "\n",
        "params = {\n",
        "        \"objective\" : \"regression\",\n",
        "        \"metric\" : \"rmse\", \n",
        "        \n",
        "        \"learning_rate\" : 0.01,\n",
        "        \"bagging_fraction\" : 0.8,\n",
        "        \n",
        "        \"bagging_frequency\" : 5,\n",
        "        \"bagging_seed\" : 40,\n",
        "        \"verbosity\" : -1\n",
        "    }\n",
        "\n",
        "lgb_train = lgb.Dataset(X_train, label=y_train)\n",
        "lgb_val = lgb.Dataset(X_test, label=y_test)\n",
        "\n",
        "\n",
        "model = lgb.train(params, lgb_train, 1000, valid_sets=[lgb_val], early_stopping_rounds=400, verbose_eval=100)\n",
        "y_pred = model.predict(X_test, num_iteration=model.best_iteration)"
      ],
      "execution_count": null,
      "outputs": [
        {
          "output_type": "stream",
          "text": [
            "Training until validation scores don't improve for 400 rounds.\n",
            "[100]\tvalid_0's rmse: 395.218\n",
            "[200]\tvalid_0's rmse: 300.589\n",
            "[300]\tvalid_0's rmse: 309.208\n",
            "[400]\tvalid_0's rmse: 315.899\n",
            "[500]\tvalid_0's rmse: 314.525\n",
            "[600]\tvalid_0's rmse: 299.452\n",
            "[700]\tvalid_0's rmse: 292.317\n",
            "[800]\tvalid_0's rmse: 293.357\n",
            "[900]\tvalid_0's rmse: 297.121\n",
            "[1000]\tvalid_0's rmse: 301.232\n",
            "Did not meet early stopping. Best iteration is:\n",
            "[716]\tvalid_0's rmse: 292.093\n"
          ],
          "name": "stdout"
        }
      ]
    },
    {
      "cell_type": "code",
      "metadata": {
        "id": "7IzUWym_Jmrz",
        "colab": {
          "base_uri": "https://localhost:8080/"
        },
        "outputId": "a48a4c54-f783-4d8d-b0c7-cd768ed147d4"
      },
      "source": [
        "mse = mean_squared_error(y_test, y_pred)\n",
        "print(\"MSE: %.2f\" % mse)\n",
        "\n",
        "print(\"RMSE: %.2f\" % (mse**(1/2.0)))"
      ],
      "execution_count": null,
      "outputs": [
        {
          "output_type": "stream",
          "text": [
            "MSE: 85318.13\n",
            "RMSE: 292.09\n"
          ],
          "name": "stdout"
        }
      ]
    },
    {
      "cell_type": "code",
      "metadata": {
        "colab": {
          "base_uri": "https://localhost:8080/"
        },
        "id": "wsdz2cK11HA7",
        "outputId": "b7abe9d0-3ac6-41e0-8ae7-6de71fe89d89"
      },
      "source": [
        "from sklearn.model_selection import cross_val_score\n",
        "xgbr = xgb.XGBRegressor(verbosity=0) \n",
        "print(xgbr)\n",
        "XGBRegressor(base_score=0.5, booster='gbtree', colsample_bylevel=1,\n",
        "       colsample_bynode=1, colsample_bytree=1, gamma=0,\n",
        "       importance_type='gain', learning_rate=0.1, max_delta_step=0,\n",
        "       max_depth=3, min_child_weight=1, missing=None, n_estimators=100,\n",
        "       n_jobs=1, nthread=None, objective='reg:linear', random_state=0,\n",
        "       reg_alpha=0, reg_lambda=1, scale_pos_weight=1, seed=None,\n",
        "       silent=None, subsample=1, verbosity=1)\n",
        "xgbr.fit(X_train, y_train)\n",
        "scores = cross_val_score(xgbr, X_train, y_train,cv=10)\n",
        "print(\"Mean cross-validation score: %.2f\" % scores.mean())\n",
        "\n"
      ],
      "execution_count": null,
      "outputs": [
        {
          "output_type": "stream",
          "text": [
            "XGBRegressor(base_score=0.5, booster='gbtree', colsample_bylevel=1,\n",
            "             colsample_bynode=1, colsample_bytree=1, gamma=0,\n",
            "             importance_type='gain', learning_rate=0.1, max_delta_step=0,\n",
            "             max_depth=3, min_child_weight=1, missing=None, n_estimators=100,\n",
            "             n_jobs=1, nthread=None, objective='reg:linear', random_state=0,\n",
            "             reg_alpha=0, reg_lambda=1, scale_pos_weight=1, seed=None,\n",
            "             silent=None, subsample=1, verbosity=0)\n",
            "Mean cross-validation score: 0.93\n"
          ],
          "name": "stdout"
        }
      ]
    },
    {
      "cell_type": "code",
      "metadata": {
        "colab": {
          "base_uri": "https://localhost:8080/"
        },
        "id": "p51cl9jN8kPq",
        "outputId": "c8b47e06-7c95-436b-d00a-00b834dc0bec"
      },
      "source": [
        "ypred = xgbr.predict(X_test)\n",
        "mse = mean_squared_error(y_test, ypred)\n",
        "print(\"MSE: %.2f\" % mse)\n",
        "\n",
        "print(\"RMSE: %.2f\" % (mse**(1/2.0)))"
      ],
      "execution_count": null,
      "outputs": [
        {
          "output_type": "stream",
          "text": [
            "MSE: 98457.89\n",
            "RMSE: 313.78\n"
          ],
          "name": "stdout"
        }
      ]
    },
    {
      "cell_type": "code",
      "metadata": {
        "colab": {
          "base_uri": "https://localhost:8080/"
        },
        "id": "BghuNZkscRBW",
        "outputId": "77c9a47b-2c48-46ae-9f0b-0ff42816445c"
      },
      "source": [
        "model = Sequential()\n",
        "model.add(Dense(5000, input_dim=13, activation= \"selu\"))\n",
        "model.add(Dense(500, activation= \"selu\"))\n",
        "model.add(Dense(100, activation= \"selu\"))\n",
        "model.add(Dense(1))\n",
        "model.summary()"
      ],
      "execution_count": 33,
      "outputs": [
        {
          "output_type": "stream",
          "text": [
            "Model: \"sequential\"\n",
            "_________________________________________________________________\n",
            "Layer (type)                 Output Shape              Param #   \n",
            "=================================================================\n",
            "dense (Dense)                (None, 5000)              70000     \n",
            "_________________________________________________________________\n",
            "dense_1 (Dense)              (None, 500)               2500500   \n",
            "_________________________________________________________________\n",
            "dense_2 (Dense)              (None, 100)               50100     \n",
            "_________________________________________________________________\n",
            "dense_3 (Dense)              (None, 1)                 101       \n",
            "=================================================================\n",
            "Total params: 2,620,701\n",
            "Trainable params: 2,620,701\n",
            "Non-trainable params: 0\n",
            "_________________________________________________________________\n"
          ],
          "name": "stdout"
        }
      ]
    },
    {
      "cell_type": "code",
      "metadata": {
        "colab": {
          "base_uri": "https://localhost:8080/"
        },
        "id": "Fg8e5cvMctOE",
        "outputId": "f29ac06a-a360-4144-9137-a11e67e7b323"
      },
      "source": [
        "model.compile(loss= \"mean_squared_error\" , optimizer=\"adam\", metrics=[\"mean_squared_error\"])\n",
        "model.fit(X_train, y_train, epochs=100)"
      ],
      "execution_count": 56,
      "outputs": [
        {
          "output_type": "stream",
          "text": [
            "Epoch 1/100\n",
            "99/99 [==============================] - 3s 28ms/step - loss: 10380.5686 - mean_squared_error: 10380.5686\n",
            "Epoch 2/100\n",
            "99/99 [==============================] - 3s 28ms/step - loss: 11281.5731 - mean_squared_error: 11281.5731\n",
            "Epoch 3/100\n",
            "99/99 [==============================] - 3s 28ms/step - loss: 11503.9378 - mean_squared_error: 11503.9378\n",
            "Epoch 4/100\n",
            "99/99 [==============================] - 3s 28ms/step - loss: 13157.8284 - mean_squared_error: 13157.8284\n",
            "Epoch 5/100\n",
            "99/99 [==============================] - 3s 28ms/step - loss: 12539.6395 - mean_squared_error: 12539.6395\n",
            "Epoch 6/100\n",
            "99/99 [==============================] - 3s 28ms/step - loss: 15004.1280 - mean_squared_error: 15004.1280\n",
            "Epoch 7/100\n",
            "99/99 [==============================] - 3s 28ms/step - loss: 13079.2742 - mean_squared_error: 13079.2742\n",
            "Epoch 8/100\n",
            "99/99 [==============================] - 3s 28ms/step - loss: 10194.7004 - mean_squared_error: 10194.7004\n",
            "Epoch 9/100\n",
            "99/99 [==============================] - 3s 28ms/step - loss: 10656.5091 - mean_squared_error: 10656.5091\n",
            "Epoch 10/100\n",
            "99/99 [==============================] - 3s 28ms/step - loss: 13909.0951 - mean_squared_error: 13909.0951\n",
            "Epoch 11/100\n",
            "99/99 [==============================] - 3s 28ms/step - loss: 12132.9272 - mean_squared_error: 12132.9272\n",
            "Epoch 12/100\n",
            "99/99 [==============================] - 3s 28ms/step - loss: 10703.2717 - mean_squared_error: 10703.2717\n",
            "Epoch 13/100\n",
            "99/99 [==============================] - 3s 28ms/step - loss: 12587.4408 - mean_squared_error: 12587.4408\n",
            "Epoch 14/100\n",
            "99/99 [==============================] - 3s 28ms/step - loss: 12596.6159 - mean_squared_error: 12596.6159\n",
            "Epoch 15/100\n",
            "99/99 [==============================] - 3s 28ms/step - loss: 8894.1790 - mean_squared_error: 8894.1790\n",
            "Epoch 16/100\n",
            "99/99 [==============================] - 3s 28ms/step - loss: 11335.9967 - mean_squared_error: 11335.9967\n",
            "Epoch 17/100\n",
            "99/99 [==============================] - 3s 29ms/step - loss: 12309.1449 - mean_squared_error: 12309.1449\n",
            "Epoch 18/100\n",
            "99/99 [==============================] - 3s 29ms/step - loss: 13192.3852 - mean_squared_error: 13192.3852\n",
            "Epoch 19/100\n",
            "99/99 [==============================] - 3s 28ms/step - loss: 12204.2276 - mean_squared_error: 12204.2276\n",
            "Epoch 20/100\n",
            "99/99 [==============================] - 3s 29ms/step - loss: 12616.0631 - mean_squared_error: 12616.0631\n",
            "Epoch 21/100\n",
            "99/99 [==============================] - 3s 28ms/step - loss: 11909.3582 - mean_squared_error: 11909.3582\n",
            "Epoch 22/100\n",
            "99/99 [==============================] - 3s 28ms/step - loss: 10406.4919 - mean_squared_error: 10406.4919\n",
            "Epoch 23/100\n",
            "99/99 [==============================] - 3s 28ms/step - loss: 13558.4628 - mean_squared_error: 13558.4628\n",
            "Epoch 24/100\n",
            "99/99 [==============================] - 3s 28ms/step - loss: 11536.0289 - mean_squared_error: 11536.0289\n",
            "Epoch 25/100\n",
            "99/99 [==============================] - 3s 28ms/step - loss: 9569.3038 - mean_squared_error: 9569.3038\n",
            "Epoch 26/100\n",
            "99/99 [==============================] - 3s 28ms/step - loss: 10907.1429 - mean_squared_error: 10907.1429\n",
            "Epoch 27/100\n",
            "99/99 [==============================] - 3s 28ms/step - loss: 14402.9651 - mean_squared_error: 14402.9651\n",
            "Epoch 28/100\n",
            "99/99 [==============================] - 3s 29ms/step - loss: 8998.3741 - mean_squared_error: 8998.3741\n",
            "Epoch 29/100\n",
            "99/99 [==============================] - 3s 28ms/step - loss: 12957.5512 - mean_squared_error: 12957.5512\n",
            "Epoch 30/100\n",
            "99/99 [==============================] - 3s 29ms/step - loss: 9667.7228 - mean_squared_error: 9667.7228\n",
            "Epoch 31/100\n",
            "99/99 [==============================] - 3s 28ms/step - loss: 9746.1193 - mean_squared_error: 9746.1193\n",
            "Epoch 32/100\n",
            "99/99 [==============================] - 3s 29ms/step - loss: 12061.7821 - mean_squared_error: 12061.7821\n",
            "Epoch 33/100\n",
            "99/99 [==============================] - 3s 28ms/step - loss: 9918.0584 - mean_squared_error: 9918.0584\n",
            "Epoch 34/100\n",
            "99/99 [==============================] - 3s 28ms/step - loss: 12238.7902 - mean_squared_error: 12238.7902\n",
            "Epoch 35/100\n",
            "99/99 [==============================] - 3s 28ms/step - loss: 8973.6279 - mean_squared_error: 8973.6279\n",
            "Epoch 36/100\n",
            "99/99 [==============================] - 3s 28ms/step - loss: 12101.6746 - mean_squared_error: 12101.6746\n",
            "Epoch 37/100\n",
            "99/99 [==============================] - 3s 28ms/step - loss: 11857.6113 - mean_squared_error: 11857.6113\n",
            "Epoch 38/100\n",
            "99/99 [==============================] - 3s 28ms/step - loss: 9855.4524 - mean_squared_error: 9855.4524\n",
            "Epoch 39/100\n",
            "99/99 [==============================] - 3s 29ms/step - loss: 9842.4778 - mean_squared_error: 9842.4778\n",
            "Epoch 40/100\n",
            "99/99 [==============================] - 3s 28ms/step - loss: 9333.0430 - mean_squared_error: 9333.0430\n",
            "Epoch 41/100\n",
            "99/99 [==============================] - 3s 29ms/step - loss: 9204.6180 - mean_squared_error: 9204.6180\n",
            "Epoch 42/100\n",
            "99/99 [==============================] - 3s 28ms/step - loss: 11354.1601 - mean_squared_error: 11354.1601\n",
            "Epoch 43/100\n",
            "99/99 [==============================] - 3s 29ms/step - loss: 9265.8928 - mean_squared_error: 9265.8928\n",
            "Epoch 44/100\n",
            "99/99 [==============================] - 3s 28ms/step - loss: 12943.7712 - mean_squared_error: 12943.7712\n",
            "Epoch 45/100\n",
            "99/99 [==============================] - 3s 28ms/step - loss: 11652.4711 - mean_squared_error: 11652.4711\n",
            "Epoch 46/100\n",
            "99/99 [==============================] - 3s 28ms/step - loss: 10760.5992 - mean_squared_error: 10760.5992\n",
            "Epoch 47/100\n",
            "99/99 [==============================] - 3s 28ms/step - loss: 10941.2481 - mean_squared_error: 10941.2481\n",
            "Epoch 48/100\n",
            "99/99 [==============================] - 3s 29ms/step - loss: 10811.3881 - mean_squared_error: 10811.3881\n",
            "Epoch 49/100\n",
            "99/99 [==============================] - 3s 29ms/step - loss: 10300.5433 - mean_squared_error: 10300.5433\n",
            "Epoch 50/100\n",
            "99/99 [==============================] - 3s 28ms/step - loss: 9712.9311 - mean_squared_error: 9712.9311\n",
            "Epoch 51/100\n",
            "99/99 [==============================] - 3s 28ms/step - loss: 10316.2354 - mean_squared_error: 10316.2354\n",
            "Epoch 52/100\n",
            "99/99 [==============================] - 3s 28ms/step - loss: 14123.6871 - mean_squared_error: 14123.6871\n",
            "Epoch 53/100\n",
            "99/99 [==============================] - 3s 28ms/step - loss: 9597.0654 - mean_squared_error: 9597.0654\n",
            "Epoch 54/100\n",
            "99/99 [==============================] - 3s 28ms/step - loss: 11470.1634 - mean_squared_error: 11470.1634\n",
            "Epoch 55/100\n",
            "99/99 [==============================] - 3s 28ms/step - loss: 9659.4635 - mean_squared_error: 9659.4635\n",
            "Epoch 56/100\n",
            "99/99 [==============================] - 3s 28ms/step - loss: 13021.6015 - mean_squared_error: 13021.6015\n",
            "Epoch 57/100\n",
            "99/99 [==============================] - 3s 28ms/step - loss: 11041.4178 - mean_squared_error: 11041.4178\n",
            "Epoch 58/100\n",
            "99/99 [==============================] - 3s 28ms/step - loss: 9086.9049 - mean_squared_error: 9086.9049\n",
            "Epoch 59/100\n",
            "99/99 [==============================] - 3s 28ms/step - loss: 10262.2525 - mean_squared_error: 10262.2525\n",
            "Epoch 60/100\n",
            "99/99 [==============================] - 3s 29ms/step - loss: 9229.3053 - mean_squared_error: 9229.3053\n",
            "Epoch 61/100\n",
            "99/99 [==============================] - 3s 28ms/step - loss: 12513.6929 - mean_squared_error: 12513.6929\n",
            "Epoch 62/100\n",
            "99/99 [==============================] - 3s 29ms/step - loss: 10649.7262 - mean_squared_error: 10649.7262\n",
            "Epoch 63/100\n",
            "99/99 [==============================] - 3s 29ms/step - loss: 9302.0784 - mean_squared_error: 9302.0784\n",
            "Epoch 64/100\n",
            "99/99 [==============================] - 3s 28ms/step - loss: 11304.0808 - mean_squared_error: 11304.0808\n",
            "Epoch 65/100\n",
            "99/99 [==============================] - 3s 29ms/step - loss: 10298.1962 - mean_squared_error: 10298.1962\n",
            "Epoch 66/100\n",
            "99/99 [==============================] - 3s 29ms/step - loss: 11317.8651 - mean_squared_error: 11317.8651\n",
            "Epoch 67/100\n",
            "99/99 [==============================] - 3s 28ms/step - loss: 9692.5941 - mean_squared_error: 9692.5941\n",
            "Epoch 68/100\n",
            "99/99 [==============================] - 3s 28ms/step - loss: 8995.0134 - mean_squared_error: 8995.0134\n",
            "Epoch 69/100\n",
            "99/99 [==============================] - 3s 28ms/step - loss: 8930.2498 - mean_squared_error: 8930.2498\n",
            "Epoch 70/100\n",
            "99/99 [==============================] - 3s 29ms/step - loss: 9257.2172 - mean_squared_error: 9257.2172\n",
            "Epoch 71/100\n",
            "99/99 [==============================] - 3s 28ms/step - loss: 10018.0866 - mean_squared_error: 10018.0866\n",
            "Epoch 72/100\n",
            "99/99 [==============================] - 3s 28ms/step - loss: 10303.5211 - mean_squared_error: 10303.5211\n",
            "Epoch 73/100\n",
            "99/99 [==============================] - 3s 28ms/step - loss: 10957.2678 - mean_squared_error: 10957.2678\n",
            "Epoch 74/100\n",
            "99/99 [==============================] - 3s 29ms/step - loss: 11696.4674 - mean_squared_error: 11696.4674\n",
            "Epoch 75/100\n",
            "99/99 [==============================] - 3s 28ms/step - loss: 10191.6855 - mean_squared_error: 10191.6855\n",
            "Epoch 76/100\n",
            "99/99 [==============================] - 3s 29ms/step - loss: 12727.7259 - mean_squared_error: 12727.7259\n",
            "Epoch 77/100\n",
            "99/99 [==============================] - 3s 28ms/step - loss: 13170.1801 - mean_squared_error: 13170.1801\n",
            "Epoch 78/100\n",
            "99/99 [==============================] - 3s 29ms/step - loss: 10789.1853 - mean_squared_error: 10789.1853\n",
            "Epoch 79/100\n",
            "99/99 [==============================] - 3s 28ms/step - loss: 11375.1458 - mean_squared_error: 11375.1458\n",
            "Epoch 80/100\n",
            "99/99 [==============================] - 3s 29ms/step - loss: 10528.3730 - mean_squared_error: 10528.3730\n",
            "Epoch 81/100\n",
            "99/99 [==============================] - 3s 28ms/step - loss: 12107.6421 - mean_squared_error: 12107.6421\n",
            "Epoch 82/100\n",
            "99/99 [==============================] - 3s 28ms/step - loss: 11295.9733 - mean_squared_error: 11295.9733\n",
            "Epoch 83/100\n",
            "99/99 [==============================] - 3s 28ms/step - loss: 13011.0653 - mean_squared_error: 13011.0653\n",
            "Epoch 84/100\n",
            "99/99 [==============================] - 3s 29ms/step - loss: 9049.8660 - mean_squared_error: 9049.8660\n",
            "Epoch 85/100\n",
            "99/99 [==============================] - 3s 28ms/step - loss: 12081.8554 - mean_squared_error: 12081.8554\n",
            "Epoch 86/100\n",
            "99/99 [==============================] - 3s 28ms/step - loss: 8751.3788 - mean_squared_error: 8751.3788\n",
            "Epoch 87/100\n",
            "99/99 [==============================] - 3s 29ms/step - loss: 9225.6338 - mean_squared_error: 9225.6338\n",
            "Epoch 88/100\n",
            "99/99 [==============================] - 3s 29ms/step - loss: 9861.6152 - mean_squared_error: 9861.6152\n",
            "Epoch 89/100\n",
            "99/99 [==============================] - 3s 29ms/step - loss: 12068.6742 - mean_squared_error: 12068.6742\n",
            "Epoch 90/100\n",
            "99/99 [==============================] - 3s 29ms/step - loss: 9960.2354 - mean_squared_error: 9960.2354\n",
            "Epoch 91/100\n",
            "99/99 [==============================] - 3s 29ms/step - loss: 14422.5936 - mean_squared_error: 14422.5936\n",
            "Epoch 92/100\n",
            "99/99 [==============================] - 3s 29ms/step - loss: 11373.7809 - mean_squared_error: 11373.7809\n",
            "Epoch 93/100\n",
            "99/99 [==============================] - 3s 29ms/step - loss: 8458.2932 - mean_squared_error: 8458.2932\n",
            "Epoch 94/100\n",
            "99/99 [==============================] - 3s 29ms/step - loss: 9974.0509 - mean_squared_error: 9974.0509\n",
            "Epoch 95/100\n",
            "99/99 [==============================] - 3s 29ms/step - loss: 12318.5991 - mean_squared_error: 12318.5991\n",
            "Epoch 96/100\n",
            "99/99 [==============================] - 3s 29ms/step - loss: 8262.9182 - mean_squared_error: 8262.9182\n",
            "Epoch 97/100\n",
            "99/99 [==============================] - 3s 29ms/step - loss: 8025.6790 - mean_squared_error: 8025.6790\n",
            "Epoch 98/100\n",
            "99/99 [==============================] - 3s 29ms/step - loss: 9606.5303 - mean_squared_error: 9606.5303\n",
            "Epoch 99/100\n",
            "99/99 [==============================] - 3s 29ms/step - loss: 10254.8043 - mean_squared_error: 10254.8043\n",
            "Epoch 100/100\n",
            "99/99 [==============================] - 3s 28ms/step - loss: 10421.2365 - mean_squared_error: 10421.2365\n"
          ],
          "name": "stdout"
        },
        {
          "output_type": "execute_result",
          "data": {
            "text/plain": [
              "<keras.callbacks.History at 0x7fb4ef377750>"
            ]
          },
          "metadata": {
            "tags": []
          },
          "execution_count": 56
        }
      ]
    },
    {
      "cell_type": "code",
      "metadata": {
        "colab": {
          "base_uri": "https://localhost:8080/"
        },
        "id": "l4rmBZ4Mc4AP",
        "outputId": "35eb11a0-242e-47ff-d1a2-6bea1e0e18ae"
      },
      "source": [
        "pred_train= model.predict(X_train)\n",
        "print(np.sqrt(mean_squared_error(y_train,pred_train)))\n",
        "\n",
        "pred= model.predict(X_test)\n",
        "print(np.sqrt(mean_squared_error(y_test,pred))) "
      ],
      "execution_count": 57,
      "outputs": [
        {
          "output_type": "stream",
          "text": [
            "97.54254254927356\n",
            "165.9167955102846\n"
          ],
          "name": "stdout"
        }
      ]
    },
    {
      "cell_type": "code",
      "metadata": {
        "colab": {
          "base_uri": "https://localhost:8080/"
        },
        "id": "LnC3_5tqLo_k",
        "outputId": "098d7dbb-3227-479f-bfa3-e1cfed84fe5f"
      },
      "source": [
        "param_grid = {'learning_rate': [0.1, 0.01],\n",
        "              'max_depth': [3, 8],\n",
        "              'min_samples_leaf': [3, 5],  ## depends on the num of training examples\n",
        "              'max_features': [0.2, 0.6]\n",
        "              }\n",
        "from sklearn.model_selection import GridSearchCV\n",
        "gb = GradientBoostingRegressor(n_estimators=600, loss='lad')\n",
        "gb_cv = GridSearchCV(gb, param_grid, cv=5, n_jobs=-1)\n",
        "gb_cv.fit(X_train, y_train)\n",
        "bstg=gb_cv.best_estimator_\n",
        "pred_train= bstg.predict(X_train)\n",
        "print(np.sqrt(mean_squared_error(y_train,pred_train)))\n",
        "\n",
        "pred= bstg.predict(X_test)\n",
        "print(np.sqrt(mean_squared_error(y_test,pred))) "
      ],
      "execution_count": 43,
      "outputs": [
        {
          "output_type": "stream",
          "text": [
            "122.93819788060797\n",
            "141.52312460445972\n"
          ],
          "name": "stdout"
        }
      ]
    },
    {
      "cell_type": "code",
      "metadata": {
        "id": "FEjB-lIvQtCb",
        "colab": {
          "base_uri": "https://localhost:8080/"
        },
        "outputId": "5d142bcc-d5dc-4a88-b71f-2c670abee89b"
      },
      "source": [
        "\n",
        "from sklearn.ensemble import RandomForestRegressor\n",
        "rf=RandomForestRegressor(random_state=1)\n",
        "params={'max_depth':range(3,9),'n_estimators':range(100,400,20),'max_features':[3,4,5,6],'bootstrap': [True],'criterion': ['mse']}\n",
        "from sklearn.model_selection import RandomizedSearchCV\n",
        "rf_random = RandomizedSearchCV(estimator = rf, param_distributions = params, n_iter = 80, cv = 5, verbose=2, random_state=1, n_jobs = -1)\n",
        "rf_random.fit(X_train,y_train)"
      ],
      "execution_count": 44,
      "outputs": [
        {
          "output_type": "stream",
          "text": [
            "Fitting 5 folds for each of 80 candidates, totalling 400 fits\n"
          ],
          "name": "stdout"
        },
        {
          "output_type": "stream",
          "text": [
            "[Parallel(n_jobs=-1)]: Using backend LokyBackend with 2 concurrent workers.\n",
            "[Parallel(n_jobs=-1)]: Done  37 tasks      | elapsed:   17.0s\n",
            "[Parallel(n_jobs=-1)]: Done 158 tasks      | elapsed:  1.3min\n",
            "[Parallel(n_jobs=-1)]: Done 361 tasks      | elapsed:  3.0min\n",
            "[Parallel(n_jobs=-1)]: Done 400 out of 400 | elapsed:  3.3min finished\n"
          ],
          "name": "stderr"
        },
        {
          "output_type": "execute_result",
          "data": {
            "text/plain": [
              "RandomizedSearchCV(cv=5, error_score=nan,\n",
              "                   estimator=RandomForestRegressor(bootstrap=True,\n",
              "                                                   ccp_alpha=0.0,\n",
              "                                                   criterion='mse',\n",
              "                                                   max_depth=None,\n",
              "                                                   max_features='auto',\n",
              "                                                   max_leaf_nodes=None,\n",
              "                                                   max_samples=None,\n",
              "                                                   min_impurity_decrease=0.0,\n",
              "                                                   min_impurity_split=None,\n",
              "                                                   min_samples_leaf=1,\n",
              "                                                   min_samples_split=2,\n",
              "                                                   min_weight_fraction_leaf=0.0,\n",
              "                                                   n_estimators=100,\n",
              "                                                   n_jobs=None, oob_score=False,\n",
              "                                                   random_state=1, verbose=0,\n",
              "                                                   warm_start=False),\n",
              "                   iid='deprecated', n_iter=80, n_jobs=-1,\n",
              "                   param_distributions={'bootstrap': [True],\n",
              "                                        'criterion': ['mse'],\n",
              "                                        'max_depth': range(3, 9),\n",
              "                                        'max_features': [3, 4, 5, 6],\n",
              "                                        'n_estimators': range(100, 400, 20)},\n",
              "                   pre_dispatch='2*n_jobs', random_state=1, refit=True,\n",
              "                   return_train_score=False, scoring=None, verbose=2)"
            ]
          },
          "metadata": {
            "tags": []
          },
          "execution_count": 44
        }
      ]
    },
    {
      "cell_type": "code",
      "metadata": {
        "id": "ST5XDmitXj78",
        "colab": {
          "base_uri": "https://localhost:8080/"
        },
        "outputId": "1e3d1209-d9f7-4330-8087-b3626bdacb1c"
      },
      "source": [
        "pred_train= rf_random.predict(X_train)\n",
        "print(np.sqrt(mean_squared_error(y_train,pred_train)))\n",
        "\n",
        "pred= rf_random.predict(X_test)\n",
        "print(np.sqrt(mean_squared_error(y_test,pred))) "
      ],
      "execution_count": 45,
      "outputs": [
        {
          "output_type": "stream",
          "text": [
            "83.56781875981227\n",
            "144.88047293476407\n"
          ],
          "name": "stdout"
        }
      ]
    },
    {
      "cell_type": "code",
      "metadata": {
        "id": "ddpGqzrt3xmi",
        "colab": {
          "base_uri": "https://localhost:8080/"
        },
        "outputId": "4d089582-b494-4768-dcff-b5b4a433eb3d"
      },
      "source": [
        "\n",
        "from sklearn.tree import DecisionTreeRegressor\n",
        "rf=DecisionTreeRegressor(random_state=1)\n",
        "params={'max_depth':range(3,9),'min_samples_leaf':[3,2,5],'criterion': ['mse']}\n",
        "rf_random = RandomizedSearchCV(estimator = rf, param_distributions = params, n_iter = 80, cv = 5, verbose=2, random_state=1, n_jobs = -1)\n",
        "rf_random.fit(X_train,y_train)"
      ],
      "execution_count": 46,
      "outputs": [
        {
          "output_type": "stream",
          "text": [
            "Fitting 5 folds for each of 18 candidates, totalling 90 fits\n"
          ],
          "name": "stdout"
        },
        {
          "output_type": "stream",
          "text": [
            "/usr/local/lib/python3.7/dist-packages/sklearn/model_selection/_search.py:281: UserWarning: The total space of parameters 18 is smaller than n_iter=80. Running 18 iterations. For exhaustive searches, use GridSearchCV.\n",
            "  % (grid_size, self.n_iter, grid_size), UserWarning)\n",
            "[Parallel(n_jobs=-1)]: Using backend LokyBackend with 2 concurrent workers.\n",
            "[Parallel(n_jobs=-1)]: Done  81 tasks      | elapsed:    0.8s\n",
            "[Parallel(n_jobs=-1)]: Done  90 out of  90 | elapsed:    0.9s finished\n"
          ],
          "name": "stderr"
        },
        {
          "output_type": "execute_result",
          "data": {
            "text/plain": [
              "RandomizedSearchCV(cv=5, error_score=nan,\n",
              "                   estimator=DecisionTreeRegressor(ccp_alpha=0.0,\n",
              "                                                   criterion='mse',\n",
              "                                                   max_depth=None,\n",
              "                                                   max_features=None,\n",
              "                                                   max_leaf_nodes=None,\n",
              "                                                   min_impurity_decrease=0.0,\n",
              "                                                   min_impurity_split=None,\n",
              "                                                   min_samples_leaf=1,\n",
              "                                                   min_samples_split=2,\n",
              "                                                   min_weight_fraction_leaf=0.0,\n",
              "                                                   presort='deprecated',\n",
              "                                                   random_state=1,\n",
              "                                                   splitter='best'),\n",
              "                   iid='deprecated', n_iter=80, n_jobs=-1,\n",
              "                   param_distributions={'criterion': ['mse'],\n",
              "                                        'max_depth': range(3, 9),\n",
              "                                        'min_samples_leaf': [3, 2, 5]},\n",
              "                   pre_dispatch='2*n_jobs', random_state=1, refit=True,\n",
              "                   return_train_score=False, scoring=None, verbose=2)"
            ]
          },
          "metadata": {
            "tags": []
          },
          "execution_count": 46
        }
      ]
    },
    {
      "cell_type": "code",
      "metadata": {
        "id": "3ZTJ-si14RMK",
        "colab": {
          "base_uri": "https://localhost:8080/"
        },
        "outputId": "ea159902-8a36-458a-e0df-9792e58f92a3"
      },
      "source": [
        "pred_train= rf_random.predict(X_train)\n",
        "print(np.sqrt(mean_squared_error(y_train,pred_train)))\n",
        "\n",
        "pred= rf_random.predict(X_test)\n",
        "print(np.sqrt(mean_squared_error(y_test,pred))) "
      ],
      "execution_count": 47,
      "outputs": [
        {
          "output_type": "stream",
          "text": [
            "134.4080536766543\n",
            "148.72767695159365\n"
          ],
          "name": "stdout"
        }
      ]
    },
    {
      "cell_type": "code",
      "metadata": {
        "id": "MVCDDuaMktAn"
      },
      "source": [
        "test['revenue']=model.predict(dftest)"
      ],
      "execution_count": 58,
      "outputs": []
    },
    {
      "cell_type": "code",
      "metadata": {
        "id": "mh8cfdPBl5LK"
      },
      "source": [
        "test['revenue']=[y if y>0 else 0 for y in test.revenue]"
      ],
      "execution_count": 59,
      "outputs": []
    },
    {
      "cell_type": "code",
      "metadata": {
        "id": "sh-j1iIDmksT"
      },
      "source": [
        "sample_sub=pd.read_csv(\"/content/Sample_Submission.csv\")"
      ],
      "execution_count": 60,
      "outputs": []
    },
    {
      "cell_type": "code",
      "metadata": {
        "id": "vo9Q756LnCoo"
      },
      "source": [
        "sample_sub['revenue']=test['revenue']"
      ],
      "execution_count": 62,
      "outputs": []
    },
    {
      "cell_type": "code",
      "metadata": {
        "id": "XoSoKUARnEkh"
      },
      "source": [
        "sample_sub.to_csv(\"/content/Submission.csv\")"
      ],
      "execution_count": 63,
      "outputs": []
    },
    {
      "cell_type": "code",
      "metadata": {
        "id": "e5oYLdZ_nN7p"
      },
      "source": [
        ""
      ],
      "execution_count": null,
      "outputs": []
    }
  ]
}